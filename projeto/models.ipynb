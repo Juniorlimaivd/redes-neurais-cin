{
 "cells": [
  {
   "cell_type": "markdown",
   "metadata": {},
   "source": [
    "# MLP"
   ]
  },
  {
   "cell_type": "code",
   "execution_count": 1,
   "metadata": {},
   "outputs": [
    {
     "name": "stderr",
     "output_type": "stream",
     "text": [
      "Using TensorFlow backend.\n"
     ]
    }
   ],
   "source": [
    "import numpy as np\n",
    "\n",
    "import tensorflow as tf\n",
    "from tensorflow.keras.models import Sequential\n",
    "from tensorflow.keras.layers import Dense, Activation, Dropout\n",
    "from tensorflow.keras.callbacks import EarlyStopping\n",
    "from tensorflow.keras.optimizers import Adam, RMSprop, SGD\n",
    "\n",
    "from hyperopt import Trials, STATUS_OK, tpe\n",
    "from hyperas import optim\n",
    "from hyperas.distributions import choice, uniform"
   ]
  },
  {
   "cell_type": "code",
   "execution_count": 2,
   "metadata": {},
   "outputs": [],
   "source": [
    "def data():\n",
    "    X_train = np.load(\"X_train.npy\")\n",
    "    y_train = np.load(\"y_train.npy\")\n",
    "    X_val = np.load(\"X_val.npy\")\n",
    "    y_val = np.load(\"y_val.npy\")\n",
    "    \n",
    "    return X_train, y_train, X_val, y_val"
   ]
  },
  {
   "cell_type": "code",
   "execution_count": 3,
   "metadata": {},
   "outputs": [],
   "source": [
    "def model(X_train, y_train, X_val, y_val):\n",
    "    model = Sequential()\n",
    "    model.add(Dense({{choice([128, 256, 512, 1024])}}, input_shape=(243,)))\n",
    "    model.add(Activation({{choice(['relu', 'sigmoid', 'tanh'])}}))\n",
    "    model.add(Dropout({{uniform(0, 1)}}))\n",
    "    model.add(Dense({{choice([128, 256, 512, 1024])}}))\n",
    "    model.add(Activation({{choice(['relu', 'sigmoid', 'tanh'])}}))\n",
    "    model.add(Dropout({{uniform(0, 1)}}))\n",
    "    \n",
    "    if conditional({{choice(['two', 'three'])}}) == 'three':\n",
    "        model.add(Dense({{choice([128, 256, 512, 1024])}}))\n",
    "        model.add(Activation({{choice(['relu', 'sigmoid', 'tanh'])}}))\n",
    "        model.add(Dropout({{uniform(0, 1)}}))\n",
    "        \n",
    "    model.add(Dense(1))\n",
    "    model.add(Activation('sigmoid'))\n",
    "    \n",
    "    adam = Adam(lr={{choice([10**-3, 10**-2, 10**-1])}})\n",
    "    rmsprop = RMSprop(lr={{choice([10**-3, 10**-2, 10**-1])}})\n",
    "    sgd = SGD(lr={{choice([10**-3, 10**-2, 10**-1])}})\n",
    "    \n",
    "    choice_optimizer = {{choice(['adam', 'rmsprop', 'sgd'])}}\n",
    "    if choice_optimizer == 'adam':\n",
    "        optimizer = adam\n",
    "    elif choice_optimizer == 'rmsprop':\n",
    "        optimizer = rmsprop\n",
    "    elif choice_optimizer == 'sgd':\n",
    "        optimizer = sgd\n",
    "        \n",
    "    model.compile(optimizer=optimizer,\n",
    "                  loss='binary_crossentropy',\n",
    "                  metrics=['accuracy'])\n",
    "    \n",
    "    model.fit(X_train, y_train,\n",
    "              batch_size={{choice([128, 256, 512])}},\n",
    "              epochs=100,\n",
    "              verbose=1,\n",
    "              validation_data=(X_val, y_val))\n",
    "    \n",
    "    score, acc = model.evaluate(X_val, y_val, verbose=0)\n",
    "    print('Test accuracy: {}'.format(acc))\n",
    "    \n",
    "    return {'loss': -acc, 'status': STATUS_OK, 'model': model}"
   ]
  },
  {
   "cell_type": "code",
   "execution_count": 3,
   "metadata": {},
   "outputs": [],
   "source": [
    "X_train, y_train, X_val, y_val = data()"
   ]
  },
  {
   "cell_type": "code",
   "execution_count": null,
   "metadata": {},
   "outputs": [
    {
     "name": "stdout",
     "output_type": "stream",
     "text": [
      ">>> Imports:\n",
      "#coding=utf-8\n",
      "\n",
      "try:\n",
      "    import numpy as np\n",
      "except:\n",
      "    pass\n",
      "\n",
      "try:\n",
      "    import tensorflow as tf\n",
      "except:\n",
      "    pass\n",
      "\n",
      "try:\n",
      "    from tensorflow.keras.models import Sequential\n",
      "except:\n",
      "    pass\n",
      "\n",
      "try:\n",
      "    from tensorflow.keras.layers import Dense, Activation, Dropout\n",
      "except:\n",
      "    pass\n",
      "\n",
      "try:\n",
      "    from tensorflow.keras.callbacks import EarlyStopping\n",
      "except:\n",
      "    pass\n",
      "\n",
      "try:\n",
      "    from tensorflow.keras.optimizers import Adam, RMSprop, SGD\n",
      "except:\n",
      "    pass\n",
      "\n",
      "try:\n",
      "    from hyperopt import Trials, STATUS_OK, tpe\n",
      "except:\n",
      "    pass\n",
      "\n",
      "try:\n",
      "    from hyperas import optim\n",
      "except:\n",
      "    pass\n",
      "\n",
      "try:\n",
      "    from hyperas.distributions import choice, uniform\n",
      "except:\n",
      "    pass\n",
      "\n",
      ">>> Hyperas search space:\n",
      "\n",
      "def get_space():\n",
      "    return {\n",
      "        'Dense': hp.choice('Dense', [128, 256, 512, 1024]),\n",
      "        'Activation': hp.choice('Activation', ['relu', 'sigmoid', 'tanh']),\n",
      "        'Dropout': hp.uniform('Dropout', 0, 1),\n",
      "        'Dense_1': hp.choice('Dense_1', [128, 256, 512, 1024]),\n",
      "        'Activation_1': hp.choice('Activation_1', ['relu', 'sigmoid', 'tanh']),\n",
      "        'Dropout_1': hp.uniform('Dropout_1', 0, 1),\n",
      "        'conditional': hp.choice('conditional', ['two', 'three']),\n",
      "        'Dense_2': hp.choice('Dense_2', [128, 256, 512, 1024]),\n",
      "        'Activation_2': hp.choice('Activation_2', ['relu', 'sigmoid', 'tanh']),\n",
      "        'Dropout_2': hp.uniform('Dropout_2', 0, 1),\n",
      "        'lr': hp.choice('lr', [10**-3, 10**-2, 10**-1]),\n",
      "        'lr_1': hp.choice('lr_1', [10**-3, 10**-2, 10**-1]),\n",
      "        'lr_2': hp.choice('lr_2', [10**-3, 10**-2, 10**-1]),\n",
      "        'choice_optimizer': hp.choice('choice_optimizer', ['adam', 'rmsprop', 'sgd']),\n",
      "        'batch_size': hp.choice('batch_size', [128, 256, 512]),\n",
      "    }\n",
      "\n",
      ">>> Data\n",
      "  1: \n",
      "  2: X_train = np.load(\"X_train.npy\")\n",
      "  3: y_train = np.load(\"y_train.npy\")\n",
      "  4: X_val = np.load(\"X_val.npy\")\n",
      "  5: y_val = np.load(\"y_val.npy\")\n",
      "  6: \n",
      "  7: \n",
      "  8: \n",
      "  9: \n",
      ">>> Resulting replaced keras model:\n",
      "\n",
      "   1: def keras_fmin_fnct(space):\n",
      "   2: \n",
      "   3:     model = Sequential()\n",
      "   4:     model.add(Dense(space['Dense'], input_shape=(243,)))\n",
      "   5:     model.add(Activation(space['Activation']))\n",
      "   6:     model.add(Dropout(space['Dropout']))\n",
      "   7:     model.add(Dense(space['Dense_1']))\n",
      "   8:     model.add(Activation(space['Activation_1']))\n",
      "   9:     model.add(Dropout(space['Dropout_1']))\n",
      "  10:     \n",
      "  11:     if conditional(space['conditional']) == 'three':\n",
      "  12:         model.add(Dense(space['Dense_2']))\n",
      "  13:         model.add(Activation(space['Activation_2']))\n",
      "  14:         model.add(Dropout(space['Dropout_2']))\n",
      "  15:         \n",
      "  16:     model.add(Dense(1))\n",
      "  17:     model.add(Activation('sigmoid'))\n",
      "  18:     \n",
      "  19:     adam = Adam(lr=space['lr'])\n",
      "  20:     rmsprop = RMSprop(lr=space['lr_1'])\n",
      "  21:     sgd = SGD(lr=space['lr_2'])\n",
      "  22:     \n",
      "  23:     choice_optimizer = space['choice_optimizer']\n",
      "  24:     if choice_optimizer == 'adam':\n",
      "  25:         optimizer = adam\n",
      "  26:     elif choice_optimizer == 'rmsprop':\n",
      "  27:         optimizer = rmsprop\n",
      "  28:     elif choice_optimizer == 'sgd':\n",
      "  29:         optimizer = sgd\n",
      "  30:         \n",
      "  31:     model.compile(optimizer=optimizer,\n",
      "  32:                   loss='binary_crossentropy',\n",
      "  33:                   metrics=['accuracy'])\n",
      "  34:     \n",
      "  35:     model.fit(X_train, y_train,\n",
      "  36:               batch_size=space['batch_size'],\n",
      "  37:               epochs=100,\n",
      "  38:               verbose=1,\n",
      "  39:               validation_data=(X_val, y_val))\n",
      "  40:     \n",
      "  41:     score, acc = model.evaluate(X_val, y_val, verbose=0)\n",
      "  42:     print('Test accuracy: {}'.format(acc))\n",
      "  43:     \n",
      "  44:     return {'loss': -acc, 'status': STATUS_OK, 'model': model}\n",
      "  45: \n",
      "Train on 255098 samples, validate on 127550 samples\n",
      "Epoch 1/100\n",
      "255098/255098 [==============================] - 8s 32us/step - loss: 0.7597 - acc: 0.4989 - val_loss: 0.7019 - val_acc: 0.5000\n",
      "Epoch 2/100\n",
      "255098/255098 [==============================] - 11s 42us/step - loss: 0.7433 - acc: 0.4999 - val_loss: 0.9564 - val_acc: 0.5000\n",
      "Epoch 3/100\n",
      "255098/255098 [==============================] - 14s 54us/step - loss: 0.6644 - acc: 0.6036 - val_loss: 0.6431 - val_acc: 0.6303\n",
      "Epoch 4/100\n",
      "255098/255098 [==============================] - 13s 50us/step - loss: 0.6403 - acc: 0.6350 - val_loss: 0.6706 - val_acc: 0.6216\n",
      "Epoch 5/100\n",
      "255098/255098 [==============================] - 12s 48us/step - loss: 0.6361 - acc: 0.6415 - val_loss: 0.6384 - val_acc: 0.6334\n",
      "Epoch 6/100\n",
      "255098/255098 [==============================] - 12s 48us/step - loss: 0.6318 - acc: 0.6462 - val_loss: 0.6383 - val_acc: 0.6345\n",
      "Epoch 7/100\n",
      "255098/255098 [==============================] - 12s 48us/step - loss: 0.6269 - acc: 0.6520 - val_loss: 0.6417 - val_acc: 0.6352\n",
      "Epoch 8/100\n",
      "255098/255098 [==============================] - 13s 51us/step - loss: 0.6229 - acc: 0.6576 - val_loss: 0.6426 - val_acc: 0.6321\n",
      "Epoch 9/100\n",
      "255098/255098 [==============================] - 13s 50us/step - loss: 0.6182 - acc: 0.6632 - val_loss: 0.6565 - val_acc: 0.6125\n",
      "Epoch 10/100\n",
      "255098/255098 [==============================] - 14s 53us/step - loss: 0.6131 - acc: 0.6691 - val_loss: 0.6515 - val_acc: 0.6242\n",
      "Epoch 11/100\n",
      "255098/255098 [==============================] - 12s 48us/step - loss: 0.6088 - acc: 0.6742 - val_loss: 0.6452 - val_acc: 0.6255\n",
      "Epoch 12/100\n",
      "255098/255098 [==============================] - 14s 55us/step - loss: 0.6040 - acc: 0.6792 - val_loss: 0.6700 - val_acc: 0.6201\n",
      "Epoch 13/100\n",
      "232704/255098 [==========================>...] - ETA: 1s - loss: 0.5982 - acc: 0.6847"
     ]
    }
   ],
   "source": [
    "best_run, best_model = optim.minimize(model=model,\n",
    "                                      data=data,\n",
    "                                      algo=tpe.suggest,\n",
    "                                      max_evals=50,\n",
    "                                      trials=Trials(),\n",
    "                                      notebook_name='models')"
   ]
  },
  {
   "cell_type": "markdown",
   "metadata": {},
   "source": [
    "# MLP 2"
   ]
  },
  {
   "cell_type": "code",
   "execution_count": 5,
   "metadata": {},
   "outputs": [],
   "source": [
    "from neuro_evolution.evolution import NeuroEvolution\n",
    "\n",
    "params = {\n",
    "    \"epochs\": [10, 20, 50],\n",
    "    \"batch_size\": [128, 256, 512],\n",
    "    \"n_layers\": [1, 2, 3, 4],\n",
    "    \"n_neurons\": [128, 256, 512, 1024],\n",
    "    \"dropout\": [0.1, 0.2, 0.5],\n",
    "    \"optimizers\": [\"rmsprop\", \"adam\", \"sgd\"],\n",
    "    \"activations\": [\"relu\", \"sigmoid\", \"tanh\"],\n",
    "    \"last_layer_activations\": [\"sigmoid\"],\n",
    "    \"losses\": [\"binary_crossentropy\"],\n",
    "    \"metrics\": [\"accuracy\"]\n",
    "}"
   ]
  },
  {
   "cell_type": "code",
   "execution_count": 6,
   "metadata": {},
   "outputs": [],
   "source": [
    "search = NeuroEvolution(generations = 10, population = 10, params=params)"
   ]
  },
  {
   "cell_type": "code",
   "execution_count": 7,
   "metadata": {},
   "outputs": [
    {
     "name": "stderr",
     "output_type": "stream",
     "text": [
      "100%|██████████| 10/10 [1:09:28<00:00, 486.10s/it]\n",
      "100%|██████████| 10/10 [42:17<00:00, 249.69s/it]\n",
      "100%|██████████| 10/10 [24:13<00:00, 144.28s/it]\n",
      "100%|██████████| 10/10 [37:14<00:00, 163.76s/it] \n",
      "100%|██████████| 10/10 [19:58<00:00, 108.91s/it]\n",
      "100%|██████████| 10/10 [12:55<00:00, 104.56s/it]\n",
      "100%|██████████| 10/10 [20:15<00:00, 197.46s/it]\n",
      "100%|██████████| 10/10 [33:44<00:00, 240.13s/it]\n",
      "100%|██████████| 10/10 [29:25<00:00, 164.05s/it]"
     ]
    },
    {
     "name": "stdout",
     "output_type": "stream",
     "text": [
      "[06/Nov/2018 00:04:24] INFO - best accuracy: 0.6453234025862861, best params: {'epochs': 20, 'batch_size': 512, 'n_layers': 2, 'n_neurons': 128, 'dropout': 0.5, 'optimizers': 'adam', 'activations': 'sigmoid', 'last_layer_activations': 'sigmoid', 'losses': 'binary_crossentropy', 'metrics': 'accuracy'}\n"
     ]
    },
    {
     "name": "stderr",
     "output_type": "stream",
     "text": [
      "\n"
     ]
    }
   ],
   "source": [
    "search.evolve(X_train, y_train, X_val, y_val)"
   ]
  },
  {
   "cell_type": "code",
   "execution_count": 8,
   "metadata": {},
   "outputs": [],
   "source": [
    "model = Sequential()\n",
    "model.add(Dense(512, activation='relu', input_dim=243))\n",
    "model.add(Dense(1024, activation='relu'))\n",
    "model.add(Dropout(0.25))\n",
    "model.add(Dense(1024, activation='relu'))\n",
    "model.add(Dropout(0.25))\n",
    "model.add(Dense(512, activation='relu'))\n",
    "model.add(Dense(1, activation='sigmoid'))\n",
    "\n",
    "model.compile(optimizer='rmsprop',\n",
    "              loss='binary_crossentropy',\n",
    "              metrics=['accuracy'])"
   ]
  },
  {
   "cell_type": "code",
   "execution_count": 9,
   "metadata": {},
   "outputs": [
    {
     "name": "stdout",
     "output_type": "stream",
     "text": [
      "Train on 255098 samples, validate on 127550 samples\n",
      "Epoch 1/100\n",
      "255098/255098 [==============================] - 215s 843us/step - loss: 0.6579 - acc: 0.6213 - val_loss: 0.6509 - val_acc: 0.6358\n",
      "Epoch 2/100\n",
      " 93184/255098 [=========>....................] - ETA: 2:12 - loss: 0.6561 - acc: 0.6299"
     ]
    },
    {
     "ename": "KeyboardInterrupt",
     "evalue": "",
     "output_type": "error",
     "traceback": [
      "\u001b[0;31m---------------------------------------------------------------------------\u001b[0m",
      "\u001b[0;31mKeyboardInterrupt\u001b[0m                         Traceback (most recent call last)",
      "\u001b[0;32m<ipython-input-9-a7dd43510e13>\u001b[0m in \u001b[0;36m<module>\u001b[0;34m()\u001b[0m\n\u001b[0;32m----> 1\u001b[0;31m \u001b[0mmodel\u001b[0m\u001b[0;34m.\u001b[0m\u001b[0mfit\u001b[0m\u001b[0;34m(\u001b[0m\u001b[0mX_train\u001b[0m\u001b[0;34m,\u001b[0m \u001b[0my_train\u001b[0m\u001b[0;34m,\u001b[0m \u001b[0mepochs\u001b[0m\u001b[0;34m=\u001b[0m\u001b[0;36m100\u001b[0m\u001b[0;34m,\u001b[0m \u001b[0mbatch_size\u001b[0m\u001b[0;34m=\u001b[0m\u001b[0;36m32\u001b[0m\u001b[0;34m,\u001b[0m \u001b[0mvalidation_data\u001b[0m\u001b[0;34m=\u001b[0m\u001b[0;34m(\u001b[0m\u001b[0mX_val\u001b[0m\u001b[0;34m,\u001b[0m \u001b[0my_val\u001b[0m\u001b[0;34m)\u001b[0m\u001b[0;34m)\u001b[0m\u001b[0;34m\u001b[0m\u001b[0m\n\u001b[0m",
      "\u001b[0;32m/usr/local/lib/python3.6/dist-packages/tensorflow/python/keras/engine/training.py\u001b[0m in \u001b[0;36mfit\u001b[0;34m(self, x, y, batch_size, epochs, verbose, callbacks, validation_split, validation_data, shuffle, class_weight, sample_weight, initial_epoch, steps_per_epoch, validation_steps, **kwargs)\u001b[0m\n\u001b[1;32m   1361\u001b[0m           \u001b[0minitial_epoch\u001b[0m\u001b[0;34m=\u001b[0m\u001b[0minitial_epoch\u001b[0m\u001b[0;34m,\u001b[0m\u001b[0;34m\u001b[0m\u001b[0m\n\u001b[1;32m   1362\u001b[0m           \u001b[0msteps_per_epoch\u001b[0m\u001b[0;34m=\u001b[0m\u001b[0msteps_per_epoch\u001b[0m\u001b[0;34m,\u001b[0m\u001b[0;34m\u001b[0m\u001b[0m\n\u001b[0;32m-> 1363\u001b[0;31m           validation_steps=validation_steps)\n\u001b[0m\u001b[1;32m   1364\u001b[0m \u001b[0;34m\u001b[0m\u001b[0m\n\u001b[1;32m   1365\u001b[0m   def evaluate(self,\n",
      "\u001b[0;32m/usr/local/lib/python3.6/dist-packages/tensorflow/python/keras/engine/training_arrays.py\u001b[0m in \u001b[0;36mfit_loop\u001b[0;34m(model, inputs, targets, sample_weights, batch_size, epochs, verbose, callbacks, val_inputs, val_targets, val_sample_weights, shuffle, callback_metrics, initial_epoch, steps_per_epoch, validation_steps)\u001b[0m\n\u001b[1;32m    262\u001b[0m           \u001b[0mins_batch\u001b[0m\u001b[0;34m[\u001b[0m\u001b[0mi\u001b[0m\u001b[0;34m]\u001b[0m \u001b[0;34m=\u001b[0m \u001b[0mins_batch\u001b[0m\u001b[0;34m[\u001b[0m\u001b[0mi\u001b[0m\u001b[0;34m]\u001b[0m\u001b[0;34m.\u001b[0m\u001b[0mtoarray\u001b[0m\u001b[0;34m(\u001b[0m\u001b[0;34m)\u001b[0m\u001b[0;34m\u001b[0m\u001b[0m\n\u001b[1;32m    263\u001b[0m \u001b[0;34m\u001b[0m\u001b[0m\n\u001b[0;32m--> 264\u001b[0;31m         \u001b[0mouts\u001b[0m \u001b[0;34m=\u001b[0m \u001b[0mf\u001b[0m\u001b[0;34m(\u001b[0m\u001b[0mins_batch\u001b[0m\u001b[0;34m)\u001b[0m\u001b[0;34m\u001b[0m\u001b[0m\n\u001b[0m\u001b[1;32m    265\u001b[0m         \u001b[0;32mif\u001b[0m \u001b[0;32mnot\u001b[0m \u001b[0misinstance\u001b[0m\u001b[0;34m(\u001b[0m\u001b[0mouts\u001b[0m\u001b[0;34m,\u001b[0m \u001b[0mlist\u001b[0m\u001b[0;34m)\u001b[0m\u001b[0;34m:\u001b[0m\u001b[0;34m\u001b[0m\u001b[0m\n\u001b[1;32m    266\u001b[0m           \u001b[0mouts\u001b[0m \u001b[0;34m=\u001b[0m \u001b[0;34m[\u001b[0m\u001b[0mouts\u001b[0m\u001b[0;34m]\u001b[0m\u001b[0;34m\u001b[0m\u001b[0m\n",
      "\u001b[0;32m/usr/local/lib/python3.6/dist-packages/tensorflow/python/keras/backend.py\u001b[0m in \u001b[0;36m__call__\u001b[0;34m(self, inputs)\u001b[0m\n\u001b[1;32m   2912\u001b[0m       \u001b[0mself\u001b[0m\u001b[0;34m.\u001b[0m\u001b[0m_make_callable\u001b[0m\u001b[0;34m(\u001b[0m\u001b[0mfeed_arrays\u001b[0m\u001b[0;34m,\u001b[0m \u001b[0mfeed_symbols\u001b[0m\u001b[0;34m,\u001b[0m \u001b[0msymbol_vals\u001b[0m\u001b[0;34m,\u001b[0m \u001b[0msession\u001b[0m\u001b[0;34m)\u001b[0m\u001b[0;34m\u001b[0m\u001b[0m\n\u001b[1;32m   2913\u001b[0m \u001b[0;34m\u001b[0m\u001b[0m\n\u001b[0;32m-> 2914\u001b[0;31m     \u001b[0mfetched\u001b[0m \u001b[0;34m=\u001b[0m \u001b[0mself\u001b[0m\u001b[0;34m.\u001b[0m\u001b[0m_callable_fn\u001b[0m\u001b[0;34m(\u001b[0m\u001b[0;34m*\u001b[0m\u001b[0marray_vals\u001b[0m\u001b[0;34m)\u001b[0m\u001b[0;34m\u001b[0m\u001b[0m\n\u001b[0m\u001b[1;32m   2915\u001b[0m     \u001b[0mself\u001b[0m\u001b[0;34m.\u001b[0m\u001b[0m_call_fetch_callbacks\u001b[0m\u001b[0;34m(\u001b[0m\u001b[0mfetched\u001b[0m\u001b[0;34m[\u001b[0m\u001b[0;34m-\u001b[0m\u001b[0mlen\u001b[0m\u001b[0;34m(\u001b[0m\u001b[0mself\u001b[0m\u001b[0;34m.\u001b[0m\u001b[0m_fetches\u001b[0m\u001b[0;34m)\u001b[0m\u001b[0;34m:\u001b[0m\u001b[0;34m]\u001b[0m\u001b[0;34m)\u001b[0m\u001b[0;34m\u001b[0m\u001b[0m\n\u001b[1;32m   2916\u001b[0m     \u001b[0;32mreturn\u001b[0m \u001b[0mfetched\u001b[0m\u001b[0;34m[\u001b[0m\u001b[0;34m:\u001b[0m\u001b[0mlen\u001b[0m\u001b[0;34m(\u001b[0m\u001b[0mself\u001b[0m\u001b[0;34m.\u001b[0m\u001b[0moutputs\u001b[0m\u001b[0;34m)\u001b[0m\u001b[0;34m]\u001b[0m\u001b[0;34m\u001b[0m\u001b[0m\n",
      "\u001b[0;32m/usr/local/lib/python3.6/dist-packages/tensorflow/python/client/session.py\u001b[0m in \u001b[0;36m__call__\u001b[0;34m(self, *args, **kwargs)\u001b[0m\n\u001b[1;32m   1380\u001b[0m           ret = tf_session.TF_SessionRunCallable(\n\u001b[1;32m   1381\u001b[0m               \u001b[0mself\u001b[0m\u001b[0;34m.\u001b[0m\u001b[0m_session\u001b[0m\u001b[0;34m.\u001b[0m\u001b[0m_session\u001b[0m\u001b[0;34m,\u001b[0m \u001b[0mself\u001b[0m\u001b[0;34m.\u001b[0m\u001b[0m_handle\u001b[0m\u001b[0;34m,\u001b[0m \u001b[0margs\u001b[0m\u001b[0;34m,\u001b[0m \u001b[0mstatus\u001b[0m\u001b[0;34m,\u001b[0m\u001b[0;34m\u001b[0m\u001b[0m\n\u001b[0;32m-> 1382\u001b[0;31m               run_metadata_ptr)\n\u001b[0m\u001b[1;32m   1383\u001b[0m         \u001b[0;32mif\u001b[0m \u001b[0mrun_metadata\u001b[0m\u001b[0;34m:\u001b[0m\u001b[0;34m\u001b[0m\u001b[0m\n\u001b[1;32m   1384\u001b[0m           \u001b[0mproto_data\u001b[0m \u001b[0;34m=\u001b[0m \u001b[0mtf_session\u001b[0m\u001b[0;34m.\u001b[0m\u001b[0mTF_GetBuffer\u001b[0m\u001b[0;34m(\u001b[0m\u001b[0mrun_metadata_ptr\u001b[0m\u001b[0;34m)\u001b[0m\u001b[0;34m\u001b[0m\u001b[0m\n",
      "\u001b[0;31mKeyboardInterrupt\u001b[0m: "
     ]
    }
   ],
   "source": [
    "model.fit(X_train, y_train, epochs=100, batch_size=32, validation_data=(X_val, y_val))"
   ]
  },
  {
   "cell_type": "code",
   "execution_count": null,
   "metadata": {},
   "outputs": [],
   "source": []
  }
 ],
 "metadata": {
  "kernelspec": {
   "display_name": "Python 3",
   "language": "python",
   "name": "python3"
  },
  "language_info": {
   "codemirror_mode": {
    "name": "ipython",
    "version": 3
   },
   "file_extension": ".py",
   "mimetype": "text/x-python",
   "name": "python",
   "nbconvert_exporter": "python",
   "pygments_lexer": "ipython3",
   "version": "3.6.6"
  }
 },
 "nbformat": 4,
 "nbformat_minor": 2
}
