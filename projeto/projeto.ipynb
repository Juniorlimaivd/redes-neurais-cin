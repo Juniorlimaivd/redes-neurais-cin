{
  "nbformat": 4,
  "nbformat_minor": 0,
  "metadata": {
    "colab": {
      "name": "projeto.ipynb",
      "version": "0.3.2",
      "provenance": [],
      "collapsed_sections": []
    },
    "kernelspec": {
      "name": "python3",
      "display_name": "Python 3"
    },
    "accelerator": "GPU"
  },
  "cells": [
    {
      "metadata": {
        "id": "22FDBji8AVbb",
        "colab_type": "text"
      },
      "cell_type": "markdown",
      "source": [
        "# IF702 - Redes Neurais\n",
        "\n",
        "#### Equipe\n",
        "* Bruno César - bcgs\n",
        "* Franclin Cabral - fcmo\n",
        "* Ítalo Rodrigo Barbosa Paulino - irbp\n",
        "* José Nilton de Oliveira Lima Júnior - jnolj\n",
        "\n",
        "Este notebook contém os scripts executados em cada passo do projeto da disciplina de Redes Neurais."
      ]
    },
    {
      "metadata": {
        "id": "_V1_Nx7F942d",
        "colab_type": "code",
        "outputId": "2afde630-4f1f-4f71-cd55-330f74fc360d",
        "colab": {
          "base_uri": "https://localhost:8080/",
          "height": 160
        }
      },
      "cell_type": "code",
      "source": [
        "!wget http://cin.ufpe.br/~gcv/web_lci/TRN"
      ],
      "execution_count": 0,
      "outputs": [
        {
          "output_type": "stream",
          "text": [
            "--2018-11-21 15:56:57--  http://cin.ufpe.br/~gcv/web_lci/TRN\n",
            "Resolving cin.ufpe.br (cin.ufpe.br)... 150.161.2.9\n",
            "Connecting to cin.ufpe.br (cin.ufpe.br)|150.161.2.9|:80... connected.\n",
            "HTTP request sent, awaiting response... 200 OK\n",
            "Length: 766723352 (731M) [application/vnd.rim.cod]\n",
            "Saving to: ‘TRN’\n",
            "\n",
            "TRN                  33%[=====>              ] 245.10M  12.5MB/s    eta 41s    ^C\n"
          ],
          "name": "stdout"
        }
      ]
    },
    {
      "metadata": {
        "id": "GwaC6c6zAVbh",
        "colab_type": "text"
      },
      "cell_type": "markdown",
      "source": [
        "## Leitura e limpeza dos dados\n",
        "A leitura dos dados é feita utilizando a biblioteca pandas. Os trechos de código que seguem abaixo fazem a leitura do dataset de crédito \"TRN\" e a remoção de features que não nos interessam, mas estão presentes no dataset."
      ]
    },
    {
      "metadata": {
        "id": "ooX48t-jAVbk",
        "colab_type": "code",
        "colab": {}
      },
      "cell_type": "code",
      "source": [
        "DATASET_PATH = \"/content/gdrive/My Drive/Projeto/dataset/\"\n",
        "MODELS_PATH = \"/content/gdrive/My Drive/Projeto/mlp_models/\""
      ],
      "execution_count": 0,
      "outputs": []
    },
    {
      "metadata": {
        "id": "BLJewUO4AVbw",
        "colab_type": "code",
        "outputId": "fe9575d1-a02b-4615-e13b-eea87acda8b7",
        "colab": {
          "base_uri": "https://localhost:8080/",
          "height": 700
        }
      },
      "cell_type": "code",
      "source": [
        "\"\"\"Only for google colab\"\"\"\n",
        "from google.colab import drive\n",
        "drive.mount('/content/gdrive', force_remount=True)\n",
        "!pip3 install git+https://github.com/irbp/neuro-evolution.git\n",
        "!pip3 install -U imbalanced-learn"
      ],
      "execution_count": 3,
      "outputs": [
        {
          "output_type": "stream",
          "text": [
            "Go to this URL in a browser: https://accounts.google.com/o/oauth2/auth?client_id=947318989803-6bn6qk8qdgf4n4g3pfee6491hc0brc4i.apps.googleusercontent.com&redirect_uri=urn%3Aietf%3Awg%3Aoauth%3A2.0%3Aoob&scope=email%20https%3A%2F%2Fwww.googleapis.com%2Fauth%2Fdocs.test%20https%3A%2F%2Fwww.googleapis.com%2Fauth%2Fdrive%20https%3A%2F%2Fwww.googleapis.com%2Fauth%2Fdrive.photos.readonly%20https%3A%2F%2Fwww.googleapis.com%2Fauth%2Fpeopleapi.readonly&response_type=code\n",
            "\n",
            "Enter your authorization code:\n",
            "··········\n",
            "Mounted at /content/gdrive\n",
            "Collecting git+https://github.com/irbp/neuro-evolution.git\n",
            "  Cloning https://github.com/irbp/neuro-evolution.git to /tmp/pip-req-build-8dwx2itt\n",
            "Requirement already satisfied: tqdm in /usr/local/lib/python3.6/dist-packages (from neuro-evolution==0.1) (4.28.1)\n",
            "Requirement already satisfied: numpy in /usr/local/lib/python3.6/dist-packages (from neuro-evolution==0.1) (1.14.6)\n",
            "Collecting logger (from neuro-evolution==0.1)\n",
            "  Downloading https://files.pythonhosted.org/packages/73/2f/b0d28eaa1e2c1cf64129f8da3fe701888d152677fec708cd0f13e8309e1e/logger-1.4.tar.gz\n",
            "Requirement already satisfied: keras in /usr/local/lib/python3.6/dist-packages (from neuro-evolution==0.1) (2.2.4)\n",
            "Requirement already satisfied: keras-preprocessing>=1.0.5 in /usr/local/lib/python3.6/dist-packages (from keras->neuro-evolution==0.1) (1.0.5)\n",
            "Requirement already satisfied: h5py in /usr/local/lib/python3.6/dist-packages (from keras->neuro-evolution==0.1) (2.8.0)\n",
            "Requirement already satisfied: keras-applications>=1.0.6 in /usr/local/lib/python3.6/dist-packages (from keras->neuro-evolution==0.1) (1.0.6)\n",
            "Requirement already satisfied: six>=1.9.0 in /usr/local/lib/python3.6/dist-packages (from keras->neuro-evolution==0.1) (1.11.0)\n",
            "Requirement already satisfied: scipy>=0.14 in /usr/local/lib/python3.6/dist-packages (from keras->neuro-evolution==0.1) (1.1.0)\n",
            "Requirement already satisfied: pyyaml in /usr/local/lib/python3.6/dist-packages (from keras->neuro-evolution==0.1) (3.13)\n",
            "Building wheels for collected packages: neuro-evolution, logger\n",
            "  Running setup.py bdist_wheel for neuro-evolution ... \u001b[?25l-\b \bdone\n",
            "\u001b[?25h  Stored in directory: /tmp/pip-ephem-wheel-cache-ko_l6urg/wheels/8c/4d/ee/df62a991bcd07cf7b03828263158b53fa8d14c760b24834f62\n",
            "  Running setup.py bdist_wheel for logger ... \u001b[?25l-\b \bdone\n",
            "\u001b[?25h  Stored in directory: /root/.cache/pip/wheels/91/d4/96/08341e2ac92c1ed4b760e4848e1acda3795f0257a83b94b42e\n",
            "Successfully built neuro-evolution logger\n",
            "Installing collected packages: logger, neuro-evolution\n",
            "Successfully installed logger-1.4 neuro-evolution-0.1\n",
            "Collecting imbalanced-learn\n",
            "\u001b[?25l  Downloading https://files.pythonhosted.org/packages/e5/4c/7557e1c2e791bd43878f8c82065bddc5798252084f26ef44527c02262af1/imbalanced_learn-0.4.3-py3-none-any.whl (166kB)\n",
            "\u001b[K    100% |████████████████████████████████| 174kB 6.6MB/s \n",
            "\u001b[?25hCollecting scikit-learn>=0.20 (from imbalanced-learn)\n",
            "\u001b[?25l  Downloading https://files.pythonhosted.org/packages/10/26/d04320c3edf2d59b1fcd0720b46753d4d603a76e68d8ad10a9b92ab06db2/scikit_learn-0.20.1-cp36-cp36m-manylinux1_x86_64.whl (5.4MB)\n",
            "\u001b[K    100% |████████████████████████████████| 5.4MB 7.6MB/s \n",
            "\u001b[?25hRequirement already satisfied, skipping upgrade: numpy>=1.8.2 in /usr/local/lib/python3.6/dist-packages (from imbalanced-learn) (1.14.6)\n",
            "Requirement already satisfied, skipping upgrade: scipy>=0.13.3 in /usr/local/lib/python3.6/dist-packages (from imbalanced-learn) (1.1.0)\n",
            "Installing collected packages: scikit-learn, imbalanced-learn\n",
            "  Found existing installation: scikit-learn 0.19.2\n",
            "    Uninstalling scikit-learn-0.19.2:\n",
            "      Successfully uninstalled scikit-learn-0.19.2\n",
            "Successfully installed imbalanced-learn-0.4.3 scikit-learn-0.20.1\n"
          ],
          "name": "stdout"
        }
      ]
    },
    {
      "metadata": {
        "id": "1ip2hZJECO95",
        "colab_type": "code",
        "outputId": "d79796a2-e212-4cff-c6c6-e2d8ef6544ef",
        "colab": {
          "base_uri": "https://localhost:8080/",
          "height": 204
        }
      },
      "cell_type": "code",
      "source": [
        "\"\"\"Only for google colab\"\"\"\n",
        "!wget http://cin.ufpe.br/~gcv/web_lci/TRN"
      ],
      "execution_count": 0,
      "outputs": [
        {
          "output_type": "stream",
          "text": [
            "--2018-12-03 13:45:18--  http://cin.ufpe.br/~gcv/web_lci/TRN\n",
            "Resolving cin.ufpe.br (cin.ufpe.br)... 150.161.2.9\n",
            "Connecting to cin.ufpe.br (cin.ufpe.br)|150.161.2.9|:80... connected.\n",
            "HTTP request sent, awaiting response... 200 OK\n",
            "Length: 766723352 (731M) [application/vnd.rim.cod]\n",
            "Saving to: ‘TRN’\n",
            "\n",
            "TRN                 100%[===================>] 731.20M  6.41MB/s    in 84s     \n",
            "\n",
            "2018-12-03 13:46:42 (8.74 MB/s) - ‘TRN’ saved [766723352/766723352]\n",
            "\n"
          ],
          "name": "stdout"
        }
      ]
    },
    {
      "metadata": {
        "id": "SsHHhVSgAVb3",
        "colab_type": "code",
        "colab": {}
      },
      "cell_type": "code",
      "source": [
        "import matplotlib.pyplot as plt\n",
        "import numpy as np\n",
        "import pandas as pd\n",
        "\n",
        "from sklearn.model_selection import train_test_split\n",
        "from sklearn.preprocessing import StandardScaler\n",
        "from imblearn.over_sampling import RandomOverSampler\n",
        "\n",
        "%matplotlib inline"
      ],
      "execution_count": 0,
      "outputs": []
    },
    {
      "metadata": {
        "id": "JGPtAuAiAVb_",
        "colab_type": "code",
        "outputId": "183035ea-09df-42e4-b6f5-3751c308d635",
        "colab": {
          "base_uri": "https://localhost:8080/",
          "height": 253
        }
      },
      "cell_type": "code",
      "source": [
        "df = pd.read_table(\"TRN\")\n",
        "df.head()"
      ],
      "execution_count": 0,
      "outputs": [
        {
          "output_type": "execute_result",
          "data": {
            "text/html": [
              "<div>\n",
              "<style scoped>\n",
              "    .dataframe tbody tr th:only-of-type {\n",
              "        vertical-align: middle;\n",
              "    }\n",
              "\n",
              "    .dataframe tbody tr th {\n",
              "        vertical-align: top;\n",
              "    }\n",
              "\n",
              "    .dataframe thead th {\n",
              "        text-align: right;\n",
              "    }\n",
              "</style>\n",
              "<table border=\"1\" class=\"dataframe\">\n",
              "  <thead>\n",
              "    <tr style=\"text-align: right;\">\n",
              "      <th></th>\n",
              "      <th>INDEX</th>\n",
              "      <th>UF_1</th>\n",
              "      <th>UF_2</th>\n",
              "      <th>UF_3</th>\n",
              "      <th>UF_4</th>\n",
              "      <th>UF_5</th>\n",
              "      <th>UF_6</th>\n",
              "      <th>UF_7</th>\n",
              "      <th>IDADE</th>\n",
              "      <th>SEXO_1</th>\n",
              "      <th>...</th>\n",
              "      <th>CEP4_7</th>\n",
              "      <th>CEP4_8</th>\n",
              "      <th>CEP4_9</th>\n",
              "      <th>CEP4_10</th>\n",
              "      <th>CEP4_11</th>\n",
              "      <th>CEP4_12</th>\n",
              "      <th>CEP4_13</th>\n",
              "      <th>CEP4_14</th>\n",
              "      <th>IND_BOM_1_1</th>\n",
              "      <th>IND_BOM_1_2</th>\n",
              "    </tr>\n",
              "  </thead>\n",
              "  <tbody>\n",
              "    <tr>\n",
              "      <th>0</th>\n",
              "      <td>0</td>\n",
              "      <td>1</td>\n",
              "      <td>1</td>\n",
              "      <td>1</td>\n",
              "      <td>0</td>\n",
              "      <td>0</td>\n",
              "      <td>0</td>\n",
              "      <td>0</td>\n",
              "      <td>0.135098</td>\n",
              "      <td>1</td>\n",
              "      <td>...</td>\n",
              "      <td>0</td>\n",
              "      <td>0</td>\n",
              "      <td>1</td>\n",
              "      <td>1</td>\n",
              "      <td>0</td>\n",
              "      <td>1</td>\n",
              "      <td>1</td>\n",
              "      <td>1</td>\n",
              "      <td>0</td>\n",
              "      <td>1</td>\n",
              "    </tr>\n",
              "    <tr>\n",
              "      <th>1</th>\n",
              "      <td>1</td>\n",
              "      <td>1</td>\n",
              "      <td>0</td>\n",
              "      <td>1</td>\n",
              "      <td>0</td>\n",
              "      <td>0</td>\n",
              "      <td>1</td>\n",
              "      <td>0</td>\n",
              "      <td>0.273504</td>\n",
              "      <td>1</td>\n",
              "      <td>...</td>\n",
              "      <td>0</td>\n",
              "      <td>1</td>\n",
              "      <td>0</td>\n",
              "      <td>1</td>\n",
              "      <td>1</td>\n",
              "      <td>0</td>\n",
              "      <td>0</td>\n",
              "      <td>0</td>\n",
              "      <td>1</td>\n",
              "      <td>0</td>\n",
              "    </tr>\n",
              "    <tr>\n",
              "      <th>2</th>\n",
              "      <td>2</td>\n",
              "      <td>1</td>\n",
              "      <td>0</td>\n",
              "      <td>1</td>\n",
              "      <td>0</td>\n",
              "      <td>0</td>\n",
              "      <td>1</td>\n",
              "      <td>0</td>\n",
              "      <td>0.281910</td>\n",
              "      <td>0</td>\n",
              "      <td>...</td>\n",
              "      <td>1</td>\n",
              "      <td>1</td>\n",
              "      <td>0</td>\n",
              "      <td>0</td>\n",
              "      <td>0</td>\n",
              "      <td>0</td>\n",
              "      <td>1</td>\n",
              "      <td>0</td>\n",
              "      <td>1</td>\n",
              "      <td>0</td>\n",
              "    </tr>\n",
              "    <tr>\n",
              "      <th>3</th>\n",
              "      <td>3</td>\n",
              "      <td>1</td>\n",
              "      <td>1</td>\n",
              "      <td>1</td>\n",
              "      <td>0</td>\n",
              "      <td>0</td>\n",
              "      <td>0</td>\n",
              "      <td>0</td>\n",
              "      <td>0.225741</td>\n",
              "      <td>0</td>\n",
              "      <td>...</td>\n",
              "      <td>1</td>\n",
              "      <td>1</td>\n",
              "      <td>0</td>\n",
              "      <td>1</td>\n",
              "      <td>1</td>\n",
              "      <td>0</td>\n",
              "      <td>1</td>\n",
              "      <td>0</td>\n",
              "      <td>1</td>\n",
              "      <td>0</td>\n",
              "    </tr>\n",
              "    <tr>\n",
              "      <th>4</th>\n",
              "      <td>4</td>\n",
              "      <td>1</td>\n",
              "      <td>1</td>\n",
              "      <td>0</td>\n",
              "      <td>0</td>\n",
              "      <td>0</td>\n",
              "      <td>1</td>\n",
              "      <td>0</td>\n",
              "      <td>0.480403</td>\n",
              "      <td>0</td>\n",
              "      <td>...</td>\n",
              "      <td>1</td>\n",
              "      <td>1</td>\n",
              "      <td>1</td>\n",
              "      <td>0</td>\n",
              "      <td>0</td>\n",
              "      <td>1</td>\n",
              "      <td>0</td>\n",
              "      <td>1</td>\n",
              "      <td>1</td>\n",
              "      <td>0</td>\n",
              "    </tr>\n",
              "  </tbody>\n",
              "</table>\n",
              "<p>5 rows × 246 columns</p>\n",
              "</div>"
            ],
            "text/plain": [
              "   INDEX  UF_1  UF_2  UF_3  UF_4  UF_5  UF_6  UF_7     IDADE  SEXO_1  \\\n",
              "0      0     1     1     1     0     0     0     0  0.135098       1   \n",
              "1      1     1     0     1     0     0     1     0  0.273504       1   \n",
              "2      2     1     0     1     0     0     1     0  0.281910       0   \n",
              "3      3     1     1     1     0     0     0     0  0.225741       0   \n",
              "4      4     1     1     0     0     0     1     0  0.480403       0   \n",
              "\n",
              "      ...       CEP4_7  CEP4_8  CEP4_9  CEP4_10  CEP4_11  CEP4_12  CEP4_13  \\\n",
              "0     ...            0       0       1        1        0        1        1   \n",
              "1     ...            0       1       0        1        1        0        0   \n",
              "2     ...            1       1       0        0        0        0        1   \n",
              "3     ...            1       1       0        1        1        0        1   \n",
              "4     ...            1       1       1        0        0        1        0   \n",
              "\n",
              "   CEP4_14  IND_BOM_1_1  IND_BOM_1_2  \n",
              "0        1            0            1  \n",
              "1        0            1            0  \n",
              "2        0            1            0  \n",
              "3        0            1            0  \n",
              "4        1            1            0  \n",
              "\n",
              "[5 rows x 246 columns]"
            ]
          },
          "metadata": {
            "tags": []
          },
          "execution_count": 19
        }
      ]
    },
    {
      "metadata": {
        "id": "BNsZkdCLAVcD",
        "colab_type": "text"
      },
      "cell_type": "markdown",
      "source": [
        "## Divisão dos dados em treino, teste e validação"
      ]
    },
    {
      "metadata": {
        "id": "IupHaHBBAVcF",
        "colab_type": "code",
        "colab": {}
      },
      "cell_type": "code",
      "source": [
        "X = df.iloc[:, 1:-2].values\n",
        "y = df.iloc[:, -2].values\n",
        "\n",
        "X_train, X_test, y_train, y_test = train_test_split(X,\n",
        "                                                    y,\n",
        "                                                    test_size=1/4,\n",
        "                                                    random_state=42,\n",
        "                                                    stratify=y)\n",
        "\n",
        "X_train, X_val, y_train, y_val = train_test_split(X_train,\n",
        "                                                  y_train,\n",
        "                                                  test_size=1/3,\n",
        "                                                  random_state=42,\n",
        "                                                  stratify=y_train)"
      ],
      "execution_count": 0,
      "outputs": []
    },
    {
      "metadata": {
        "id": "SWGXjumHAVcK",
        "colab_type": "code",
        "outputId": "adcb6626-24a4-4f7b-b1fe-66a2c35bd958",
        "colab": {
          "base_uri": "https://localhost:8080/",
          "height": 278
        }
      },
      "cell_type": "code",
      "source": [
        "df[\"IND_BOM_1_1\"].value_counts().plot.bar()"
      ],
      "execution_count": 0,
      "outputs": [
        {
          "output_type": "execute_result",
          "data": {
            "text/plain": [
              "<matplotlib.axes._subplots.AxesSubplot at 0x7eff79bbd5f8>"
            ]
          },
          "metadata": {
            "tags": []
          },
          "execution_count": 30
        },
        {
          "output_type": "display_data",
          "data": {
            "image/png": "[encoded data removed]",
            "text/plain": [
              "<matplotlib.figure.Figure at 0x7eff7047ae10>"
            ]
          },
          "metadata": {
            "tags": []
          }
        }
      ]
    },
    {
      "metadata": {
        "id": "yOfdaCpYAVcR",
        "colab_type": "text"
      },
      "cell_type": "markdown",
      "source": [
        "## Sampling dos dados e normalização\n",
        "\n",
        "Como podemos ver no gráfico plotado acima, há um desbalanceamento entre as duas classes presentes no dataset. Para resolver este problema vamos utilizar uma técnica de oversampling bem simples que consiste em escolher algumas instâncias aleatórias da classe minoritária e replicá-las algumas vezes. Mas antes disso vamos normalizar a nossa base de dados. É interessante fazer a normalização antes do under/oversampling dos dados pois técnicas como o SMOTE fazem uso de algoritmos como o k-NN para gerar os samples, e estes obtém um melhor desempenho com dados normalizados."
      ]
    },
    {
      "metadata": {
        "id": "rlgNnGvmAVcV",
        "colab_type": "code",
        "colab": {}
      },
      "cell_type": "code",
      "source": [
        "scaler = StandardScaler()\n",
        "X_train = scaler.fit_transform(X_train)\n",
        "X_val = scaler.transform(X_val)\n",
        "X_test = scaler.transform(X_test)"
      ],
      "execution_count": 0,
      "outputs": []
    },
    {
      "metadata": {
        "id": "0JOOskadAVce",
        "colab_type": "text"
      },
      "cell_type": "markdown",
      "source": [
        "Agora vamos aplicar a técnica de oversampling nos conjuntos de treino, teste e validação, assim como verificar se a proporção está de 1/2 para cada classe dos conjuntos."
      ]
    },
    {
      "metadata": {
        "id": "LSbrMvJOAVcg",
        "colab_type": "code",
        "outputId": "3201e5d0-b2a0-4c3d-da4c-9e65d6241132",
        "colab": {
          "base_uri": "https://localhost:8080/",
          "height": 255
        }
      },
      "cell_type": "code",
      "source": [
        "ros = RandomOverSampler(random_state=42)\n",
        "\n",
        "# Oversampling\n",
        "X_train, y_train = ros.fit_resample(X_train, y_train)\n",
        "X_test, y_test = ros.fit_resample(X_test, y_test)\n",
        "X_val, y_val = ros.fit_resample(X_val, y_val)\n",
        "\n",
        "print(\"***Train***\")\n",
        "print(pd.value_counts(pd.Series(y_train), normalize=True))\n",
        "print()\n",
        "print(\"***Test***\")\n",
        "print(pd.value_counts(pd.Series(y_test), normalize=True))\n",
        "print()\n",
        "print(\"***Validation***\")\n",
        "print(pd.value_counts(pd.Series(y_val), normalize=True))"
      ],
      "execution_count": 0,
      "outputs": [
        {
          "output_type": "stream",
          "text": [
            "***Train***\n",
            "1    0.5\n",
            "0    0.5\n",
            "dtype: float64\n",
            "\n",
            "***Test***\n",
            "1    0.5\n",
            "0    0.5\n",
            "dtype: float64\n",
            "\n",
            "***Validation***\n",
            "1    0.5\n",
            "0    0.5\n",
            "dtype: float64\n"
          ],
          "name": "stdout"
        }
      ]
    },
    {
      "metadata": {
        "id": "uxYVix6wAVcq",
        "colab_type": "text"
      },
      "cell_type": "markdown",
      "source": [
        "## Seleção de features\n",
        "Como o dataset apresenta bastante features se torna importante fazer uma análise de quais delas são realmente relevantes para representar o nosso problema. Features irrelevantes além tornar o tempo de treinamento maior também podem diminuir a acurácia do nosso modelo. Sendo assim, nos trechos abaixo vamos fazer uma análise de quais features são mais relevantes para representar o nosso problema."
      ]
    },
    {
      "metadata": {
        "id": "V2agh7e-AVcs",
        "colab_type": "code",
        "colab": {}
      },
      "cell_type": "code",
      "source": [
        "from sklearn.decomposition import PCA\n",
        "\n",
        "# Fitting the PCA algorithm with our Data\n",
        "pca = PCA().fit(X_train)"
      ],
      "execution_count": 0,
      "outputs": []
    },
    {
      "metadata": {
        "id": "IKe-yOt9AVcv",
        "colab_type": "code",
        "outputId": "e2a24d46-aff3-4e48-bbed-e31d9a793ae9",
        "colab": {
          "base_uri": "https://localhost:8080/",
          "height": 294
        }
      },
      "cell_type": "code",
      "source": [
        "# Plotting the Cumulative Summation of the Explained Variance\n",
        "plt.figure()\n",
        "plt.plot(np.cumsum(pca.explained_variance_ratio_))\n",
        "plt.xlabel('Número de componentes')\n",
        "plt.ylabel('Variância (%)')\n",
        "plt.title('Variância do conjunto de treino')\n",
        "plt.show()"
      ],
      "execution_count": 0,
      "outputs": [
        {
          "output_type": "display_data",
          "data": {
            "image/png": "[encoded data removed]",
            "text/plain": [
              "<matplotlib.figure.Figure at 0x7eff7047a518>"
            ]
          },
          "metadata": {
            "tags": []
          }
        }
      ]
    },
    {
      "metadata": {
        "id": "poJ6ozIMAVc1",
        "colab_type": "code",
        "colab": {}
      },
      "cell_type": "code",
      "source": [
        "cumsum = np.cumsum(pca.explained_variance_ratio_)\n",
        "n_components = np.arange(X_train.shape[1])[cumsum >= 0.9][0] + 1\n",
        "\n",
        "pca = PCA(n_components=n_components)\n",
        "X_train = pca.fit_transform(X_train)\n",
        "X_val = pca.transform(X_val)\n",
        "X_test = pca.transform(X_test)\n",
        "\n",
        "np.save(DATASET_PATH + \"X_train.npy\", X_train)\n",
        "np.save(DATASET_PATH + \"y_train.npy\", y_train)\n",
        "np.save(DATASET_PATH + \"X_test.npy\", X_test)\n",
        "np.save(DATASET_PATH + \"y_test.npy\", y_test)\n",
        "np.save(DATASET_PATH + \"X_val.npy\", X_val)\n",
        "np.save(DATASET_PATH + \"y_val.npy\", y_val)"
      ],
      "execution_count": 0,
      "outputs": []
    },
    {
      "metadata": {
        "id": "9Yq9a1QgAVc8",
        "colab_type": "text"
      },
      "cell_type": "markdown",
      "source": [
        "## Definição dos parâmetros da MLP\n",
        "\n",
        "Pensando em obter os melhores parâmetros possíveis e ao mesmo tempo visando o desempenho, nós optamos por utilizar algoritmo genético, pois este apresenta resultado mais rápido do que o grid search. Ao invés de testar todas as possíveis combinações de hiperparâmetros, o algoritmo genético irá selecionar os melhores indivíduos onde cada indivíduo representa uma combinação de hiperparâmetros. A métrica de avaliação do indivíduo é a acurácia do conjunto de validação, ou seja, para cada indivíduo uma rede neural é criada e treinada utilizando os parâmetros que este indíviduo está codificando. Após treinada ela é avaliada e o resultado dessa avaliação é utilizado para saber quais indivíduos irão representar aquela geração e assim criar indivíduos ainda melhores.\n",
        "\n",
        "Para isso nós estamos fazendo uso da bilioteca neuro-evolution (https://github.com/irbp/neuro-evolution), pois ela já apresenta tudo o que é necessário para realizarmos o que foi descrito acima."
      ]
    },
    {
      "metadata": {
        "id": "g-2ntgaHAVdL",
        "colab_type": "code",
        "colab": {}
      },
      "cell_type": "code",
      "source": [
        "def load_data():\n",
        "    X_train = np.load(DATASET_PATH + \"X_train.npy\")\n",
        "    y_train = np.load(DATASET_PATH + \"y_train.npy\")\n",
        "    X_val = np.load(DATASET_PATH + \"X_val.npy\")\n",
        "    y_val = np.load(DATASET_PATH + \"y_val.npy\")\n",
        "    X_test = np.load(DATASET_PATH + \"X_test.npy\")\n",
        "    y_test = np.load(DATASET_PATH + \"y_test.npy\")\n",
        "    \n",
        "    train_perm = np.random.permutation(X_train.shape[0])\n",
        "    X_train, y_train = X_train[train_perm], y_train[train_perm]\n",
        "    val_perm = np.random.permutation(X_val.shape[0])\n",
        "    X_val, y_val = X_val[val_perm], y_val[val_perm]\n",
        "    test_perm = np.random.permutation(X_test.shape[0])\n",
        "    X_test, y_test = X_test[test_perm], y_test[test_perm]\n",
        "    \n",
        "    return X_train, y_train, X_val, y_val, X_test, y_test"
      ],
      "execution_count": 0,
      "outputs": []
    },
    {
      "metadata": {
        "id": "_Cx1Lr0IAVc-",
        "colab_type": "code",
        "colab": {}
      },
      "cell_type": "code",
      "source": [
        "# from neuro_evolution.evolution import NeuroEvolution\n",
        "\n",
        "params = {\n",
        "    \"batch_size\": [1024],\n",
        "    \"n_layers\": [1, 2, 3],\n",
        "    \"n_neurons\": [256, 512, 1024],\n",
        "    \"dropout\": [0.1, 0.25, 0.5],\n",
        "    \"optimizers\": [\"rmsprop\", \"adam\"],\n",
        "    \"activations\": [\"relu\", \"sigmoid\", \"tanh\"],\n",
        "    \"last_layer_activations\": [\"sigmoid\"],\n",
        "    \"losses\": [\"binary_crossentropy\"],\n",
        "    \"metrics\": [\"accuracy\"],\n",
        "    \"verbose\": [0]\n",
        "}\n",
        "# search = NeuroEvolution(generations=10, population=10, params=params)\n",
        "X_train, y_train, X_val, y_val, X_test, y_test = load_data()"
      ],
      "execution_count": 0,
      "outputs": []
    },
    {
      "metadata": {
        "id": "OfcrnwBsAVdE",
        "colab_type": "code",
        "outputId": "66380c95-842f-499c-c87d-0fdf2ae9a67b",
        "colab": {
          "base_uri": "https://localhost:8080/",
          "height": 3267
        }
      },
      "cell_type": "code",
      "source": [
        "search.evolve(X_train, y_train, X_val, y_val, X_test, y_test)"
      ],
      "execution_count": 0,
      "outputs": [
        {
          "output_type": "stream",
          "text": [
            "\r  0%|          | 0/10 [00:00<?, ?it/s]"
          ],
          "name": "stderr"
        },
        {
          "output_type": "stream",
          "text": [
            "False\n"
          ],
          "name": "stdout"
        },
        {
          "output_type": "stream",
          "text": [
            "\r 10%|█         | 1/10 [00:22<03:26, 22.91s/it]"
          ],
          "name": "stderr"
        },
        {
          "output_type": "stream",
          "text": [
            "------ Accuracy: 0.6302098033307588\n",
            "False\n"
          ],
          "name": "stdout"
        },
        {
          "output_type": "stream",
          "text": [
            "\r 20%|██        | 2/10 [00:41<02:53, 21.71s/it]"
          ],
          "name": "stderr"
        },
        {
          "output_type": "stream",
          "text": [
            "------ Accuracy: 0.6206447767692462\n",
            "False\n"
          ],
          "name": "stdout"
        },
        {
          "output_type": "stream",
          "text": [
            "\r 30%|███       | 3/10 [01:26<03:19, 28.52s/it]"
          ],
          "name": "stderr"
        },
        {
          "output_type": "stream",
          "text": [
            "------ Accuracy: 0.6172970174905681\n",
            "False\n"
          ],
          "name": "stdout"
        },
        {
          "output_type": "stream",
          "text": [
            "\r 40%|████      | 4/10 [02:04<03:08, 31.46s/it]"
          ],
          "name": "stderr"
        },
        {
          "output_type": "stream",
          "text": [
            "------ Accuracy: 0.6386928842568452\n",
            "False\n"
          ],
          "name": "stdout"
        },
        {
          "output_type": "stream",
          "text": [
            "\r 50%|█████     | 5/10 [02:30<02:28, 29.72s/it]"
          ],
          "name": "stderr"
        },
        {
          "output_type": "stream",
          "text": [
            "------ Accuracy: 0.6229576316853176\n",
            "False\n"
          ],
          "name": "stdout"
        },
        {
          "output_type": "stream",
          "text": [
            "\r 60%|██████    | 6/10 [02:56<01:54, 28.63s/it]"
          ],
          "name": "stderr"
        },
        {
          "output_type": "stream",
          "text": [
            "------ Accuracy: 0.6360899425649791\n",
            "False\n"
          ],
          "name": "stdout"
        },
        {
          "output_type": "stream",
          "text": [
            "\r 70%|███████   | 7/10 [03:42<01:41, 33.82s/it]"
          ],
          "name": "stderr"
        },
        {
          "output_type": "stream",
          "text": [
            "------ Accuracy: 0.5930159625077093\n",
            "False\n"
          ],
          "name": "stdout"
        },
        {
          "output_type": "stream",
          "text": [
            "\r 80%|████████  | 8/10 [04:20<01:10, 35.03s/it]"
          ],
          "name": "stderr"
        },
        {
          "output_type": "stream",
          "text": [
            "------ Accuracy: 0.6272305328171479\n",
            "False\n"
          ],
          "name": "stdout"
        },
        {
          "output_type": "stream",
          "text": [
            "\r 90%|█████████ | 9/10 [04:46<00:32, 32.42s/it]"
          ],
          "name": "stderr"
        },
        {
          "output_type": "stream",
          "text": [
            "------ Accuracy: 0.6191943425781083\n",
            "False\n"
          ],
          "name": "stdout"
        },
        {
          "output_type": "stream",
          "text": [
            "100%|██████████| 10/10 [05:17<00:00, 32.15s/it]\n",
            "  0%|          | 0/10 [00:00<?, ?it/s]"
          ],
          "name": "stderr"
        },
        {
          "output_type": "stream",
          "text": [
            "------ Accuracy: 0.6371248472378807\n",
            "False\n"
          ],
          "name": "stdout"
        },
        {
          "output_type": "stream",
          "text": [
            "\r 10%|█         | 1/10 [00:49<07:26, 49.57s/it]"
          ],
          "name": "stderr"
        },
        {
          "output_type": "stream",
          "text": [
            "------ Accuracy: 0.6370229247234187\n",
            "False\n"
          ],
          "name": "stdout"
        },
        {
          "output_type": "stream",
          "text": [
            "\r 20%|██        | 2/10 [01:28<06:11, 46.50s/it]"
          ],
          "name": "stderr"
        },
        {
          "output_type": "stream",
          "text": [
            "------ Accuracy: 0.6391789758254388\n",
            "False\n"
          ],
          "name": "stdout"
        },
        {
          "output_type": "stream",
          "text": [
            "\r 30%|███       | 3/10 [02:01<04:55, 42.22s/it]"
          ],
          "name": "stderr"
        },
        {
          "output_type": "stream",
          "text": [
            "------ Accuracy: 0.6301941230566485\n",
            "False\n"
          ],
          "name": "stdout"
        },
        {
          "output_type": "stream",
          "text": [
            "\r 40%|████      | 4/10 [02:29<03:49, 38.18s/it]"
          ],
          "name": "stderr"
        },
        {
          "output_type": "stream",
          "text": [
            "------ Accuracy: 0.623506444587747\n",
            "False\n"
          ],
          "name": "stdout"
        },
        {
          "output_type": "stream",
          "text": [
            "\r 50%|█████     | 5/10 [03:07<03:10, 38.11s/it]"
          ],
          "name": "stderr"
        },
        {
          "output_type": "stream",
          "text": [
            "------ Accuracy: 0.6201351648137872\n",
            "False\n"
          ],
          "name": "stdout"
        },
        {
          "output_type": "stream",
          "text": [
            "\r 60%|██████    | 6/10 [03:51<02:38, 39.70s/it]"
          ],
          "name": "stderr"
        },
        {
          "output_type": "stream",
          "text": [
            "------ Accuracy: 0.5910794366395615\n",
            "False\n"
          ],
          "name": "stdout"
        },
        {
          "output_type": "stream",
          "text": [
            "\r 70%|███████   | 7/10 [04:24<01:53, 37.73s/it]"
          ],
          "name": "stderr"
        },
        {
          "output_type": "stream",
          "text": [
            "------ Accuracy: 0.6251215229842088\n",
            "False\n"
          ],
          "name": "stdout"
        },
        {
          "output_type": "stream",
          "text": [
            "\r 80%|████████  | 8/10 [04:56<01:12, 36.03s/it]"
          ],
          "name": "stderr"
        },
        {
          "output_type": "stream",
          "text": [
            "------ Accuracy: 0.6297707529695611\n",
            "False\n"
          ],
          "name": "stdout"
        },
        {
          "output_type": "stream",
          "text": [
            "\r 90%|█████████ | 9/10 [05:21<00:32, 32.88s/it]"
          ],
          "name": "stderr"
        },
        {
          "output_type": "stream",
          "text": [
            "------ Accuracy: 0.6348747138425698\n",
            "False\n"
          ],
          "name": "stdout"
        },
        {
          "output_type": "stream",
          "text": [
            "100%|██████████| 10/10 [05:44<00:00, 29.82s/it]\n",
            "  0%|          | 0/10 [00:00<?, ?it/s]"
          ],
          "name": "stderr"
        },
        {
          "output_type": "stream",
          "text": [
            "------ Accuracy: 0.6170696521495485\n",
            "False\n"
          ],
          "name": "stdout"
        },
        {
          "output_type": "stream",
          "text": [
            "\r 10%|█         | 1/10 [00:31<04:42, 31.38s/it]"
          ],
          "name": "stderr"
        },
        {
          "output_type": "stream",
          "text": [
            "------ Accuracy: 0.6403863644706088\n",
            "False\n"
          ],
          "name": "stdout"
        },
        {
          "output_type": "stream",
          "text": [
            "\r 20%|██        | 2/10 [01:06<04:20, 32.60s/it]"
          ],
          "name": "stderr"
        },
        {
          "output_type": "stream",
          "text": [
            "------ Accuracy: 0.6364035501538273\n",
            "False\n"
          ],
          "name": "stdout"
        },
        {
          "output_type": "stream",
          "text": [
            "\r 30%|███       | 3/10 [01:32<03:34, 30.59s/it]"
          ],
          "name": "stderr"
        },
        {
          "output_type": "stream",
          "text": [
            "------ Accuracy: 0.6340201336023713\n",
            "False\n"
          ],
          "name": "stdout"
        },
        {
          "output_type": "stream",
          "text": [
            "\r 40%|████      | 4/10 [02:01<03:00, 30.11s/it]"
          ],
          "name": "stderr"
        },
        {
          "output_type": "stream",
          "text": [
            "------ Accuracy: 0.6321149686039547\n",
            "False\n"
          ],
          "name": "stdout"
        },
        {
          "output_type": "stream",
          "text": [
            "\r 50%|█████     | 5/10 [02:29<02:26, 29.39s/it]"
          ],
          "name": "stderr"
        },
        {
          "output_type": "stream",
          "text": [
            "------ Accuracy: 0.635431366977386\n",
            "False\n"
          ],
          "name": "stdout"
        },
        {
          "output_type": "stream",
          "text": [
            "\r 60%|██████    | 6/10 [02:54<01:52, 28.10s/it]"
          ],
          "name": "stderr"
        },
        {
          "output_type": "stream",
          "text": [
            "------ Accuracy: 0.6293552230830833\n",
            "False\n"
          ],
          "name": "stdout"
        },
        {
          "output_type": "stream",
          "text": [
            "\r 70%|███████   | 7/10 [03:42<01:41, 33.93s/it]"
          ],
          "name": "stderr"
        },
        {
          "output_type": "stream",
          "text": [
            "------ Accuracy: 0.6384341580330097\n",
            "False\n"
          ],
          "name": "stdout"
        },
        {
          "output_type": "stream",
          "text": [
            "\r 80%|████████  | 8/10 [04:19<01:09, 34.85s/it]"
          ],
          "name": "stderr"
        },
        {
          "output_type": "stream",
          "text": [
            "------ Accuracy: 0.6364584312907922\n",
            "False\n"
          ],
          "name": "stdout"
        },
        {
          "output_type": "stream",
          "text": [
            "\r 90%|█████████ | 9/10 [04:41<00:31, 31.02s/it]"
          ],
          "name": "stderr"
        },
        {
          "output_type": "stream",
          "text": [
            "------ Accuracy: 0.6354313669661705\n",
            "False\n"
          ],
          "name": "stdout"
        },
        {
          "output_type": "stream",
          "text": [
            "100%|██████████| 10/10 [05:13<00:00, 31.38s/it]\n",
            "  0%|          | 0/10 [00:00<?, ?it/s]"
          ],
          "name": "stderr"
        },
        {
          "output_type": "stream",
          "text": [
            "------ Accuracy: 0.6332282748548945\n",
            "False\n"
          ],
          "name": "stdout"
        },
        {
          "output_type": "stream",
          "text": [
            "\r 10%|█         | 1/10 [00:33<05:00, 33.44s/it]"
          ],
          "name": "stderr"
        },
        {
          "output_type": "stream",
          "text": [
            "------ Accuracy: 0.6384733590042804\n",
            "False\n"
          ],
          "name": "stdout"
        },
        {
          "output_type": "stream",
          "text": [
            "\r 20%|██        | 2/10 [01:30<05:24, 40.54s/it]"
          ],
          "name": "stderr"
        },
        {
          "output_type": "stream",
          "text": [
            "------ Accuracy: 0.6368347603611466\n",
            "False\n"
          ],
          "name": "stdout"
        },
        {
          "output_type": "stream",
          "text": [
            "\r 30%|███       | 3/10 [02:21<05:06, 43.74s/it]"
          ],
          "name": "stderr"
        },
        {
          "output_type": "stream",
          "text": [
            "------ Accuracy: 0.6343023803401809\n",
            "False\n"
          ],
          "name": "stdout"
        },
        {
          "output_type": "stream",
          "text": [
            "\r 40%|████      | 4/10 [02:59<04:11, 41.87s/it]"
          ],
          "name": "stderr"
        },
        {
          "output_type": "stream",
          "text": [
            "------ Accuracy: 0.6373992535189941\n",
            "False\n"
          ],
          "name": "stdout"
        },
        {
          "output_type": "stream",
          "text": [
            "\r 50%|█████     | 5/10 [03:49<03:41, 44.32s/it]"
          ],
          "name": "stderr"
        },
        {
          "output_type": "stream",
          "text": [
            "------ Accuracy: 0.6381283909475889\n",
            "False\n"
          ],
          "name": "stdout"
        },
        {
          "output_type": "stream",
          "text": [
            "\r 60%|██████    | 6/10 [04:24<02:45, 41.44s/it]"
          ],
          "name": "stderr"
        },
        {
          "output_type": "stream",
          "text": [
            "------ Accuracy: 0.6396180262184137\n",
            "False\n"
          ],
          "name": "stdout"
        },
        {
          "output_type": "stream",
          "text": [
            "\r 70%|███████   | 7/10 [05:13<02:11, 43.77s/it]"
          ],
          "name": "stderr"
        },
        {
          "output_type": "stream",
          "text": [
            "------ Accuracy: 0.6380421487390144\n",
            "False\n"
          ],
          "name": "stdout"
        },
        {
          "output_type": "stream",
          "text": [
            "\r 80%|████████  | 8/10 [05:54<01:26, 43.01s/it]"
          ],
          "name": "stderr"
        },
        {
          "output_type": "stream",
          "text": [
            "------ Accuracy: 0.6381989526726974\n",
            "False\n"
          ],
          "name": "stdout"
        },
        {
          "output_type": "stream",
          "text": [
            "\r 90%|█████████ | 9/10 [06:40<00:43, 43.93s/it]"
          ],
          "name": "stderr"
        },
        {
          "output_type": "stream",
          "text": [
            "------ Accuracy: 0.6351491203947238\n",
            "False\n"
          ],
          "name": "stdout"
        },
        {
          "output_type": "stream",
          "text": [
            "100%|██████████| 10/10 [07:23<00:00, 43.76s/it]\n",
            "  0%|          | 0/10 [00:00<?, ?it/s]"
          ],
          "name": "stderr"
        },
        {
          "output_type": "stream",
          "text": [
            "------ Accuracy: 0.6381127106304858\n",
            "False\n"
          ],
          "name": "stdout"
        },
        {
          "output_type": "stream",
          "text": [
            "\r 10%|█         | 1/10 [00:26<03:56, 26.26s/it]"
          ],
          "name": "stderr"
        },
        {
          "output_type": "stream",
          "text": [
            "------ Accuracy: 0.6386693636456703\n",
            "False\n"
          ],
          "name": "stdout"
        },
        {
          "output_type": "stream",
          "text": [
            "\r 20%|██        | 2/10 [01:10<04:12, 31.59s/it]"
          ],
          "name": "stderr"
        },
        {
          "output_type": "stream",
          "text": [
            "------ Accuracy: 0.635713613649772\n",
            "False\n"
          ],
          "name": "stdout"
        },
        {
          "output_type": "stream",
          "text": [
            "\r 30%|███       | 3/10 [01:48<03:55, 33.69s/it]"
          ],
          "name": "stderr"
        },
        {
          "output_type": "stream",
          "text": [
            "------ Accuracy: 0.6391789756665529\n",
            "False\n"
          ],
          "name": "stdout"
        },
        {
          "output_type": "stream",
          "text": [
            "\r 40%|████      | 4/10 [02:42<03:57, 39.57s/it]"
          ],
          "name": "stderr"
        },
        {
          "output_type": "stream",
          "text": [
            "------ Accuracy: 0.6384733589538107\n",
            "False\n"
          ],
          "name": "stdout"
        },
        {
          "output_type": "stream",
          "text": [
            "\r 50%|█████     | 5/10 [03:17<03:12, 38.43s/it]"
          ],
          "name": "stderr"
        },
        {
          "output_type": "stream",
          "text": [
            "------ Accuracy: 0.6368190799935739\n",
            "False\n"
          ],
          "name": "stdout"
        },
        {
          "output_type": "stream",
          "text": [
            "\r 60%|██████    | 6/10 [03:49<02:25, 36.42s/it]"
          ],
          "name": "stderr"
        },
        {
          "output_type": "stream",
          "text": [
            "------ Accuracy: 0.6403863643621925\n",
            "False\n"
          ],
          "name": "stdout"
        },
        {
          "output_type": "stream",
          "text": [
            "\r 70%|███████   | 7/10 [04:43<02:04, 41.55s/it]"
          ],
          "name": "stderr"
        },
        {
          "output_type": "stream",
          "text": [
            "------ Accuracy: 0.6359174586394419\n",
            "False\n"
          ],
          "name": "stdout"
        },
        {
          "output_type": "stream",
          "text": [
            "\r 80%|████████  | 8/10 [05:16<01:18, 39.16s/it]"
          ],
          "name": "stderr"
        },
        {
          "output_type": "stream",
          "text": [
            "------ Accuracy: 0.6340671747125664\n",
            "False\n"
          ],
          "name": "stdout"
        },
        {
          "output_type": "stream",
          "text": [
            "\r 90%|█████████ | 9/10 [05:53<00:38, 38.51s/it]"
          ],
          "name": "stderr"
        },
        {
          "output_type": "stream",
          "text": [
            "------ Accuracy: 0.639845391609903\n",
            "False\n"
          ],
          "name": "stdout"
        },
        {
          "output_type": "stream",
          "text": [
            "100%|██████████| 10/10 [06:42<00:00, 41.54s/it]\n",
            "  0%|          | 0/10 [00:00<?, ?it/s]"
          ],
          "name": "stderr"
        },
        {
          "output_type": "stream",
          "text": [
            "------ Accuracy: 0.6359096183995782\n",
            "False\n"
          ],
          "name": "stdout"
        },
        {
          "output_type": "stream",
          "text": [
            "\r 10%|█         | 1/10 [00:42<06:18, 42.10s/it]"
          ],
          "name": "stderr"
        },
        {
          "output_type": "stream",
          "text": [
            "------ Accuracy: 0.6390613729789197\n",
            "False\n"
          ],
          "name": "stdout"
        },
        {
          "output_type": "stream",
          "text": [
            "\r 20%|██        | 2/10 [01:13<05:10, 38.87s/it]"
          ],
          "name": "stderr"
        },
        {
          "output_type": "stream",
          "text": [
            "------ Accuracy: 0.6375952583155313\n",
            "False\n"
          ],
          "name": "stdout"
        },
        {
          "output_type": "stream",
          "text": [
            "\r 30%|███       | 3/10 [01:48<04:25, 37.87s/it]"
          ],
          "name": "stderr"
        },
        {
          "output_type": "stream",
          "text": [
            "------ Accuracy: 0.6399394738882398\n",
            "False\n"
          ],
          "name": "stdout"
        },
        {
          "output_type": "stream",
          "text": [
            "\r 40%|████      | 4/10 [02:23<03:40, 36.79s/it]"
          ],
          "name": "stderr"
        },
        {
          "output_type": "stream",
          "text": [
            "------ Accuracy: 0.6354078465755666\n",
            "False\n"
          ],
          "name": "stdout"
        },
        {
          "output_type": "stream",
          "text": [
            "\r 50%|█████     | 5/10 [03:01<03:06, 37.24s/it]"
          ],
          "name": "stderr"
        },
        {
          "output_type": "stream",
          "text": [
            "------ Accuracy: 0.6383949573103488\n",
            "False\n"
          ],
          "name": "stdout"
        },
        {
          "output_type": "stream",
          "text": [
            "\r 60%|██████    | 6/10 [03:43<02:34, 38.66s/it]"
          ],
          "name": "stderr"
        },
        {
          "output_type": "stream",
          "text": [
            "------ Accuracy: 0.6396807477036585\n",
            "False\n"
          ],
          "name": "stdout"
        },
        {
          "output_type": "stream",
          "text": [
            "\r 70%|███████   | 7/10 [04:36<02:09, 43.03s/it]"
          ],
          "name": "stderr"
        },
        {
          "output_type": "stream",
          "text": [
            "------ Accuracy: 0.6349295951384205\n",
            "False\n"
          ],
          "name": "stdout"
        },
        {
          "output_type": "stream",
          "text": [
            "\r 80%|████████  | 8/10 [05:40<01:38, 49.20s/it]"
          ],
          "name": "stderr"
        },
        {
          "output_type": "stream",
          "text": [
            "------ Accuracy: 0.6406764511267719\n",
            "False\n"
          ],
          "name": "stdout"
        },
        {
          "output_type": "stream",
          "text": [
            "\r 90%|█████████ | 9/10 [06:13<00:44, 44.49s/it]"
          ],
          "name": "stderr"
        },
        {
          "output_type": "stream",
          "text": [
            "------ Accuracy: 0.6390535326960634\n",
            "False\n"
          ],
          "name": "stdout"
        },
        {
          "output_type": "stream",
          "text": [
            "100%|██████████| 10/10 [06:53<00:00, 42.97s/it]\n",
            "  0%|          | 0/10 [00:00<?, ?it/s]"
          ],
          "name": "stderr"
        },
        {
          "output_type": "stream",
          "text": [
            "------ Accuracy: 0.6395004234915264\n",
            "False\n"
          ],
          "name": "stdout"
        },
        {
          "output_type": "stream",
          "text": [
            "\r 10%|█         | 1/10 [01:04<09:44, 64.92s/it]"
          ],
          "name": "stderr"
        },
        {
          "output_type": "stream",
          "text": [
            "------ Accuracy: 0.6414369491895727\n",
            "False\n"
          ],
          "name": "stdout"
        },
        {
          "output_type": "stream",
          "text": [
            "\r 20%|██        | 2/10 [01:39<07:26, 55.77s/it]"
          ],
          "name": "stderr"
        },
        {
          "output_type": "stream",
          "text": [
            "------ Accuracy: 0.6405902091350298\n",
            "False\n"
          ],
          "name": "stdout"
        },
        {
          "output_type": "stream",
          "text": [
            "\r 30%|███       | 3/10 [02:12<05:43, 49.06s/it]"
          ],
          "name": "stderr"
        },
        {
          "output_type": "stream",
          "text": [
            "------ Accuracy: 0.6405039670460871\n",
            "False\n"
          ],
          "name": "stdout"
        },
        {
          "output_type": "stream",
          "text": [
            "\r 40%|████      | 4/10 [02:57<04:47, 47.86s/it]"
          ],
          "name": "stderr"
        },
        {
          "output_type": "stream",
          "text": [
            "------ Accuracy: 0.6383714366991738\n",
            "False\n"
          ],
          "name": "stdout"
        },
        {
          "output_type": "stream",
          "text": [
            "\r 50%|█████     | 5/10 [04:02<04:24, 52.99s/it]"
          ],
          "name": "stderr"
        },
        {
          "output_type": "stream",
          "text": [
            "------ Accuracy: 0.6397042683223104\n",
            "False\n"
          ],
          "name": "stdout"
        },
        {
          "output_type": "stream",
          "text": [
            "\r 60%|██████    | 6/10 [05:20<04:01, 60.39s/it]"
          ],
          "name": "stderr"
        },
        {
          "output_type": "stream",
          "text": [
            "------ Accuracy: 0.6395396243076497\n",
            "False\n"
          ],
          "name": "stdout"
        },
        {
          "output_type": "stream",
          "text": [
            "\r 70%|███████   | 7/10 [05:50<02:33, 51.16s/it]"
          ],
          "name": "stderr"
        },
        {
          "output_type": "stream",
          "text": [
            "------ Accuracy: 0.6404255651820542\n",
            "False\n"
          ],
          "name": "stdout"
        },
        {
          "output_type": "stream",
          "text": [
            "\r 80%|████████  | 8/10 [06:40<01:41, 50.92s/it]"
          ],
          "name": "stderr"
        },
        {
          "output_type": "stream",
          "text": [
            "------ Accuracy: 0.6386301626631842\n",
            "False\n"
          ],
          "name": "stdout"
        },
        {
          "output_type": "stream",
          "text": [
            "\r 90%|█████████ | 9/10 [07:35<00:52, 52.11s/it]"
          ],
          "name": "stderr"
        },
        {
          "output_type": "stream",
          "text": [
            "------ Accuracy: 0.6394612225595099\n",
            "False\n"
          ],
          "name": "stdout"
        },
        {
          "output_type": "stream",
          "text": [
            "100%|██████████| 10/10 [08:28<00:00, 52.51s/it]\n",
            "  0%|          | 0/10 [00:00<?, ?it/s]"
          ],
          "name": "stderr"
        },
        {
          "output_type": "stream",
          "text": [
            "------ Accuracy: 0.6343572616977167\n",
            "False\n"
          ],
          "name": "stdout"
        },
        {
          "output_type": "stream",
          "text": [
            "\r 10%|█         | 1/10 [00:23<03:33, 23.73s/it]"
          ],
          "name": "stderr"
        },
        {
          "output_type": "stream",
          "text": [
            "------ Accuracy: 0.6344356634421179\n",
            "False\n"
          ],
          "name": "stdout"
        },
        {
          "output_type": "stream",
          "text": [
            "\r 20%|██        | 2/10 [00:56<03:32, 26.59s/it]"
          ],
          "name": "stderr"
        },
        {
          "output_type": "stream",
          "text": [
            "------ Accuracy: 0.6407156520513113\n",
            "False\n"
          ],
          "name": "stdout"
        },
        {
          "output_type": "stream",
          "text": [
            "\r 30%|███       | 3/10 [01:33<03:26, 29.57s/it]"
          ],
          "name": "stderr"
        },
        {
          "output_type": "stream",
          "text": [
            "------ Accuracy: 0.6384419982653965\n",
            "False\n"
          ],
          "name": "stdout"
        },
        {
          "output_type": "stream",
          "text": [
            "\r 40%|████      | 4/10 [02:27<03:41, 36.96s/it]"
          ],
          "name": "stderr"
        },
        {
          "output_type": "stream",
          "text": [
            "------ Accuracy: 0.6362467463902458\n",
            "False\n"
          ],
          "name": "stdout"
        },
        {
          "output_type": "stream",
          "text": [
            "\r 50%|█████     | 5/10 [03:11<03:15, 39.04s/it]"
          ],
          "name": "stderr"
        },
        {
          "output_type": "stream",
          "text": [
            "------ Accuracy: 0.6392730580495675\n",
            "False\n"
          ],
          "name": "stdout"
        },
        {
          "output_type": "stream",
          "text": [
            "\r 60%|██████    | 6/10 [03:42<02:26, 36.56s/it]"
          ],
          "name": "stderr"
        },
        {
          "output_type": "stream",
          "text": [
            "------ Accuracy: 0.6395317840173163\n",
            "False\n"
          ],
          "name": "stdout"
        },
        {
          "output_type": "stream",
          "text": [
            "\r 70%|███████   | 7/10 [04:30<02:00, 40.02s/it]"
          ],
          "name": "stderr"
        },
        {
          "output_type": "stream",
          "text": [
            "------ Accuracy: 0.6397277888830156\n",
            "False\n"
          ],
          "name": "stdout"
        },
        {
          "output_type": "stream",
          "text": [
            "\r 80%|████████  | 8/10 [05:11<01:20, 40.33s/it]"
          ],
          "name": "stderr"
        },
        {
          "output_type": "stream",
          "text": [
            "------ Accuracy: 0.6391319345488808\n",
            "False\n"
          ],
          "name": "stdout"
        },
        {
          "output_type": "stream",
          "text": [
            "\r 90%|█████████ | 9/10 [05:56<00:41, 41.85s/it]"
          ],
          "name": "stderr"
        },
        {
          "output_type": "stream",
          "text": [
            "------ Accuracy: 0.6380107880506002\n",
            "False\n"
          ],
          "name": "stdout"
        },
        {
          "output_type": "stream",
          "text": [
            "100%|██████████| 10/10 [06:46<00:00, 44.13s/it]\n",
            "  0%|          | 0/10 [00:00<?, ?it/s]"
          ],
          "name": "stderr"
        },
        {
          "output_type": "stream",
          "text": [
            "------ Accuracy: 0.6394298617084713\n",
            "False\n"
          ],
          "name": "stdout"
        },
        {
          "output_type": "stream",
          "text": [
            "\r 10%|█         | 1/10 [00:47<07:09, 47.69s/it]"
          ],
          "name": "stderr"
        },
        {
          "output_type": "stream",
          "text": [
            "------ Accuracy: 0.6407626932157146\n",
            "False\n"
          ],
          "name": "stdout"
        },
        {
          "output_type": "stream",
          "text": [
            "\r 20%|██        | 2/10 [01:35<06:21, 47.75s/it]"
          ],
          "name": "stderr"
        },
        {
          "output_type": "stream",
          "text": [
            "------ Accuracy: 0.6401746794504307\n",
            "False\n"
          ],
          "name": "stdout"
        },
        {
          "output_type": "stream",
          "text": [
            "\r 30%|███       | 3/10 [02:23<05:35, 47.91s/it]"
          ],
          "name": "stderr"
        },
        {
          "output_type": "stream",
          "text": [
            "------ Accuracy: 0.640002195369746\n",
            "False\n"
          ],
          "name": "stdout"
        },
        {
          "output_type": "stream",
          "text": [
            "\r 40%|████      | 4/10 [03:04<04:34, 45.73s/it]"
          ],
          "name": "stderr"
        },
        {
          "output_type": "stream",
          "text": [
            "------ Accuracy: 0.6398375514242474\n",
            "False\n"
          ],
          "name": "stdout"
        },
        {
          "output_type": "stream",
          "text": [
            "\r 50%|█████     | 5/10 [03:53<03:53, 46.66s/it]"
          ],
          "name": "stderr"
        },
        {
          "output_type": "stream",
          "text": [
            "------ Accuracy: 0.6385125599325584\n",
            "False\n"
          ],
          "name": "stdout"
        },
        {
          "output_type": "stream",
          "text": [
            "\r 60%|██████    | 6/10 [04:24<02:48, 42.15s/it]"
          ],
          "name": "stderr"
        },
        {
          "output_type": "stream",
          "text": [
            "------ Accuracy: 0.6409900585529956\n",
            "False\n"
          ],
          "name": "stdout"
        },
        {
          "output_type": "stream",
          "text": [
            "\r 70%|███████   | 7/10 [04:59<01:59, 39.88s/it]"
          ],
          "name": "stderr"
        },
        {
          "output_type": "stream",
          "text": [
            "------ Accuracy: 0.6407313325889854\n",
            "False\n"
          ],
          "name": "stdout"
        },
        {
          "output_type": "stream",
          "text": [
            "\r 80%|████████  | 8/10 [05:52<01:27, 43.69s/it]"
          ],
          "name": "stderr"
        },
        {
          "output_type": "stream",
          "text": [
            "------ Accuracy: 0.6370856463058642\n",
            "False\n"
          ],
          "name": "stdout"
        },
        {
          "output_type": "stream",
          "text": [
            "\r 90%|█████████ | 9/10 [06:35<00:43, 43.69s/it]"
          ],
          "name": "stderr"
        },
        {
          "output_type": "stream",
          "text": [
            "------ Accuracy: 0.6402217204671635\n",
            "False\n"
          ],
          "name": "stdout"
        },
        {
          "output_type": "stream",
          "text": [
            "\r100%|██████████| 10/10 [07:11<00:00, 41.38s/it]"
          ],
          "name": "stderr"
        },
        {
          "output_type": "stream",
          "text": [
            "------ Accuracy: 0.640449085897907\n",
            "[03/Dec/2018 15:01:12] INFO - best accuracy: 0.6409900585529956, best params: {'batch_size': 1024, 'n_layers': 3, 'n_neurons': 512, 'dropout': 0.5, 'optimizers': 'adam', 'activations': 'relu', 'last_layer_activations': 'sigmoid', 'losses': 'binary_crossentropy', 'metrics': 'accuracy', 'verbose': 0}\n"
          ],
          "name": "stdout"
        },
        {
          "output_type": "stream",
          "text": [
            "\n"
          ],
          "name": "stderr"
        }
      ]
    },
    {
      "metadata": {
        "id": "g7f_HOrjZBko",
        "colab_type": "text"
      },
      "cell_type": "markdown",
      "source": [
        "## Treino da MLP\n",
        "\n",
        "Logo abaixo a arquitetura da nossa rede será definida utilizando os parâmetros escolhidos pelo algoritmo genético executado acima. Após definida a arquitetura, a rede será treinada utilizando o conjunto de treino e para ao early stopping será utilizado o conjunto de validação. Logo após o conjunto de teste será avaliado utilizando as métricas exigidas pelo projeto."
      ]
    },
    {
      "metadata": {
        "id": "HSwvsb0wAVdI",
        "colab_type": "code",
        "outputId": "c5e24243-1a30-41a1-80af-9628bcc2f8f3",
        "colab": {
          "base_uri": "https://localhost:8080/",
          "height": 275
        }
      },
      "cell_type": "code",
      "source": [
        "!pip3 install scikit-plot\n",
        "\n",
        "import numpy as np\n",
        "\n",
        "import tensorflow as tf\n",
        "from tensorflow.keras.models import Sequential\n",
        "from tensorflow.keras.layers import Dense, Activation, Dropout\n",
        "from tensorflow.keras.callbacks import EarlyStopping\n",
        "from tensorflow.keras.optimizers import Adam, RMSprop, SGD\n",
        "from tensorflow.keras import backend as K\n",
        "\n",
        "from sklearn.preprocessing import StandardScaler\n",
        "from sklearn.metrics import confusion_matrix\n",
        "from sklearn.metrics import accuracy_score, recall_score, precision_score, f1_score\n",
        "from sklearn.metrics import roc_auc_score, average_precision_score\n",
        "\n",
        "import scikitplot as skplt\n",
        "import matplotlib\n",
        "import matplotlib.pyplot as plt"
      ],
      "execution_count": 18,
      "outputs": [
        {
          "output_type": "stream",
          "text": [
            "Collecting scikit-plot\n",
            "  Downloading https://files.pythonhosted.org/packages/7c/47/32520e259340c140a4ad27c1b97050dd3254fdc517b1d59974d47037510e/scikit_plot-0.3.7-py3-none-any.whl\n",
            "Requirement already satisfied: scikit-learn>=0.18 in /usr/local/lib/python3.6/dist-packages (from scikit-plot) (0.20.1)\n",
            "Requirement already satisfied: scipy>=0.9 in /usr/local/lib/python3.6/dist-packages (from scikit-plot) (1.1.0)\n",
            "Requirement already satisfied: joblib>=0.10 in /usr/local/lib/python3.6/dist-packages (from scikit-plot) (0.13.0)\n",
            "Requirement already satisfied: matplotlib>=1.4.0 in /usr/local/lib/python3.6/dist-packages (from scikit-plot) (2.1.2)\n",
            "Requirement already satisfied: numpy>=1.8.2 in /usr/local/lib/python3.6/dist-packages (from scikit-learn>=0.18->scikit-plot) (1.14.6)\n",
            "Requirement already satisfied: six>=1.10 in /usr/local/lib/python3.6/dist-packages (from matplotlib>=1.4.0->scikit-plot) (1.11.0)\n",
            "Requirement already satisfied: pytz in /usr/local/lib/python3.6/dist-packages (from matplotlib>=1.4.0->scikit-plot) (2018.7)\n",
            "Requirement already satisfied: python-dateutil>=2.1 in /usr/local/lib/python3.6/dist-packages (from matplotlib>=1.4.0->scikit-plot) (2.5.3)\n",
            "Requirement already satisfied: pyparsing!=2.0.4,!=2.1.2,!=2.1.6,>=2.0.1 in /usr/local/lib/python3.6/dist-packages (from matplotlib>=1.4.0->scikit-plot) (2.3.0)\n",
            "Requirement already satisfied: cycler>=0.10 in /usr/local/lib/python3.6/dist-packages (from matplotlib>=1.4.0->scikit-plot) (0.10.0)\n",
            "Installing collected packages: scikit-plot\n",
            "Successfully installed scikit-plot-0.3.7\n"
          ],
          "name": "stdout"
        }
      ]
    },
    {
      "metadata": {
        "id": "9pxeymIhAVdU",
        "colab_type": "code",
        "colab": {}
      },
      "cell_type": "code",
      "source": [
        "def create_model(input_dim, output_dim, params):\n",
        "    n_layers = params[\"n_layers\"]\n",
        "    n_neurons = params[\"n_neurons\"]\n",
        "    dropout = params[\"dropout\"]\n",
        "    optimizer = params[\"optimizer\"]\n",
        "    activation = params[\"activation\"]\n",
        "    last_layer_activation = params[\"last_layer_activation\"]\n",
        "    loss = params[\"loss\"]\n",
        "    metrics = params[\"metrics\"]\n",
        "    \n",
        "    model = Sequential()\n",
        "    # Hidden layers\n",
        "    for n in range(n_layers):\n",
        "        if n == 0:\n",
        "            model.add(Dense(n_neurons[n], activation=activation, input_dim=input_dim))\n",
        "        else:\n",
        "            model.add(Dense(n_neurons[n], activation=activation))\n",
        "        if dropout != 0.0:\n",
        "            model.add(Dropout(dropout))\n",
        "    # Output layer\n",
        "    model.add(Dense(output_dim, activation=last_layer_activation))\n",
        "    \n",
        "    model.compile(optimizer=optimizer, loss=loss, metrics=metrics)\n",
        "    \n",
        "    return model"
      ],
      "execution_count": 0,
      "outputs": []
    },
    {
      "metadata": {
        "id": "MQDYdtXBp40N",
        "colab_type": "code",
        "colab": {}
      },
      "cell_type": "code",
      "source": [
        "params = {\n",
        "    \"n_layers\": 2,\n",
        "    \"n_neurons\": [256, 256],\n",
        "    \"dropout\": 0.25,\n",
        "    \"optimizer\": \"adam\",\n",
        "    \"activation\": \"sigmoid\",\n",
        "    \"last_layer_activation\": \"sigmoid\",\n",
        "    \"loss\": \"binary_crossentropy\",\n",
        "    \"metrics\": [\"accuracy\"],\n",
        "}\n",
        "model = create_model(X_train.shape[1], 1, params)"
      ],
      "execution_count": 0,
      "outputs": []
    },
    {
      "metadata": {
        "id": "v7dGGRc7qNB4",
        "colab_type": "code",
        "outputId": "9bd4c51c-e61b-4ce7-b4a2-bcafe751ec08",
        "colab": {
          "base_uri": "https://localhost:8080/",
          "height": 850
        }
      },
      "cell_type": "code",
      "source": [
        "history = model.fit(X_train, y_train,\n",
        "                    batch_size=1024,\n",
        "                    epochs=10000,\n",
        "                    validation_data=(X_val, y_val),\n",
        "                    callbacks=[EarlyStopping(patience=5)])"
      ],
      "execution_count": 34,
      "outputs": [
        {
          "output_type": "stream",
          "text": [
            "Train on 255098 samples, validate on 127550 samples\n",
            "Epoch 1/10000\n",
            "255098/255098 [==============================] - 3s 10us/step - loss: 0.6639 - acc: 0.6007 - val_loss: 0.6453 - val_acc: 0.6271\n",
            "Epoch 2/10000\n",
            "255098/255098 [==============================] - 2s 9us/step - loss: 0.6479 - acc: 0.6228 - val_loss: 0.6431 - val_acc: 0.6290\n",
            "Epoch 3/10000\n",
            "255098/255098 [==============================] - 2s 9us/step - loss: 0.6443 - acc: 0.6258 - val_loss: 0.6422 - val_acc: 0.6302\n",
            "Epoch 4/10000\n",
            "255098/255098 [==============================] - 2s 9us/step - loss: 0.6426 - acc: 0.6278 - val_loss: 0.6417 - val_acc: 0.6311\n",
            "Epoch 5/10000\n",
            "255098/255098 [==============================] - 2s 9us/step - loss: 0.6414 - acc: 0.6294 - val_loss: 0.6411 - val_acc: 0.6308\n",
            "Epoch 6/10000\n",
            "255098/255098 [==============================] - 2s 9us/step - loss: 0.6398 - acc: 0.6311 - val_loss: 0.6385 - val_acc: 0.6341\n",
            "Epoch 7/10000\n",
            "255098/255098 [==============================] - 2s 9us/step - loss: 0.6373 - acc: 0.6342 - val_loss: 0.6358 - val_acc: 0.6372\n",
            "Epoch 8/10000\n",
            "255098/255098 [==============================] - 2s 9us/step - loss: 0.6353 - acc: 0.6361 - val_loss: 0.6361 - val_acc: 0.6368\n",
            "Epoch 9/10000\n",
            "255098/255098 [==============================] - 2s 9us/step - loss: 0.6343 - acc: 0.6370 - val_loss: 0.6346 - val_acc: 0.6385\n",
            "Epoch 10/10000\n",
            "255098/255098 [==============================] - 2s 9us/step - loss: 0.6335 - acc: 0.6378 - val_loss: 0.6342 - val_acc: 0.6385\n",
            "Epoch 11/10000\n",
            "255098/255098 [==============================] - 2s 9us/step - loss: 0.6327 - acc: 0.6384 - val_loss: 0.6347 - val_acc: 0.6377\n",
            "Epoch 12/10000\n",
            "255098/255098 [==============================] - 2s 9us/step - loss: 0.6320 - acc: 0.6387 - val_loss: 0.6341 - val_acc: 0.6400\n",
            "Epoch 13/10000\n",
            "255098/255098 [==============================] - 2s 9us/step - loss: 0.6312 - acc: 0.6394 - val_loss: 0.6339 - val_acc: 0.6402\n",
            "Epoch 14/10000\n",
            "255098/255098 [==============================] - 2s 9us/step - loss: 0.6299 - acc: 0.6401 - val_loss: 0.6336 - val_acc: 0.6394\n",
            "Epoch 15/10000\n",
            "255098/255098 [==============================] - 2s 9us/step - loss: 0.6293 - acc: 0.6409 - val_loss: 0.6333 - val_acc: 0.6403\n",
            "Epoch 16/10000\n",
            "255098/255098 [==============================] - 2s 9us/step - loss: 0.6287 - acc: 0.6415 - val_loss: 0.6334 - val_acc: 0.6402\n",
            "Epoch 17/10000\n",
            "255098/255098 [==============================] - 2s 9us/step - loss: 0.6280 - acc: 0.6420 - val_loss: 0.6333 - val_acc: 0.6396\n",
            "Epoch 18/10000\n",
            "255098/255098 [==============================] - 2s 9us/step - loss: 0.6268 - acc: 0.6435 - val_loss: 0.6338 - val_acc: 0.6403\n",
            "Epoch 19/10000\n",
            "255098/255098 [==============================] - 2s 9us/step - loss: 0.6261 - acc: 0.6429 - val_loss: 0.6331 - val_acc: 0.6408\n",
            "Epoch 20/10000\n",
            "255098/255098 [==============================] - 2s 9us/step - loss: 0.6252 - acc: 0.6443 - val_loss: 0.6335 - val_acc: 0.6405\n",
            "Epoch 21/10000\n",
            "255098/255098 [==============================] - 2s 9us/step - loss: 0.6245 - acc: 0.6454 - val_loss: 0.6337 - val_acc: 0.6409\n",
            "Epoch 22/10000\n",
            "255098/255098 [==============================] - 2s 9us/step - loss: 0.6232 - acc: 0.6467 - val_loss: 0.6331 - val_acc: 0.6407\n",
            "Epoch 23/10000\n",
            "255098/255098 [==============================] - 2s 9us/step - loss: 0.6223 - acc: 0.6469 - val_loss: 0.6347 - val_acc: 0.6402\n",
            "Epoch 24/10000\n",
            "255098/255098 [==============================] - 2s 9us/step - loss: 0.6211 - acc: 0.6480 - val_loss: 0.6344 - val_acc: 0.6408\n"
          ],
          "name": "stdout"
        }
      ]
    },
    {
      "metadata": {
        "id": "arEeSG3msvo5",
        "colab_type": "text"
      },
      "cell_type": "markdown",
      "source": [
        "## Predições no conjunto de teste"
      ]
    },
    {
      "metadata": {
        "id": "rdJvcUk9rJbo",
        "colab_type": "code",
        "colab": {}
      },
      "cell_type": "code",
      "source": [
        "def compute_performance_metrics(y, y_pred_class, y_pred_scores=None):\n",
        "    accuracy = accuracy_score(y, y_pred_class)\n",
        "    recall = recall_score(y, y_pred_class)\n",
        "    precision = precision_score(y, y_pred_class)\n",
        "    f1 = f1_score(y, y_pred_class)\n",
        "    performance_metrics = (accuracy, recall, precision, f1)\n",
        "    if y_pred_scores is not None:\n",
        "        skplt.metrics.plot_ks_statistic(y, y_pred_scores)\n",
        "        plt.show()\n",
        "        y_pred_scores = y_pred_scores[:, 1]\n",
        "        auroc = roc_auc_score(y, y_pred_scores)\n",
        "        aupr = average_precision_score(y, y_pred_scores)\n",
        "        performance_metrics = performance_metrics + (auroc, aupr)\n",
        "    return performance_metrics\n",
        "\n",
        "def print_metrics_summary(accuracy, recall, precision, f1, auroc=None, aupr=None):\n",
        "    print()\n",
        "    print(\"{metric:<18}{value:.4f}\".format(metric=\"Accuracy:\", value=accuracy))\n",
        "    print(\"{metric:<18}{value:.4f}\".format(metric=\"Recall:\", value=recall))\n",
        "    print(\"{metric:<18}{value:.4f}\".format(metric=\"Precision:\", value=precision))\n",
        "    print(\"{metric:<18}{value:.4f}\".format(metric=\"F1:\", value=f1))\n",
        "    if auroc is not None:\n",
        "        print(\"{metric:<18}{value:.4f}\".format(metric=\"AUROC:\", value=auroc))\n",
        "    if aupr is not None:\n",
        "        print(\"{metric:<18}{value:.4f}\".format(metric=\"AUPR:\", value=aupr))"
      ],
      "execution_count": 0,
      "outputs": []
    },
    {
      "metadata": {
        "id": "dr5kzA27r4xB",
        "colab_type": "code",
        "outputId": "276fe4d0-31d0-425f-c1f2-bdfb87847bd5",
        "colab": {
          "base_uri": "https://localhost:8080/",
          "height": 413
        }
      },
      "cell_type": "code",
      "source": [
        "# Fazer predições no conjunto de teste\n",
        "y_pred_scores = model.predict(X_test)\n",
        "y_pred_class = model.predict_classes(X_test, verbose=0)\n",
        "y_pred_scores_0 = 1 - y_pred_scores\n",
        "y_pred_scores = np.concatenate([y_pred_scores_0, y_pred_scores], axis=1)\n",
        "\n",
        "accuracy, recall, precision, f1, auroc, aupr = compute_performance_metrics(y_test, y_pred_class, y_pred_scores)\n",
        "print_metrics_summary(accuracy, recall, precision, f1, auroc, aupr)"
      ],
      "execution_count": 36,
      "outputs": [
        {
          "output_type": "display_data",
          "data": {
            "image/png": "[encoded data removed]",
            "text/plain": [
              "<matplotlib.figure.Figure at 0x7efdfae464a8>"
            ]
          },
          "metadata": {
            "tags": []
          }
        },
        {
          "output_type": "stream",
          "text": [
            "\n",
            "Accuracy:         0.6412\n",
            "Recall:           0.5896\n",
            "Precision:        0.6574\n",
            "F1:               0.6217\n",
            "AUROC:            0.6939\n",
            "AUPR:             0.6923\n"
          ],
          "name": "stdout"
        }
      ]
    },
    {
      "metadata": {
        "id": "WD_gLWZFaPtn",
        "colab_type": "text"
      },
      "cell_type": "markdown",
      "source": [
        "## Ensemble de MLP's\n",
        "Nosso próximo passo será criar um ensemble de MLP's para avaliarmos, para isso utilizaremos o método bagging. Várias redes serão treinadas de forma independentes utilizando subconjuntos do conjunto original de treino,  onde esse subconjuntos podem se sobrepôr. Além disso, cada subconjunto contém suas próprias features, ou seja, cada rede é treinada utilizando um conjuno de features definido de forma aleatória. Isso permite que cada rede consiga se \"especializar\" em características diferentes do dataset. No momento de avaliação cada rede neural é submetida ao conjunto de teste e suas predições são obtidas para compor a predição final do ensemble, onde esta predição final é definida pela maioria dos votos das redes."
      ]
    },
    {
      "metadata": {
        "id": "8cCq4siwAVda",
        "colab_type": "code",
        "colab": {}
      },
      "cell_type": "code",
      "source": [
        "def create_emsemble(n_models, instances_ratio, features_ratio, params):\n",
        "    models = []\n",
        "    features_idx = []\n",
        "    for i in range(n_models):\n",
        "        features = np.random.choice(range(X_train.shape[1]),\n",
        "                                    round(X_train.shape[1] * features_ratio))\n",
        "        \n",
        "        _, xi_train, _, yi_train = train_test_split(X_train,\n",
        "                                                    y_train,\n",
        "                                                    test_size=instances_ratio,\n",
        "                                                    random_state=42,\n",
        "                                                    stratify=y_train)\n",
        "        \n",
        "        xi_train = xi_train[:, features]\n",
        "        xi_val = X_val[:, features]\n",
        "    \n",
        "        model = create_model(xi_train.shape[1], 1, params)\n",
        "        print()\n",
        "        print(\"-----------------Training MLP {}-----------------\".format(i))\n",
        "        print()\n",
        "        model.fit(xi_train, yi_train,\n",
        "                  batch_size=1024,\n",
        "                  epochs=10000,\n",
        "                  validation_data=(xi_val, y_val),\n",
        "                  callbacks=[EarlyStopping(patience=5)],\n",
        "                  verbose=1)\n",
        "        model.save_weights(MODELS_PATH + \"model-{}.hdf5\".format(i), overwrite=True)\n",
        "        \n",
        "        models.append(model)\n",
        "        features_idx.append(features)\n",
        "        \n",
        "        # Avoiding memory issues\n",
        "        K.clear_session()\n",
        "        \n",
        "    np.save(MODELS_PATH + \"features.npy\", np.array(features_idx))\n",
        "        \n",
        "    return models, features_idx"
      ],
      "execution_count": 0,
      "outputs": []
    },
    {
      "metadata": {
        "id": "orEfjs9EAVdg",
        "colab_type": "code",
        "colab": {}
      },
      "cell_type": "code",
      "source": [
        "def evaluate_model(features_idx, params):\n",
        "    predictions = []\n",
        "    for i, f in enumerate(features_idx):\n",
        "        xi_test = X_test[:, f]\n",
        "        model = create_model(xi_test.shape[1], 1, params)\n",
        "        model.load_weights(MODELS_PATH + \"model-{}.hdf5\".format(i))\n",
        "        pred = model.predict(xi_test, batch_size=1024, verbose=1)\n",
        "        predictions.append(pred)\n",
        "        \n",
        "        K.clear_session()\n",
        "    \n",
        "    pred_mean = np.round(np.array(predictions)[:,:,0].mean(axis=0))\n",
        "    pred_mean_score = np.array(predictions)[:,:,0].mean(axis=0)\n",
        "    pred_mean_score_0 = 1 - pred_mean_score\n",
        "    pred_mean_score = np.column_stack([pred_mean_score_0, pred_mean_score])\n",
        "    \n",
        "    accuracy, recall, precision, f1, auroc, aupr = compute_performance_metrics(y_test, pred_mean, pred_mean_score)\n",
        "    \n",
        "    print_metrics_summary(accuracy, recall, precision, f1, auroc, aupr)\n",
        "\n",
        "    #accuracy = pred_mean[pred_mean == y_test].shape[0] / X_test.shape[0]\n",
        "    \n",
        "    #print(\"Accuray: {}\".format(accuracy))"
      ],
      "execution_count": 0,
      "outputs": []
    },
    {
      "metadata": {
        "id": "VeSggobSAVd4",
        "colab_type": "code",
        "outputId": "7ac8066d-a028-49ea-eadf-3c69a8ee5bbc",
        "colab": {
          "base_uri": "https://localhost:8080/",
          "height": 38797
        }
      },
      "cell_type": "code",
      "source": [
        "models, features = create_emsemble(20, 0.8, 0.5, params)"
      ],
      "execution_count": 14,
      "outputs": [
        {
          "output_type": "stream",
          "text": [
            "\n",
            "-----------------Training MLP 0-----------------\n",
            "\n",
            "Train on 204079 samples, validate on 127550 samples\n",
            "Epoch 1/10000\n",
            "204079/204079 [==============================] - 4s 21us/step - loss: 0.6950 - acc: 0.5393 - val_loss: 0.6806 - val_acc: 0.5671\n",
            "Epoch 2/10000\n",
            "204079/204079 [==============================] - 2s 9us/step - loss: 0.6817 - acc: 0.5634 - val_loss: 0.6808 - val_acc: 0.5657\n",
            "Epoch 3/10000\n",
            "204079/204079 [==============================] - 2s 9us/step - loss: 0.6797 - acc: 0.5671 - val_loss: 0.6787 - val_acc: 0.5698\n",
            "Epoch 4/10000\n",
            "204079/204079 [==============================] - 2s 10us/step - loss: 0.6783 - acc: 0.5714 - val_loss: 0.6777 - val_acc: 0.5717\n",
            "Epoch 5/10000\n",
            "204079/204079 [==============================] - 2s 10us/step - loss: 0.6774 - acc: 0.5721 - val_loss: 0.6775 - val_acc: 0.5716\n",
            "Epoch 6/10000\n",
            "204079/204079 [==============================] - 2s 10us/step - loss: 0.6763 - acc: 0.5744 - val_loss: 0.6758 - val_acc: 0.5753\n",
            "Epoch 7/10000\n",
            "204079/204079 [==============================] - 2s 10us/step - loss: 0.6751 - acc: 0.5757 - val_loss: 0.6746 - val_acc: 0.5784\n",
            "Epoch 8/10000\n",
            "204079/204079 [==============================] - 2s 10us/step - loss: 0.6742 - acc: 0.5782 - val_loss: 0.6731 - val_acc: 0.5807\n",
            "Epoch 9/10000\n",
            "204079/204079 [==============================] - 2s 10us/step - loss: 0.6723 - acc: 0.5826 - val_loss: 0.6717 - val_acc: 0.5842\n",
            "Epoch 10/10000\n",
            "204079/204079 [==============================] - 2s 10us/step - loss: 0.6709 - acc: 0.5862 - val_loss: 0.6709 - val_acc: 0.5860\n",
            "Epoch 11/10000\n",
            "204079/204079 [==============================] - 2s 9us/step - loss: 0.6703 - acc: 0.5867 - val_loss: 0.6695 - val_acc: 0.5895\n",
            "Epoch 12/10000\n",
            "204079/204079 [==============================] - 2s 9us/step - loss: 0.6696 - acc: 0.5877 - val_loss: 0.6688 - val_acc: 0.5908\n",
            "Epoch 13/10000\n",
            "204079/204079 [==============================] - 2s 10us/step - loss: 0.6694 - acc: 0.5894 - val_loss: 0.6687 - val_acc: 0.5928\n",
            "Epoch 14/10000\n",
            "204079/204079 [==============================] - 2s 10us/step - loss: 0.6685 - acc: 0.5904 - val_loss: 0.6684 - val_acc: 0.5929\n",
            "Epoch 15/10000\n",
            "204079/204079 [==============================] - 2s 10us/step - loss: 0.6678 - acc: 0.5913 - val_loss: 0.6683 - val_acc: 0.5911\n",
            "Epoch 16/10000\n",
            "204079/204079 [==============================] - 2s 10us/step - loss: 0.6676 - acc: 0.5919 - val_loss: 0.6675 - val_acc: 0.5935\n",
            "Epoch 17/10000\n",
            "204079/204079 [==============================] - 2s 10us/step - loss: 0.6669 - acc: 0.5930 - val_loss: 0.6670 - val_acc: 0.5952\n",
            "Epoch 18/10000\n",
            "204079/204079 [==============================] - 2s 10us/step - loss: 0.6663 - acc: 0.5944 - val_loss: 0.6674 - val_acc: 0.5938\n",
            "Epoch 19/10000\n",
            "204079/204079 [==============================] - 2s 10us/step - loss: 0.6657 - acc: 0.5948 - val_loss: 0.6665 - val_acc: 0.5954\n",
            "Epoch 20/10000\n",
            "204079/204079 [==============================] - 2s 10us/step - loss: 0.6653 - acc: 0.5956 - val_loss: 0.6661 - val_acc: 0.5973\n",
            "Epoch 21/10000\n",
            "204079/204079 [==============================] - 2s 9us/step - loss: 0.6649 - acc: 0.5957 - val_loss: 0.6659 - val_acc: 0.5976\n",
            "Epoch 22/10000\n",
            "204079/204079 [==============================] - 2s 9us/step - loss: 0.6638 - acc: 0.5973 - val_loss: 0.6653 - val_acc: 0.5976\n",
            "Epoch 23/10000\n",
            "204079/204079 [==============================] - 2s 9us/step - loss: 0.6638 - acc: 0.5974 - val_loss: 0.6653 - val_acc: 0.5975\n",
            "Epoch 24/10000\n",
            "204079/204079 [==============================] - 2s 9us/step - loss: 0.6632 - acc: 0.5988 - val_loss: 0.6645 - val_acc: 0.5994\n",
            "Epoch 25/10000\n",
            "204079/204079 [==============================] - 2s 9us/step - loss: 0.6629 - acc: 0.5989 - val_loss: 0.6642 - val_acc: 0.5998\n",
            "Epoch 26/10000\n",
            "204079/204079 [==============================] - 2s 9us/step - loss: 0.6622 - acc: 0.6008 - val_loss: 0.6638 - val_acc: 0.5998\n",
            "Epoch 27/10000\n",
            "204079/204079 [==============================] - 2s 9us/step - loss: 0.6615 - acc: 0.5996 - val_loss: 0.6637 - val_acc: 0.6009\n",
            "Epoch 28/10000\n",
            "204079/204079 [==============================] - 2s 9us/step - loss: 0.6611 - acc: 0.6020 - val_loss: 0.6637 - val_acc: 0.6007\n",
            "Epoch 29/10000\n",
            "204079/204079 [==============================] - 2s 10us/step - loss: 0.6603 - acc: 0.6024 - val_loss: 0.6630 - val_acc: 0.6016\n",
            "Epoch 30/10000\n",
            "204079/204079 [==============================] - 2s 10us/step - loss: 0.6600 - acc: 0.6035 - val_loss: 0.6635 - val_acc: 0.6011\n",
            "Epoch 31/10000\n",
            "204079/204079 [==============================] - 2s 10us/step - loss: 0.6595 - acc: 0.6038 - val_loss: 0.6633 - val_acc: 0.6019\n",
            "Epoch 32/10000\n",
            "204079/204079 [==============================] - 2s 10us/step - loss: 0.6589 - acc: 0.6052 - val_loss: 0.6629 - val_acc: 0.6023\n",
            "Epoch 33/10000\n",
            "204079/204079 [==============================] - 2s 10us/step - loss: 0.6586 - acc: 0.6054 - val_loss: 0.6627 - val_acc: 0.6017\n",
            "Epoch 34/10000\n",
            "204079/204079 [==============================] - 2s 10us/step - loss: 0.6574 - acc: 0.6072 - val_loss: 0.6622 - val_acc: 0.6025\n",
            "Epoch 35/10000\n",
            "204079/204079 [==============================] - 2s 10us/step - loss: 0.6576 - acc: 0.6074 - val_loss: 0.6623 - val_acc: 0.6031\n",
            "Epoch 36/10000\n",
            "204079/204079 [==============================] - 2s 9us/step - loss: 0.6568 - acc: 0.6077 - val_loss: 0.6621 - val_acc: 0.6038\n",
            "Epoch 37/10000\n",
            "204079/204079 [==============================] - 2s 9us/step - loss: 0.6563 - acc: 0.6093 - val_loss: 0.6615 - val_acc: 0.6040\n",
            "Epoch 38/10000\n",
            "204079/204079 [==============================] - 2s 9us/step - loss: 0.6555 - acc: 0.6092 - val_loss: 0.6621 - val_acc: 0.6031\n",
            "Epoch 39/10000\n",
            "204079/204079 [==============================] - 2s 9us/step - loss: 0.6546 - acc: 0.6105 - val_loss: 0.6624 - val_acc: 0.6027\n",
            "Epoch 40/10000\n",
            "204079/204079 [==============================] - 2s 9us/step - loss: 0.6543 - acc: 0.6114 - val_loss: 0.6611 - val_acc: 0.6050\n",
            "Epoch 41/10000\n",
            "204079/204079 [==============================] - 2s 9us/step - loss: 0.6538 - acc: 0.6104 - val_loss: 0.6615 - val_acc: 0.6045\n",
            "Epoch 42/10000\n",
            "204079/204079 [==============================] - 2s 9us/step - loss: 0.6530 - acc: 0.6123 - val_loss: 0.6609 - val_acc: 0.6047\n",
            "Epoch 43/10000\n",
            "204079/204079 [==============================] - 2s 9us/step - loss: 0.6526 - acc: 0.6128 - val_loss: 0.6609 - val_acc: 0.6041\n",
            "Epoch 44/10000\n",
            "204079/204079 [==============================] - 2s 9us/step - loss: 0.6517 - acc: 0.6136 - val_loss: 0.6609 - val_acc: 0.6045\n",
            "Epoch 45/10000\n",
            "204079/204079 [==============================] - 2s 10us/step - loss: 0.6517 - acc: 0.6155 - val_loss: 0.6605 - val_acc: 0.6050\n",
            "Epoch 46/10000\n",
            "204079/204079 [==============================] - 2s 10us/step - loss: 0.6506 - acc: 0.6148 - val_loss: 0.6606 - val_acc: 0.6053\n",
            "Epoch 47/10000\n",
            "204079/204079 [==============================] - 2s 10us/step - loss: 0.6501 - acc: 0.6163 - val_loss: 0.6608 - val_acc: 0.6048\n",
            "Epoch 48/10000\n",
            "204079/204079 [==============================] - 2s 10us/step - loss: 0.6498 - acc: 0.6151 - val_loss: 0.6607 - val_acc: 0.6050\n",
            "Epoch 49/10000\n",
            "204079/204079 [==============================] - 2s 9us/step - loss: 0.6487 - acc: 0.6176 - val_loss: 0.6607 - val_acc: 0.6052\n",
            "Epoch 50/10000\n",
            "204079/204079 [==============================] - 2s 10us/step - loss: 0.6484 - acc: 0.6171 - val_loss: 0.6604 - val_acc: 0.6046\n",
            "Epoch 51/10000\n",
            "204079/204079 [==============================] - 2s 10us/step - loss: 0.6476 - acc: 0.6183 - val_loss: 0.6604 - val_acc: 0.6056\n",
            "Epoch 52/10000\n",
            "204079/204079 [==============================] - 2s 10us/step - loss: 0.6472 - acc: 0.6192 - val_loss: 0.6600 - val_acc: 0.6050\n",
            "Epoch 53/10000\n",
            "204079/204079 [==============================] - 2s 10us/step - loss: 0.6467 - acc: 0.6203 - val_loss: 0.6604 - val_acc: 0.6055\n",
            "Epoch 54/10000\n",
            "204079/204079 [==============================] - 2s 10us/step - loss: 0.6464 - acc: 0.6202 - val_loss: 0.6601 - val_acc: 0.6054\n",
            "Epoch 55/10000\n",
            "204079/204079 [==============================] - 2s 10us/step - loss: 0.6456 - acc: 0.6207 - val_loss: 0.6602 - val_acc: 0.6061\n",
            "Epoch 56/10000\n",
            "204079/204079 [==============================] - 2s 9us/step - loss: 0.6453 - acc: 0.6205 - val_loss: 0.6602 - val_acc: 0.6058\n",
            "Epoch 57/10000\n",
            "204079/204079 [==============================] - 2s 9us/step - loss: 0.6445 - acc: 0.6228 - val_loss: 0.6600 - val_acc: 0.6070\n",
            "Epoch 58/10000\n",
            "204079/204079 [==============================] - 2s 10us/step - loss: 0.6441 - acc: 0.6232 - val_loss: 0.6601 - val_acc: 0.6063\n",
            "Epoch 59/10000\n",
            "204079/204079 [==============================] - 2s 9us/step - loss: 0.6436 - acc: 0.6240 - val_loss: 0.6605 - val_acc: 0.6042\n",
            "Epoch 60/10000\n",
            "204079/204079 [==============================] - 2s 9us/step - loss: 0.6431 - acc: 0.6248 - val_loss: 0.6601 - val_acc: 0.6066\n",
            "Epoch 61/10000\n",
            "204079/204079 [==============================] - 2s 9us/step - loss: 0.6422 - acc: 0.6239 - val_loss: 0.6603 - val_acc: 0.6061\n",
            "Epoch 62/10000\n",
            "204079/204079 [==============================] - 2s 10us/step - loss: 0.6413 - acc: 0.6261 - val_loss: 0.6598 - val_acc: 0.6076\n",
            "Epoch 63/10000\n",
            "204079/204079 [==============================] - 2s 10us/step - loss: 0.6409 - acc: 0.6260 - val_loss: 0.6603 - val_acc: 0.6067\n",
            "Epoch 64/10000\n",
            "204079/204079 [==============================] - 2s 10us/step - loss: 0.6412 - acc: 0.6259 - val_loss: 0.6609 - val_acc: 0.6060\n",
            "Epoch 65/10000\n",
            "204079/204079 [==============================] - 2s 10us/step - loss: 0.6398 - acc: 0.6270 - val_loss: 0.6611 - val_acc: 0.6055\n",
            "Epoch 66/10000\n",
            "204079/204079 [==============================] - 2s 10us/step - loss: 0.6401 - acc: 0.6266 - val_loss: 0.6602 - val_acc: 0.6075\n",
            "Epoch 67/10000\n",
            "204079/204079 [==============================] - 2s 10us/step - loss: 0.6392 - acc: 0.6277 - val_loss: 0.6605 - val_acc: 0.6062\n",
            "WARNING:tensorflow:This model was compiled with a Keras optimizer (<tensorflow.python.keras.optimizers.Adam object at 0x7efeaa5684e0>) but is being saved in TensorFlow format with `save_weights`. The model's weights will be saved, but unlike with TensorFlow optimizers in the TensorFlow format the optimizer's state will not be saved.\n",
            "\n",
            "Consider using a TensorFlow optimizer from `tf.train`.\n",
            "\n",
            "-----------------Training MLP 1-----------------\n",
            "\n",
            "Train on 204079 samples, validate on 127550 samples\n",
            "Epoch 1/10000\n",
            "204079/204079 [==============================] - 2s 11us/step - loss: 0.6915 - acc: 0.5502 - val_loss: 0.6739 - val_acc: 0.5770\n",
            "Epoch 2/10000\n",
            "204079/204079 [==============================] - 2s 10us/step - loss: 0.6769 - acc: 0.5719 - val_loss: 0.6728 - val_acc: 0.5823\n",
            "Epoch 3/10000\n",
            "204079/204079 [==============================] - 2s 10us/step - loss: 0.6734 - acc: 0.5786 - val_loss: 0.6708 - val_acc: 0.5833\n",
            "Epoch 4/10000\n",
            "204079/204079 [==============================] - 2s 10us/step - loss: 0.6712 - acc: 0.5819 - val_loss: 0.6691 - val_acc: 0.5854\n",
            "Epoch 5/10000\n",
            "204079/204079 [==============================] - 2s 10us/step - loss: 0.6690 - acc: 0.5860 - val_loss: 0.6673 - val_acc: 0.5909\n",
            "Epoch 6/10000\n",
            "204079/204079 [==============================] - 2s 10us/step - loss: 0.6676 - acc: 0.5887 - val_loss: 0.6662 - val_acc: 0.5913\n",
            "Epoch 7/10000\n",
            "204079/204079 [==============================] - 2s 10us/step - loss: 0.6663 - acc: 0.5906 - val_loss: 0.6651 - val_acc: 0.5938\n",
            "Epoch 8/10000\n",
            "204079/204079 [==============================] - 2s 10us/step - loss: 0.6651 - acc: 0.5931 - val_loss: 0.6642 - val_acc: 0.5965\n",
            "Epoch 9/10000\n",
            "204079/204079 [==============================] - 2s 9us/step - loss: 0.6640 - acc: 0.5943 - val_loss: 0.6628 - val_acc: 0.5985\n",
            "Epoch 10/10000\n",
            "204079/204079 [==============================] - 2s 10us/step - loss: 0.6626 - acc: 0.5970 - val_loss: 0.6613 - val_acc: 0.6002\n",
            "Epoch 11/10000\n",
            "204079/204079 [==============================] - 2s 10us/step - loss: 0.6618 - acc: 0.5988 - val_loss: 0.6604 - val_acc: 0.6044\n",
            "Epoch 12/10000\n",
            "204079/204079 [==============================] - 2s 10us/step - loss: 0.6604 - acc: 0.6011 - val_loss: 0.6593 - val_acc: 0.6048\n",
            "Epoch 13/10000\n",
            "204079/204079 [==============================] - 2s 10us/step - loss: 0.6595 - acc: 0.6024 - val_loss: 0.6590 - val_acc: 0.6060\n",
            "Epoch 14/10000\n",
            "204079/204079 [==============================] - 2s 10us/step - loss: 0.6584 - acc: 0.6046 - val_loss: 0.6578 - val_acc: 0.6069\n",
            "Epoch 15/10000\n",
            "204079/204079 [==============================] - 2s 10us/step - loss: 0.6574 - acc: 0.6061 - val_loss: 0.6574 - val_acc: 0.6087\n",
            "Epoch 16/10000\n",
            "204079/204079 [==============================] - 2s 10us/step - loss: 0.6566 - acc: 0.6077 - val_loss: 0.6565 - val_acc: 0.6101\n",
            "Epoch 17/10000\n",
            "204079/204079 [==============================] - 2s 9us/step - loss: 0.6558 - acc: 0.6082 - val_loss: 0.6557 - val_acc: 0.6095\n",
            "Epoch 18/10000\n",
            "204079/204079 [==============================] - 2s 10us/step - loss: 0.6547 - acc: 0.6097 - val_loss: 0.6559 - val_acc: 0.6106\n",
            "Epoch 19/10000\n",
            "204079/204079 [==============================] - 2s 9us/step - loss: 0.6543 - acc: 0.6102 - val_loss: 0.6549 - val_acc: 0.6112\n",
            "Epoch 20/10000\n",
            "204079/204079 [==============================] - 2s 10us/step - loss: 0.6537 - acc: 0.6114 - val_loss: 0.6543 - val_acc: 0.6133\n",
            "Epoch 21/10000\n",
            "204079/204079 [==============================] - 2s 10us/step - loss: 0.6531 - acc: 0.6116 - val_loss: 0.6539 - val_acc: 0.6131\n",
            "Epoch 22/10000\n",
            "204079/204079 [==============================] - 2s 10us/step - loss: 0.6523 - acc: 0.6136 - val_loss: 0.6542 - val_acc: 0.6134\n",
            "Epoch 23/10000\n",
            "204079/204079 [==============================] - 2s 10us/step - loss: 0.6511 - acc: 0.6150 - val_loss: 0.6533 - val_acc: 0.6139\n",
            "Epoch 24/10000\n",
            "204079/204079 [==============================] - 2s 10us/step - loss: 0.6509 - acc: 0.6150 - val_loss: 0.6529 - val_acc: 0.6142\n",
            "Epoch 25/10000\n",
            "204079/204079 [==============================] - 2s 9us/step - loss: 0.6503 - acc: 0.6161 - val_loss: 0.6530 - val_acc: 0.6148\n",
            "Epoch 26/10000\n",
            "204079/204079 [==============================] - 2s 9us/step - loss: 0.6496 - acc: 0.6175 - val_loss: 0.6522 - val_acc: 0.6158\n",
            "Epoch 27/10000\n",
            "204079/204079 [==============================] - 2s 10us/step - loss: 0.6485 - acc: 0.6177 - val_loss: 0.6523 - val_acc: 0.6155\n",
            "Epoch 28/10000\n",
            "204079/204079 [==============================] - 2s 9us/step - loss: 0.6482 - acc: 0.6192 - val_loss: 0.6521 - val_acc: 0.6156\n",
            "Epoch 29/10000\n",
            "204079/204079 [==============================] - 2s 10us/step - loss: 0.6476 - acc: 0.6193 - val_loss: 0.6515 - val_acc: 0.6177\n",
            "Epoch 30/10000\n",
            "204079/204079 [==============================] - 2s 9us/step - loss: 0.6471 - acc: 0.6211 - val_loss: 0.6518 - val_acc: 0.6180\n",
            "Epoch 31/10000\n",
            "204079/204079 [==============================] - 2s 9us/step - loss: 0.6464 - acc: 0.6202 - val_loss: 0.6512 - val_acc: 0.6184\n",
            "Epoch 32/10000\n",
            "204079/204079 [==============================] - 2s 10us/step - loss: 0.6456 - acc: 0.6215 - val_loss: 0.6516 - val_acc: 0.6177\n",
            "Epoch 33/10000\n",
            "204079/204079 [==============================] - 2s 9us/step - loss: 0.6453 - acc: 0.6220 - val_loss: 0.6513 - val_acc: 0.6175\n",
            "Epoch 34/10000\n",
            "204079/204079 [==============================] - 2s 9us/step - loss: 0.6450 - acc: 0.6221 - val_loss: 0.6510 - val_acc: 0.6191\n",
            "Epoch 35/10000\n",
            "204079/204079 [==============================] - 2s 9us/step - loss: 0.6440 - acc: 0.6239 - val_loss: 0.6513 - val_acc: 0.6176\n",
            "Epoch 36/10000\n",
            "204079/204079 [==============================] - 2s 10us/step - loss: 0.6441 - acc: 0.6233 - val_loss: 0.6503 - val_acc: 0.6199\n",
            "Epoch 37/10000\n",
            "204079/204079 [==============================] - 2s 9us/step - loss: 0.6431 - acc: 0.6246 - val_loss: 0.6504 - val_acc: 0.6187\n",
            "Epoch 38/10000\n",
            "204079/204079 [==============================] - 2s 9us/step - loss: 0.6433 - acc: 0.6242 - val_loss: 0.6504 - val_acc: 0.6191\n",
            "Epoch 39/10000\n",
            "204079/204079 [==============================] - 2s 9us/step - loss: 0.6418 - acc: 0.6266 - val_loss: 0.6503 - val_acc: 0.6205\n",
            "Epoch 40/10000\n",
            "204079/204079 [==============================] - 2s 9us/step - loss: 0.6414 - acc: 0.6276 - val_loss: 0.6503 - val_acc: 0.6186\n",
            "Epoch 41/10000\n",
            "204079/204079 [==============================] - 2s 9us/step - loss: 0.6408 - acc: 0.6276 - val_loss: 0.6502 - val_acc: 0.6193\n",
            "Epoch 42/10000\n",
            "204079/204079 [==============================] - 2s 9us/step - loss: 0.6403 - acc: 0.6276 - val_loss: 0.6501 - val_acc: 0.6198\n",
            "Epoch 43/10000\n",
            "204079/204079 [==============================] - 2s 9us/step - loss: 0.6398 - acc: 0.6289 - val_loss: 0.6496 - val_acc: 0.6207\n",
            "Epoch 44/10000\n",
            "204079/204079 [==============================] - 2s 9us/step - loss: 0.6397 - acc: 0.6291 - val_loss: 0.6503 - val_acc: 0.6200\n",
            "Epoch 45/10000\n",
            "204079/204079 [==============================] - 2s 10us/step - loss: 0.6396 - acc: 0.6284 - val_loss: 0.6497 - val_acc: 0.6201\n",
            "Epoch 46/10000\n",
            "204079/204079 [==============================] - 2s 10us/step - loss: 0.6384 - acc: 0.6294 - val_loss: 0.6497 - val_acc: 0.6201\n",
            "Epoch 47/10000\n",
            "204079/204079 [==============================] - 2s 10us/step - loss: 0.6379 - acc: 0.6305 - val_loss: 0.6498 - val_acc: 0.6210\n",
            "Epoch 48/10000\n",
            "204079/204079 [==============================] - 2s 9us/step - loss: 0.6375 - acc: 0.6314 - val_loss: 0.6505 - val_acc: 0.6190\n",
            "WARNING:tensorflow:This model was compiled with a Keras optimizer (<tensorflow.python.keras.optimizers.Adam object at 0x7efe65689f98>) but is being saved in TensorFlow format with `save_weights`. The model's weights will be saved, but unlike with TensorFlow optimizers in the TensorFlow format the optimizer's state will not be saved.\n",
            "\n",
            "Consider using a TensorFlow optimizer from `tf.train`.\n",
            "\n",
            "-----------------Training MLP 2-----------------\n",
            "\n",
            "Train on 204079 samples, validate on 127550 samples\n",
            "Epoch 1/10000\n",
            "204079/204079 [==============================] - 2s 11us/step - loss: 0.7000 - acc: 0.5271 - val_loss: 0.6846 - val_acc: 0.5525\n",
            "Epoch 2/10000\n",
            "204079/204079 [==============================] - 2s 9us/step - loss: 0.6881 - acc: 0.5413 - val_loss: 0.6840 - val_acc: 0.5534\n",
            "Epoch 3/10000\n",
            "204079/204079 [==============================] - 2s 9us/step - loss: 0.6855 - acc: 0.5494 - val_loss: 0.6833 - val_acc: 0.5544\n",
            "Epoch 4/10000\n",
            "204079/204079 [==============================] - 2s 10us/step - loss: 0.6840 - acc: 0.5515 - val_loss: 0.6812 - val_acc: 0.5584\n",
            "Epoch 5/10000\n",
            "204079/204079 [==============================] - 2s 10us/step - loss: 0.6805 - acc: 0.5604 - val_loss: 0.6756 - val_acc: 0.5726\n",
            "Epoch 6/10000\n",
            "204079/204079 [==============================] - 2s 10us/step - loss: 0.6766 - acc: 0.5697 - val_loss: 0.6736 - val_acc: 0.5784\n",
            "Epoch 7/10000\n",
            "204079/204079 [==============================] - 2s 10us/step - loss: 0.6750 - acc: 0.5740 - val_loss: 0.6730 - val_acc: 0.5807\n",
            "Epoch 8/10000\n",
            "204079/204079 [==============================] - 2s 10us/step - loss: 0.6736 - acc: 0.5775 - val_loss: 0.6724 - val_acc: 0.5821\n",
            "Epoch 9/10000\n",
            "204079/204079 [==============================] - 2s 9us/step - loss: 0.6726 - acc: 0.5788 - val_loss: 0.6711 - val_acc: 0.5842\n",
            "Epoch 10/10000\n",
            "204079/204079 [==============================] - 2s 10us/step - loss: 0.6716 - acc: 0.5816 - val_loss: 0.6696 - val_acc: 0.5860\n",
            "Epoch 11/10000\n",
            "204079/204079 [==============================] - 2s 10us/step - loss: 0.6705 - acc: 0.5822 - val_loss: 0.6688 - val_acc: 0.5890\n",
            "Epoch 12/10000\n",
            "204079/204079 [==============================] - 2s 10us/step - loss: 0.6692 - acc: 0.5860 - val_loss: 0.6680 - val_acc: 0.5889\n",
            "Epoch 13/10000\n",
            "204079/204079 [==============================] - 2s 9us/step - loss: 0.6683 - acc: 0.5874 - val_loss: 0.6670 - val_acc: 0.5910\n",
            "Epoch 14/10000\n",
            "204079/204079 [==============================] - 2s 9us/step - loss: 0.6672 - acc: 0.5898 - val_loss: 0.6666 - val_acc: 0.5925\n",
            "Epoch 15/10000\n",
            "204079/204079 [==============================] - 2s 9us/step - loss: 0.6669 - acc: 0.5900 - val_loss: 0.6659 - val_acc: 0.5924\n",
            "Epoch 16/10000\n",
            "204079/204079 [==============================] - 2s 9us/step - loss: 0.6659 - acc: 0.5901 - val_loss: 0.6653 - val_acc: 0.5955\n",
            "Epoch 17/10000\n",
            "204079/204079 [==============================] - 2s 9us/step - loss: 0.6650 - acc: 0.5925 - val_loss: 0.6646 - val_acc: 0.5950\n",
            "Epoch 18/10000\n",
            "204079/204079 [==============================] - 2s 10us/step - loss: 0.6646 - acc: 0.5945 - val_loss: 0.6645 - val_acc: 0.5967\n",
            "Epoch 19/10000\n",
            "204079/204079 [==============================] - 2s 9us/step - loss: 0.6635 - acc: 0.5949 - val_loss: 0.6641 - val_acc: 0.5967\n",
            "Epoch 20/10000\n",
            "204079/204079 [==============================] - 2s 10us/step - loss: 0.6629 - acc: 0.5960 - val_loss: 0.6633 - val_acc: 0.5987\n",
            "Epoch 21/10000\n",
            "204079/204079 [==============================] - 2s 9us/step - loss: 0.6624 - acc: 0.5981 - val_loss: 0.6627 - val_acc: 0.5978\n",
            "Epoch 22/10000\n",
            "204079/204079 [==============================] - 2s 10us/step - loss: 0.6616 - acc: 0.5982 - val_loss: 0.6626 - val_acc: 0.5984\n",
            "Epoch 23/10000\n",
            "204079/204079 [==============================] - 2s 9us/step - loss: 0.6611 - acc: 0.5996 - val_loss: 0.6622 - val_acc: 0.6000\n",
            "Epoch 24/10000\n",
            "204079/204079 [==============================] - 2s 10us/step - loss: 0.6602 - acc: 0.6004 - val_loss: 0.6621 - val_acc: 0.5990\n",
            "Epoch 25/10000\n",
            "204079/204079 [==============================] - 2s 9us/step - loss: 0.6596 - acc: 0.6016 - val_loss: 0.6616 - val_acc: 0.6001\n",
            "Epoch 26/10000\n",
            "204079/204079 [==============================] - 2s 9us/step - loss: 0.6589 - acc: 0.6027 - val_loss: 0.6607 - val_acc: 0.6018\n",
            "Epoch 27/10000\n",
            "204079/204079 [==============================] - 2s 10us/step - loss: 0.6580 - acc: 0.6031 - val_loss: 0.6604 - val_acc: 0.6022\n",
            "Epoch 28/10000\n",
            "204079/204079 [==============================] - 2s 9us/step - loss: 0.6572 - acc: 0.6049 - val_loss: 0.6603 - val_acc: 0.6023\n",
            "Epoch 29/10000\n",
            "204079/204079 [==============================] - 2s 10us/step - loss: 0.6570 - acc: 0.6050 - val_loss: 0.6596 - val_acc: 0.6040\n",
            "Epoch 30/10000\n",
            "204079/204079 [==============================] - 2s 9us/step - loss: 0.6558 - acc: 0.6075 - val_loss: 0.6592 - val_acc: 0.6044\n",
            "Epoch 31/10000\n",
            "204079/204079 [==============================] - 2s 10us/step - loss: 0.6557 - acc: 0.6074 - val_loss: 0.6590 - val_acc: 0.6048\n",
            "Epoch 32/10000\n",
            "204079/204079 [==============================] - 2s 10us/step - loss: 0.6549 - acc: 0.6079 - val_loss: 0.6593 - val_acc: 0.6048\n",
            "Epoch 33/10000\n",
            "204079/204079 [==============================] - 2s 9us/step - loss: 0.6544 - acc: 0.6093 - val_loss: 0.6589 - val_acc: 0.6054\n",
            "Epoch 34/10000\n",
            "204079/204079 [==============================] - 2s 9us/step - loss: 0.6542 - acc: 0.6100 - val_loss: 0.6584 - val_acc: 0.6055\n",
            "Epoch 35/10000\n",
            "204079/204079 [==============================] - 2s 9us/step - loss: 0.6532 - acc: 0.6110 - val_loss: 0.6584 - val_acc: 0.6052\n",
            "Epoch 36/10000\n",
            "204079/204079 [==============================] - 2s 10us/step - loss: 0.6526 - acc: 0.6119 - val_loss: 0.6584 - val_acc: 0.6053\n",
            "Epoch 37/10000\n",
            "204079/204079 [==============================] - 2s 10us/step - loss: 0.6520 - acc: 0.6134 - val_loss: 0.6579 - val_acc: 0.6056\n",
            "Epoch 38/10000\n",
            "204079/204079 [==============================] - 2s 10us/step - loss: 0.6514 - acc: 0.6135 - val_loss: 0.6581 - val_acc: 0.6069\n",
            "Epoch 39/10000\n",
            "204079/204079 [==============================] - 2s 10us/step - loss: 0.6510 - acc: 0.6136 - val_loss: 0.6578 - val_acc: 0.6063\n",
            "Epoch 40/10000\n",
            "204079/204079 [==============================] - 2s 10us/step - loss: 0.6506 - acc: 0.6154 - val_loss: 0.6576 - val_acc: 0.6075\n",
            "Epoch 41/10000\n",
            "204079/204079 [==============================] - 2s 10us/step - loss: 0.6503 - acc: 0.6141 - val_loss: 0.6573 - val_acc: 0.6070\n",
            "Epoch 42/10000\n",
            "204079/204079 [==============================] - 2s 10us/step - loss: 0.6491 - acc: 0.6173 - val_loss: 0.6572 - val_acc: 0.6074\n",
            "Epoch 43/10000\n",
            "204079/204079 [==============================] - 2s 10us/step - loss: 0.6492 - acc: 0.6159 - val_loss: 0.6572 - val_acc: 0.6072\n",
            "Epoch 44/10000\n",
            "204079/204079 [==============================] - 2s 9us/step - loss: 0.6481 - acc: 0.6178 - val_loss: 0.6571 - val_acc: 0.6082\n",
            "Epoch 45/10000\n",
            "204079/204079 [==============================] - 2s 9us/step - loss: 0.6474 - acc: 0.6183 - val_loss: 0.6567 - val_acc: 0.6078\n",
            "Epoch 46/10000\n",
            "204079/204079 [==============================] - 2s 10us/step - loss: 0.6470 - acc: 0.6199 - val_loss: 0.6569 - val_acc: 0.6069\n",
            "Epoch 47/10000\n",
            "204079/204079 [==============================] - 2s 10us/step - loss: 0.6464 - acc: 0.6203 - val_loss: 0.6567 - val_acc: 0.6074\n",
            "Epoch 48/10000\n",
            "204079/204079 [==============================] - 2s 10us/step - loss: 0.6459 - acc: 0.6215 - val_loss: 0.6572 - val_acc: 0.6078\n",
            "Epoch 49/10000\n",
            "204079/204079 [==============================] - 2s 9us/step - loss: 0.6461 - acc: 0.6213 - val_loss: 0.6567 - val_acc: 0.6081\n",
            "Epoch 50/10000\n",
            "204079/204079 [==============================] - 2s 9us/step - loss: 0.6447 - acc: 0.6223 - val_loss: 0.6569 - val_acc: 0.6085\n",
            "WARNING:tensorflow:This model was compiled with a Keras optimizer (<tensorflow.python.keras.optimizers.Adam object at 0x7efe627aa080>) but is being saved in TensorFlow format with `save_weights`. The model's weights will be saved, but unlike with TensorFlow optimizers in the TensorFlow format the optimizer's state will not be saved.\n",
            "\n",
            "Consider using a TensorFlow optimizer from `tf.train`.\n",
            "\n",
            "-----------------Training MLP 3-----------------\n",
            "\n",
            "Train on 204079 samples, validate on 127550 samples\n",
            "Epoch 1/10000\n",
            "204079/204079 [==============================] - 2s 11us/step - loss: 0.6915 - acc: 0.5485 - val_loss: 0.6756 - val_acc: 0.5770\n",
            "Epoch 2/10000\n",
            "204079/204079 [==============================] - 2s 10us/step - loss: 0.6793 - acc: 0.5688 - val_loss: 0.6753 - val_acc: 0.5762\n",
            "Epoch 3/10000\n",
            "204079/204079 [==============================] - 2s 10us/step - loss: 0.6775 - acc: 0.5722 - val_loss: 0.6746 - val_acc: 0.5777\n",
            "Epoch 4/10000\n",
            "204079/204079 [==============================] - 2s 10us/step - loss: 0.6759 - acc: 0.5745 - val_loss: 0.6733 - val_acc: 0.5795\n",
            "Epoch 5/10000\n",
            "204079/204079 [==============================] - 2s 10us/step - loss: 0.6746 - acc: 0.5776 - val_loss: 0.6718 - val_acc: 0.5820\n",
            "Epoch 6/10000\n",
            "204079/204079 [==============================] - 2s 10us/step - loss: 0.6728 - acc: 0.5819 - val_loss: 0.6699 - val_acc: 0.5869\n",
            "Epoch 7/10000\n",
            "204079/204079 [==============================] - 2s 10us/step - loss: 0.6710 - acc: 0.5851 - val_loss: 0.6682 - val_acc: 0.5882\n",
            "Epoch 8/10000\n",
            "204079/204079 [==============================] - 2s 10us/step - loss: 0.6696 - acc: 0.5877 - val_loss: 0.6674 - val_acc: 0.5900\n",
            "Epoch 9/10000\n",
            "204079/204079 [==============================] - 2s 9us/step - loss: 0.6679 - acc: 0.5904 - val_loss: 0.6659 - val_acc: 0.5926\n",
            "Epoch 10/10000\n",
            "204079/204079 [==============================] - 2s 10us/step - loss: 0.6670 - acc: 0.5917 - val_loss: 0.6648 - val_acc: 0.5937\n",
            "Epoch 11/10000\n",
            "204079/204079 [==============================] - 2s 9us/step - loss: 0.6657 - acc: 0.5942 - val_loss: 0.6633 - val_acc: 0.5975\n",
            "Epoch 12/10000\n",
            "204079/204079 [==============================] - 2s 9us/step - loss: 0.6638 - acc: 0.5977 - val_loss: 0.6617 - val_acc: 0.6000\n",
            "Epoch 13/10000\n",
            "204079/204079 [==============================] - 2s 9us/step - loss: 0.6623 - acc: 0.5995 - val_loss: 0.6601 - val_acc: 0.6043\n",
            "Epoch 14/10000\n",
            "204079/204079 [==============================] - 2s 10us/step - loss: 0.6604 - acc: 0.6025 - val_loss: 0.6590 - val_acc: 0.6063\n",
            "Epoch 15/10000\n",
            "204079/204079 [==============================] - 2s 9us/step - loss: 0.6589 - acc: 0.6064 - val_loss: 0.6571 - val_acc: 0.6090\n",
            "Epoch 16/10000\n",
            "204079/204079 [==============================] - 2s 9us/step - loss: 0.6578 - acc: 0.6075 - val_loss: 0.6566 - val_acc: 0.6109\n",
            "Epoch 17/10000\n",
            "204079/204079 [==============================] - 2s 9us/step - loss: 0.6565 - acc: 0.6098 - val_loss: 0.6562 - val_acc: 0.6124\n",
            "Epoch 18/10000\n",
            "204079/204079 [==============================] - 2s 9us/step - loss: 0.6556 - acc: 0.6110 - val_loss: 0.6546 - val_acc: 0.6131\n",
            "Epoch 19/10000\n",
            "204079/204079 [==============================] - 2s 9us/step - loss: 0.6546 - acc: 0.6134 - val_loss: 0.6542 - val_acc: 0.6137\n",
            "Epoch 20/10000\n",
            "204079/204079 [==============================] - 2s 10us/step - loss: 0.6535 - acc: 0.6147 - val_loss: 0.6536 - val_acc: 0.6155\n",
            "Epoch 21/10000\n",
            "204079/204079 [==============================] - 2s 9us/step - loss: 0.6530 - acc: 0.6156 - val_loss: 0.6534 - val_acc: 0.6167\n",
            "Epoch 22/10000\n",
            "204079/204079 [==============================] - 2s 10us/step - loss: 0.6524 - acc: 0.6159 - val_loss: 0.6530 - val_acc: 0.6146\n",
            "Epoch 23/10000\n",
            "204079/204079 [==============================] - 2s 9us/step - loss: 0.6516 - acc: 0.6170 - val_loss: 0.6529 - val_acc: 0.6168\n",
            "Epoch 24/10000\n",
            "204079/204079 [==============================] - 2s 9us/step - loss: 0.6508 - acc: 0.6176 - val_loss: 0.6524 - val_acc: 0.6179\n",
            "Epoch 25/10000\n",
            "204079/204079 [==============================] - 2s 9us/step - loss: 0.6502 - acc: 0.6182 - val_loss: 0.6519 - val_acc: 0.6169\n",
            "Epoch 26/10000\n",
            "204079/204079 [==============================] - 2s 10us/step - loss: 0.6497 - acc: 0.6190 - val_loss: 0.6518 - val_acc: 0.6183\n",
            "Epoch 27/10000\n",
            "204079/204079 [==============================] - 2s 9us/step - loss: 0.6490 - acc: 0.6197 - val_loss: 0.6511 - val_acc: 0.6184\n",
            "Epoch 28/10000\n",
            "204079/204079 [==============================] - 2s 9us/step - loss: 0.6483 - acc: 0.6212 - val_loss: 0.6510 - val_acc: 0.6173\n",
            "Epoch 29/10000\n",
            "204079/204079 [==============================] - 2s 9us/step - loss: 0.6480 - acc: 0.6210 - val_loss: 0.6509 - val_acc: 0.6184\n",
            "Epoch 30/10000\n",
            "204079/204079 [==============================] - 2s 9us/step - loss: 0.6476 - acc: 0.6212 - val_loss: 0.6511 - val_acc: 0.6183\n",
            "Epoch 31/10000\n",
            "204079/204079 [==============================] - 2s 9us/step - loss: 0.6470 - acc: 0.6218 - val_loss: 0.6505 - val_acc: 0.6180\n",
            "Epoch 32/10000\n",
            "204079/204079 [==============================] - 2s 9us/step - loss: 0.6463 - acc: 0.6227 - val_loss: 0.6505 - val_acc: 0.6186\n",
            "Epoch 33/10000\n",
            "204079/204079 [==============================] - 2s 10us/step - loss: 0.6455 - acc: 0.6241 - val_loss: 0.6501 - val_acc: 0.6196\n",
            "Epoch 34/10000\n",
            "204079/204079 [==============================] - 2s 9us/step - loss: 0.6450 - acc: 0.6243 - val_loss: 0.6506 - val_acc: 0.6186\n",
            "Epoch 35/10000\n",
            "204079/204079 [==============================] - 2s 10us/step - loss: 0.6448 - acc: 0.6246 - val_loss: 0.6498 - val_acc: 0.6198\n",
            "Epoch 36/10000\n",
            "204079/204079 [==============================] - 2s 9us/step - loss: 0.6444 - acc: 0.6255 - val_loss: 0.6504 - val_acc: 0.6209\n",
            "Epoch 37/10000\n",
            "204079/204079 [==============================] - 2s 9us/step - loss: 0.6433 - acc: 0.6266 - val_loss: 0.6499 - val_acc: 0.6194\n",
            "Epoch 38/10000\n",
            "204079/204079 [==============================] - 2s 10us/step - loss: 0.6434 - acc: 0.6259 - val_loss: 0.6498 - val_acc: 0.6200\n",
            "Epoch 39/10000\n",
            "204079/204079 [==============================] - 2s 9us/step - loss: 0.6426 - acc: 0.6276 - val_loss: 0.6494 - val_acc: 0.6203\n",
            "Epoch 40/10000\n",
            "204079/204079 [==============================] - 2s 10us/step - loss: 0.6426 - acc: 0.6268 - val_loss: 0.6495 - val_acc: 0.6206\n",
            "Epoch 41/10000\n",
            "204079/204079 [==============================] - 2s 10us/step - loss: 0.6415 - acc: 0.6290 - val_loss: 0.6493 - val_acc: 0.6202\n",
            "Epoch 42/10000\n",
            "204079/204079 [==============================] - 2s 9us/step - loss: 0.6410 - acc: 0.6295 - val_loss: 0.6496 - val_acc: 0.6202\n",
            "Epoch 43/10000\n",
            "204079/204079 [==============================] - 2s 10us/step - loss: 0.6407 - acc: 0.6287 - val_loss: 0.6498 - val_acc: 0.6195\n",
            "Epoch 44/10000\n",
            "204079/204079 [==============================] - 2s 10us/step - loss: 0.6401 - acc: 0.6301 - val_loss: 0.6498 - val_acc: 0.6206\n",
            "Epoch 45/10000\n",
            "204079/204079 [==============================] - 2s 9us/step - loss: 0.6397 - acc: 0.6300 - val_loss: 0.6495 - val_acc: 0.6198\n",
            "Epoch 46/10000\n",
            "204079/204079 [==============================] - 2s 9us/step - loss: 0.6388 - acc: 0.6316 - val_loss: 0.6496 - val_acc: 0.6214\n",
            "WARNING:tensorflow:This model was compiled with a Keras optimizer (<tensorflow.python.keras.optimizers.Adam object at 0x7efe60124a90>) but is being saved in TensorFlow format with `save_weights`. The model's weights will be saved, but unlike with TensorFlow optimizers in the TensorFlow format the optimizer's state will not be saved.\n",
            "\n",
            "Consider using a TensorFlow optimizer from `tf.train`.\n",
            "\n",
            "-----------------Training MLP 4-----------------\n",
            "\n",
            "Train on 204079 samples, validate on 127550 samples\n",
            "Epoch 1/10000\n",
            "204079/204079 [==============================] - 2s 11us/step - loss: 0.6946 - acc: 0.5337 - val_loss: 0.6830 - val_acc: 0.5570\n",
            "Epoch 2/10000\n",
            "204079/204079 [==============================] - 2s 9us/step - loss: 0.6852 - acc: 0.5517 - val_loss: 0.6827 - val_acc: 0.5582\n",
            "Epoch 3/10000\n",
            "204079/204079 [==============================] - 2s 9us/step - loss: 0.6833 - acc: 0.5563 - val_loss: 0.6819 - val_acc: 0.5598\n",
            "Epoch 4/10000\n",
            "204079/204079 [==============================] - 2s 9us/step - loss: 0.6824 - acc: 0.5577 - val_loss: 0.6817 - val_acc: 0.5594\n",
            "Epoch 5/10000\n",
            "204079/204079 [==============================] - 2s 10us/step - loss: 0.6814 - acc: 0.5596 - val_loss: 0.6803 - val_acc: 0.5627\n",
            "Epoch 6/10000\n",
            "204079/204079 [==============================] - 2s 9us/step - loss: 0.6800 - acc: 0.5643 - val_loss: 0.6784 - val_acc: 0.5709\n",
            "Epoch 7/10000\n",
            "204079/204079 [==============================] - 2s 10us/step - loss: 0.6782 - acc: 0.5697 - val_loss: 0.6757 - val_acc: 0.5780\n",
            "Epoch 8/10000\n",
            "204079/204079 [==============================] - 2s 9us/step - loss: 0.6762 - acc: 0.5753 - val_loss: 0.6739 - val_acc: 0.5819\n",
            "Epoch 9/10000\n",
            "204079/204079 [==============================] - 2s 9us/step - loss: 0.6748 - acc: 0.5783 - val_loss: 0.6730 - val_acc: 0.5829\n",
            "Epoch 10/10000\n",
            "204079/204079 [==============================] - 2s 9us/step - loss: 0.6738 - acc: 0.5811 - val_loss: 0.6718 - val_acc: 0.5859\n",
            "Epoch 11/10000\n",
            "204079/204079 [==============================] - 2s 9us/step - loss: 0.6720 - acc: 0.5834 - val_loss: 0.6710 - val_acc: 0.5870\n",
            "Epoch 12/10000\n",
            "204079/204079 [==============================] - 2s 9us/step - loss: 0.6714 - acc: 0.5848 - val_loss: 0.6709 - val_acc: 0.5877\n",
            "Epoch 13/10000\n",
            "204079/204079 [==============================] - 2s 9us/step - loss: 0.6706 - acc: 0.5868 - val_loss: 0.6698 - val_acc: 0.5895\n",
            "Epoch 14/10000\n",
            "204079/204079 [==============================] - 2s 9us/step - loss: 0.6692 - acc: 0.5899 - val_loss: 0.6686 - val_acc: 0.5903\n",
            "Epoch 15/10000\n",
            "204079/204079 [==============================] - 2s 9us/step - loss: 0.6684 - acc: 0.5909 - val_loss: 0.6683 - val_acc: 0.5916\n",
            "Epoch 16/10000\n",
            "204079/204079 [==============================] - 2s 9us/step - loss: 0.6678 - acc: 0.5907 - val_loss: 0.6673 - val_acc: 0.5932\n",
            "Epoch 17/10000\n",
            "204079/204079 [==============================] - 2s 9us/step - loss: 0.6664 - acc: 0.5939 - val_loss: 0.6672 - val_acc: 0.5933\n",
            "Epoch 18/10000\n",
            "204079/204079 [==============================] - 2s 9us/step - loss: 0.6658 - acc: 0.5945 - val_loss: 0.6669 - val_acc: 0.5940\n",
            "Epoch 19/10000\n",
            "204079/204079 [==============================] - 2s 9us/step - loss: 0.6655 - acc: 0.5951 - val_loss: 0.6664 - val_acc: 0.5949\n",
            "Epoch 20/10000\n",
            "204079/204079 [==============================] - 2s 9us/step - loss: 0.6646 - acc: 0.5957 - val_loss: 0.6658 - val_acc: 0.5971\n",
            "Epoch 21/10000\n",
            "204079/204079 [==============================] - 2s 9us/step - loss: 0.6636 - acc: 0.5969 - val_loss: 0.6662 - val_acc: 0.5962\n",
            "Epoch 22/10000\n",
            "204079/204079 [==============================] - 2s 9us/step - loss: 0.6629 - acc: 0.5995 - val_loss: 0.6647 - val_acc: 0.5977\n",
            "Epoch 23/10000\n",
            "204079/204079 [==============================] - 2s 9us/step - loss: 0.6622 - acc: 0.5996 - val_loss: 0.6648 - val_acc: 0.5967\n",
            "Epoch 24/10000\n",
            "204079/204079 [==============================] - 2s 10us/step - loss: 0.6618 - acc: 0.6007 - val_loss: 0.6647 - val_acc: 0.5990\n",
            "Epoch 25/10000\n",
            "204079/204079 [==============================] - 2s 9us/step - loss: 0.6615 - acc: 0.6024 - val_loss: 0.6640 - val_acc: 0.5993\n",
            "Epoch 26/10000\n",
            "204079/204079 [==============================] - 2s 9us/step - loss: 0.6607 - acc: 0.6026 - val_loss: 0.6633 - val_acc: 0.6001\n",
            "Epoch 27/10000\n",
            "204079/204079 [==============================] - 2s 9us/step - loss: 0.6602 - acc: 0.6036 - val_loss: 0.6641 - val_acc: 0.6007\n",
            "Epoch 28/10000\n",
            "204079/204079 [==============================] - 2s 9us/step - loss: 0.6594 - acc: 0.6042 - val_loss: 0.6630 - val_acc: 0.6016\n",
            "Epoch 29/10000\n",
            "204079/204079 [==============================] - 2s 9us/step - loss: 0.6586 - acc: 0.6047 - val_loss: 0.6630 - val_acc: 0.6001\n",
            "Epoch 30/10000\n",
            "204079/204079 [==============================] - 2s 9us/step - loss: 0.6578 - acc: 0.6066 - val_loss: 0.6625 - val_acc: 0.6024\n",
            "Epoch 31/10000\n",
            "204079/204079 [==============================] - 2s 9us/step - loss: 0.6573 - acc: 0.6061 - val_loss: 0.6637 - val_acc: 0.5987\n",
            "Epoch 32/10000\n",
            "204079/204079 [==============================] - 2s 9us/step - loss: 0.6569 - acc: 0.6079 - val_loss: 0.6629 - val_acc: 0.6003\n",
            "Epoch 33/10000\n",
            "204079/204079 [==============================] - 2s 9us/step - loss: 0.6557 - acc: 0.6093 - val_loss: 0.6622 - val_acc: 0.6028\n",
            "Epoch 34/10000\n",
            "204079/204079 [==============================] - 2s 9us/step - loss: 0.6556 - acc: 0.6089 - val_loss: 0.6622 - val_acc: 0.6028\n",
            "Epoch 35/10000\n",
            "204079/204079 [==============================] - 2s 9us/step - loss: 0.6548 - acc: 0.6095 - val_loss: 0.6622 - val_acc: 0.6023\n",
            "Epoch 36/10000\n",
            "204079/204079 [==============================] - 2s 9us/step - loss: 0.6543 - acc: 0.6098 - val_loss: 0.6618 - val_acc: 0.6040\n",
            "Epoch 37/10000\n",
            "204079/204079 [==============================] - 2s 9us/step - loss: 0.6538 - acc: 0.6113 - val_loss: 0.6614 - val_acc: 0.6035\n",
            "Epoch 38/10000\n",
            "204079/204079 [==============================] - 2s 9us/step - loss: 0.6536 - acc: 0.6110 - val_loss: 0.6623 - val_acc: 0.6009\n",
            "Epoch 39/10000\n",
            "204079/204079 [==============================] - 2s 9us/step - loss: 0.6527 - acc: 0.6129 - val_loss: 0.6614 - val_acc: 0.6042\n",
            "Epoch 40/10000\n",
            "204079/204079 [==============================] - 2s 9us/step - loss: 0.6517 - acc: 0.6131 - val_loss: 0.6613 - val_acc: 0.6036\n",
            "Epoch 41/10000\n",
            "204079/204079 [==============================] - 2s 9us/step - loss: 0.6516 - acc: 0.6152 - val_loss: 0.6615 - val_acc: 0.6037\n",
            "Epoch 42/10000\n",
            "204079/204079 [==============================] - 2s 9us/step - loss: 0.6509 - acc: 0.6144 - val_loss: 0.6615 - val_acc: 0.6040\n",
            "Epoch 43/10000\n",
            "204079/204079 [==============================] - 2s 9us/step - loss: 0.6507 - acc: 0.6141 - val_loss: 0.6608 - val_acc: 0.6058\n",
            "Epoch 44/10000\n",
            "204079/204079 [==============================] - 2s 9us/step - loss: 0.6493 - acc: 0.6161 - val_loss: 0.6610 - val_acc: 0.6052\n",
            "Epoch 45/10000\n",
            "204079/204079 [==============================] - 2s 9us/step - loss: 0.6490 - acc: 0.6175 - val_loss: 0.6610 - val_acc: 0.6054\n",
            "Epoch 46/10000\n",
            "204079/204079 [==============================] - 2s 9us/step - loss: 0.6486 - acc: 0.6183 - val_loss: 0.6605 - val_acc: 0.6062\n",
            "Epoch 47/10000\n",
            "204079/204079 [==============================] - 2s 9us/step - loss: 0.6482 - acc: 0.6190 - val_loss: 0.6609 - val_acc: 0.6051\n",
            "Epoch 48/10000\n",
            "204079/204079 [==============================] - 2s 9us/step - loss: 0.6474 - acc: 0.6188 - val_loss: 0.6606 - val_acc: 0.6054\n",
            "Epoch 49/10000\n",
            "204079/204079 [==============================] - 2s 10us/step - loss: 0.6467 - acc: 0.6197 - val_loss: 0.6605 - val_acc: 0.6060\n",
            "Epoch 50/10000\n",
            "204079/204079 [==============================] - 2s 9us/step - loss: 0.6464 - acc: 0.6210 - val_loss: 0.6604 - val_acc: 0.6057\n",
            "Epoch 51/10000\n",
            "204079/204079 [==============================] - 2s 9us/step - loss: 0.6459 - acc: 0.6209 - val_loss: 0.6605 - val_acc: 0.6060\n",
            "Epoch 52/10000\n",
            "204079/204079 [==============================] - 2s 9us/step - loss: 0.6455 - acc: 0.6212 - val_loss: 0.6606 - val_acc: 0.6051\n",
            "Epoch 53/10000\n",
            "204079/204079 [==============================] - 2s 9us/step - loss: 0.6446 - acc: 0.6227 - val_loss: 0.6603 - val_acc: 0.6049\n",
            "Epoch 54/10000\n",
            "204079/204079 [==============================] - 2s 9us/step - loss: 0.6441 - acc: 0.6238 - val_loss: 0.6606 - val_acc: 0.6046\n",
            "Epoch 55/10000\n",
            "204079/204079 [==============================] - 2s 9us/step - loss: 0.6438 - acc: 0.6243 - val_loss: 0.6601 - val_acc: 0.6063\n",
            "Epoch 56/10000\n",
            "204079/204079 [==============================] - 2s 9us/step - loss: 0.6434 - acc: 0.6242 - val_loss: 0.6606 - val_acc: 0.6051\n",
            "Epoch 57/10000\n",
            "204079/204079 [==============================] - 2s 9us/step - loss: 0.6423 - acc: 0.6257 - val_loss: 0.6601 - val_acc: 0.6050\n",
            "Epoch 58/10000\n",
            "204079/204079 [==============================] - 2s 9us/step - loss: 0.6421 - acc: 0.6261 - val_loss: 0.6605 - val_acc: 0.6061\n",
            "Epoch 59/10000\n",
            "204079/204079 [==============================] - 2s 9us/step - loss: 0.6414 - acc: 0.6262 - val_loss: 0.6603 - val_acc: 0.6054\n",
            "Epoch 60/10000\n",
            "204079/204079 [==============================] - 2s 9us/step - loss: 0.6410 - acc: 0.6271 - val_loss: 0.6606 - val_acc: 0.6063\n",
            "WARNING:tensorflow:This model was compiled with a Keras optimizer (<tensorflow.python.keras.optimizers.Adam object at 0x7efe4caad080>) but is being saved in TensorFlow format with `save_weights`. The model's weights will be saved, but unlike with TensorFlow optimizers in the TensorFlow format the optimizer's state will not be saved.\n",
            "\n",
            "Consider using a TensorFlow optimizer from `tf.train`.\n",
            "\n",
            "-----------------Training MLP 5-----------------\n",
            "\n",
            "Train on 204079 samples, validate on 127550 samples\n",
            "Epoch 1/10000\n",
            "204079/204079 [==============================] - 2s 11us/step - loss: 0.6946 - acc: 0.5359 - val_loss: 0.6821 - val_acc: 0.5606\n",
            "Epoch 2/10000\n",
            "204079/204079 [==============================] - 2s 9us/step - loss: 0.6847 - acc: 0.5523 - val_loss: 0.6817 - val_acc: 0.5618\n",
            "Epoch 3/10000\n",
            "204079/204079 [==============================] - 2s 9us/step - loss: 0.6834 - acc: 0.5555 - val_loss: 0.6811 - val_acc: 0.5610\n",
            "Epoch 4/10000\n",
            "204079/204079 [==============================] - 2s 9us/step - loss: 0.6824 - acc: 0.5578 - val_loss: 0.6804 - val_acc: 0.5620\n",
            "Epoch 5/10000\n",
            "204079/204079 [==============================] - 2s 10us/step - loss: 0.6818 - acc: 0.5591 - val_loss: 0.6799 - val_acc: 0.5621\n",
            "Epoch 6/10000\n",
            "204079/204079 [==============================] - 2s 9us/step - loss: 0.6813 - acc: 0.5600 - val_loss: 0.6796 - val_acc: 0.5632\n",
            "Epoch 7/10000\n",
            "204079/204079 [==============================] - 2s 9us/step - loss: 0.6809 - acc: 0.5607 - val_loss: 0.6795 - val_acc: 0.5634\n",
            "Epoch 8/10000\n",
            "204079/204079 [==============================] - 2s 9us/step - loss: 0.6805 - acc: 0.5612 - val_loss: 0.6793 - val_acc: 0.5643\n",
            "Epoch 9/10000\n",
            "204079/204079 [==============================] - 2s 9us/step - loss: 0.6799 - acc: 0.5632 - val_loss: 0.6789 - val_acc: 0.5646\n",
            "Epoch 10/10000\n",
            "204079/204079 [==============================] - 2s 9us/step - loss: 0.6796 - acc: 0.5647 - val_loss: 0.6780 - val_acc: 0.5683\n",
            "Epoch 11/10000\n",
            "204079/204079 [==============================] - 2s 9us/step - loss: 0.6783 - acc: 0.5661 - val_loss: 0.6765 - val_acc: 0.5722\n",
            "Epoch 12/10000\n",
            "204079/204079 [==============================] - 2s 9us/step - loss: 0.6774 - acc: 0.5684 - val_loss: 0.6754 - val_acc: 0.5755\n",
            "Epoch 13/10000\n",
            "204079/204079 [==============================] - 2s 9us/step - loss: 0.6759 - acc: 0.5741 - val_loss: 0.6748 - val_acc: 0.5804\n",
            "Epoch 14/10000\n",
            "204079/204079 [==============================] - 2s 9us/step - loss: 0.6751 - acc: 0.5755 - val_loss: 0.6743 - val_acc: 0.5798\n",
            "Epoch 15/10000\n",
            "204079/204079 [==============================] - 2s 9us/step - loss: 0.6747 - acc: 0.5768 - val_loss: 0.6729 - val_acc: 0.5826\n",
            "Epoch 16/10000\n",
            "204079/204079 [==============================] - 2s 9us/step - loss: 0.6737 - acc: 0.5799 - val_loss: 0.6726 - val_acc: 0.5830\n",
            "Epoch 17/10000\n",
            "204079/204079 [==============================] - 2s 9us/step - loss: 0.6730 - acc: 0.5809 - val_loss: 0.6721 - val_acc: 0.5841\n",
            "Epoch 18/10000\n",
            "204079/204079 [==============================] - 2s 9us/step - loss: 0.6725 - acc: 0.5815 - val_loss: 0.6715 - val_acc: 0.5848\n",
            "Epoch 19/10000\n",
            "204079/204079 [==============================] - 2s 9us/step - loss: 0.6720 - acc: 0.5826 - val_loss: 0.6715 - val_acc: 0.5855\n",
            "Epoch 20/10000\n",
            "204079/204079 [==============================] - 2s 9us/step - loss: 0.6711 - acc: 0.5842 - val_loss: 0.6704 - val_acc: 0.5870\n",
            "Epoch 21/10000\n",
            "204079/204079 [==============================] - 2s 9us/step - loss: 0.6705 - acc: 0.5850 - val_loss: 0.6709 - val_acc: 0.5850\n",
            "Epoch 22/10000\n",
            "204079/204079 [==============================] - 2s 9us/step - loss: 0.6699 - acc: 0.5855 - val_loss: 0.6702 - val_acc: 0.5883\n",
            "Epoch 23/10000\n",
            "204079/204079 [==============================] - 2s 9us/step - loss: 0.6692 - acc: 0.5878 - val_loss: 0.6697 - val_acc: 0.5874\n",
            "Epoch 24/10000\n",
            "204079/204079 [==============================] - 2s 9us/step - loss: 0.6689 - acc: 0.5875 - val_loss: 0.6692 - val_acc: 0.5899\n",
            "Epoch 25/10000\n",
            "204079/204079 [==============================] - 2s 9us/step - loss: 0.6682 - acc: 0.5887 - val_loss: 0.6687 - val_acc: 0.5899\n",
            "Epoch 26/10000\n",
            "204079/204079 [==============================] - 2s 9us/step - loss: 0.6678 - acc: 0.5894 - val_loss: 0.6687 - val_acc: 0.5915\n",
            "Epoch 27/10000\n",
            "204079/204079 [==============================] - 2s 9us/step - loss: 0.6666 - acc: 0.5911 - val_loss: 0.6685 - val_acc: 0.5917\n",
            "Epoch 28/10000\n",
            "204079/204079 [==============================] - 2s 9us/step - loss: 0.6661 - acc: 0.5915 - val_loss: 0.6681 - val_acc: 0.5913\n",
            "Epoch 29/10000\n",
            "204079/204079 [==============================] - 2s 9us/step - loss: 0.6657 - acc: 0.5924 - val_loss: 0.6676 - val_acc: 0.5926\n",
            "Epoch 30/10000\n",
            "204079/204079 [==============================] - 2s 9us/step - loss: 0.6651 - acc: 0.5945 - val_loss: 0.6678 - val_acc: 0.5937\n",
            "Epoch 31/10000\n",
            "204079/204079 [==============================] - 2s 9us/step - loss: 0.6643 - acc: 0.5945 - val_loss: 0.6672 - val_acc: 0.5946\n",
            "Epoch 32/10000\n",
            "204079/204079 [==============================] - 2s 9us/step - loss: 0.6639 - acc: 0.5953 - val_loss: 0.6673 - val_acc: 0.5929\n",
            "Epoch 33/10000\n",
            "204079/204079 [==============================] - 2s 9us/step - loss: 0.6633 - acc: 0.5957 - val_loss: 0.6662 - val_acc: 0.5950\n",
            "Epoch 34/10000\n",
            "204079/204079 [==============================] - 2s 9us/step - loss: 0.6623 - acc: 0.5980 - val_loss: 0.6664 - val_acc: 0.5950\n",
            "Epoch 35/10000\n",
            "204079/204079 [==============================] - 2s 9us/step - loss: 0.6621 - acc: 0.5992 - val_loss: 0.6670 - val_acc: 0.5932\n",
            "Epoch 36/10000\n",
            "204079/204079 [==============================] - 2s 9us/step - loss: 0.6609 - acc: 0.6014 - val_loss: 0.6655 - val_acc: 0.5959\n",
            "Epoch 37/10000\n",
            "204079/204079 [==============================] - 2s 9us/step - loss: 0.6606 - acc: 0.6001 - val_loss: 0.6652 - val_acc: 0.5958\n",
            "Epoch 38/10000\n",
            "204079/204079 [==============================] - 2s 9us/step - loss: 0.6597 - acc: 0.6011 - val_loss: 0.6650 - val_acc: 0.5968\n",
            "Epoch 39/10000\n",
            "204079/204079 [==============================] - 2s 9us/step - loss: 0.6592 - acc: 0.6019 - val_loss: 0.6648 - val_acc: 0.5970\n",
            "Epoch 40/10000\n",
            "204079/204079 [==============================] - 2s 10us/step - loss: 0.6587 - acc: 0.6042 - val_loss: 0.6650 - val_acc: 0.5968\n",
            "Epoch 41/10000\n",
            "204079/204079 [==============================] - 2s 10us/step - loss: 0.6582 - acc: 0.6043 - val_loss: 0.6649 - val_acc: 0.5969\n",
            "Epoch 42/10000\n",
            "204079/204079 [==============================] - 2s 10us/step - loss: 0.6572 - acc: 0.6054 - val_loss: 0.6645 - val_acc: 0.5986\n",
            "Epoch 43/10000\n",
            "204079/204079 [==============================] - 2s 10us/step - loss: 0.6573 - acc: 0.6057 - val_loss: 0.6646 - val_acc: 0.5964\n",
            "Epoch 44/10000\n",
            "204079/204079 [==============================] - 2s 10us/step - loss: 0.6562 - acc: 0.6067 - val_loss: 0.6640 - val_acc: 0.5988\n",
            "Epoch 45/10000\n",
            "204079/204079 [==============================] - 2s 10us/step - loss: 0.6560 - acc: 0.6070 - val_loss: 0.6642 - val_acc: 0.5984\n",
            "Epoch 46/10000\n",
            "204079/204079 [==============================] - 2s 10us/step - loss: 0.6549 - acc: 0.6075 - val_loss: 0.6638 - val_acc: 0.5987\n",
            "Epoch 47/10000\n",
            "204079/204079 [==============================] - 2s 10us/step - loss: 0.6538 - acc: 0.6102 - val_loss: 0.6639 - val_acc: 0.5987\n",
            "Epoch 48/10000\n",
            "204079/204079 [==============================] - 2s 10us/step - loss: 0.6541 - acc: 0.6088 - val_loss: 0.6639 - val_acc: 0.5987\n",
            "Epoch 49/10000\n",
            "204079/204079 [==============================] - 2s 9us/step - loss: 0.6534 - acc: 0.6095 - val_loss: 0.6639 - val_acc: 0.5987\n",
            "Epoch 50/10000\n",
            "204079/204079 [==============================] - 2s 9us/step - loss: 0.6528 - acc: 0.6110 - val_loss: 0.6643 - val_acc: 0.5984\n",
            "Epoch 51/10000\n",
            "204079/204079 [==============================] - 2s 9us/step - loss: 0.6517 - acc: 0.6135 - val_loss: 0.6634 - val_acc: 0.5996\n",
            "Epoch 52/10000\n",
            "204079/204079 [==============================] - 2s 9us/step - loss: 0.6515 - acc: 0.6133 - val_loss: 0.6637 - val_acc: 0.5996\n",
            "Epoch 53/10000\n",
            "204079/204079 [==============================] - 2s 9us/step - loss: 0.6509 - acc: 0.6131 - val_loss: 0.6635 - val_acc: 0.5985\n",
            "Epoch 54/10000\n",
            "204079/204079 [==============================] - 2s 9us/step - loss: 0.6503 - acc: 0.6136 - val_loss: 0.6639 - val_acc: 0.5991\n",
            "Epoch 55/10000\n",
            "204079/204079 [==============================] - 2s 9us/step - loss: 0.6497 - acc: 0.6147 - val_loss: 0.6634 - val_acc: 0.5996\n",
            "Epoch 56/10000\n",
            "204079/204079 [==============================] - 2s 9us/step - loss: 0.6491 - acc: 0.6153 - val_loss: 0.6636 - val_acc: 0.6004\n",
            "WARNING:tensorflow:This model was compiled with a Keras optimizer (<tensorflow.python.keras.optimizers.Adam object at 0x7efe49c2ab38>) but is being saved in TensorFlow format with `save_weights`. The model's weights will be saved, but unlike with TensorFlow optimizers in the TensorFlow format the optimizer's state will not be saved.\n",
            "\n",
            "Consider using a TensorFlow optimizer from `tf.train`.\n",
            "\n",
            "-----------------Training MLP 6-----------------\n",
            "\n",
            "Train on 204079 samples, validate on 127550 samples\n",
            "Epoch 1/10000\n",
            "204079/204079 [==============================] - 2s 11us/step - loss: 0.7056 - acc: 0.5247 - val_loss: 0.6852 - val_acc: 0.5493\n",
            "Epoch 2/10000\n",
            "204079/204079 [==============================] - 2s 9us/step - loss: 0.6893 - acc: 0.5392 - val_loss: 0.6842 - val_acc: 0.5543\n",
            "Epoch 3/10000\n",
            "204079/204079 [==============================] - 2s 9us/step - loss: 0.6862 - acc: 0.5454 - val_loss: 0.6840 - val_acc: 0.5570\n",
            "Epoch 4/10000\n",
            "204079/204079 [==============================] - 2s 10us/step - loss: 0.6839 - acc: 0.5505 - val_loss: 0.6810 - val_acc: 0.5598\n",
            "Epoch 5/10000\n",
            "204079/204079 [==============================] - 2s 10us/step - loss: 0.6820 - acc: 0.5562 - val_loss: 0.6799 - val_acc: 0.5640\n",
            "Epoch 6/10000\n",
            "204079/204079 [==============================] - 2s 9us/step - loss: 0.6810 - acc: 0.5584 - val_loss: 0.6783 - val_acc: 0.5676\n",
            "Epoch 7/10000\n",
            "204079/204079 [==============================] - 2s 9us/step - loss: 0.6793 - acc: 0.5637 - val_loss: 0.6769 - val_acc: 0.5750\n",
            "Epoch 8/10000\n",
            "204079/204079 [==============================] - 2s 9us/step - loss: 0.6778 - acc: 0.5678 - val_loss: 0.6756 - val_acc: 0.5795\n",
            "Epoch 9/10000\n",
            "204079/204079 [==============================] - 2s 9us/step - loss: 0.6766 - acc: 0.5710 - val_loss: 0.6744 - val_acc: 0.5810\n",
            "Epoch 10/10000\n",
            "204079/204079 [==============================] - 2s 9us/step - loss: 0.6755 - acc: 0.5736 - val_loss: 0.6746 - val_acc: 0.5785\n",
            "Epoch 11/10000\n",
            "204079/204079 [==============================] - 2s 9us/step - loss: 0.6743 - acc: 0.5771 - val_loss: 0.6721 - val_acc: 0.5840\n",
            "Epoch 12/10000\n",
            "204079/204079 [==============================] - 2s 9us/step - loss: 0.6734 - acc: 0.5800 - val_loss: 0.6723 - val_acc: 0.5838\n",
            "Epoch 13/10000\n",
            "204079/204079 [==============================] - 2s 9us/step - loss: 0.6725 - acc: 0.5813 - val_loss: 0.6704 - val_acc: 0.5874\n",
            "Epoch 14/10000\n",
            "204079/204079 [==============================] - 2s 9us/step - loss: 0.6715 - acc: 0.5839 - val_loss: 0.6695 - val_acc: 0.5884\n",
            "Epoch 15/10000\n",
            "204079/204079 [==============================] - 2s 9us/step - loss: 0.6707 - acc: 0.5836 - val_loss: 0.6694 - val_acc: 0.5889\n",
            "Epoch 16/10000\n",
            "204079/204079 [==============================] - 2s 9us/step - loss: 0.6698 - acc: 0.5855 - val_loss: 0.6686 - val_acc: 0.5909\n",
            "Epoch 17/10000\n",
            "204079/204079 [==============================] - 2s 9us/step - loss: 0.6689 - acc: 0.5884 - val_loss: 0.6675 - val_acc: 0.5925\n",
            "Epoch 18/10000\n",
            "204079/204079 [==============================] - 2s 9us/step - loss: 0.6681 - acc: 0.5894 - val_loss: 0.6677 - val_acc: 0.5937\n",
            "Epoch 19/10000\n",
            "204079/204079 [==============================] - 2s 9us/step - loss: 0.6676 - acc: 0.5899 - val_loss: 0.6667 - val_acc: 0.5946\n",
            "Epoch 20/10000\n",
            "204079/204079 [==============================] - 2s 9us/step - loss: 0.6665 - acc: 0.5913 - val_loss: 0.6666 - val_acc: 0.5948\n",
            "Epoch 21/10000\n",
            "204079/204079 [==============================] - 2s 9us/step - loss: 0.6659 - acc: 0.5933 - val_loss: 0.6655 - val_acc: 0.5951\n",
            "Epoch 22/10000\n",
            "204079/204079 [==============================] - 2s 9us/step - loss: 0.6648 - acc: 0.5942 - val_loss: 0.6646 - val_acc: 0.5969\n",
            "Epoch 23/10000\n",
            "204079/204079 [==============================] - 2s 9us/step - loss: 0.6642 - acc: 0.5956 - val_loss: 0.6646 - val_acc: 0.5980\n",
            "Epoch 24/10000\n",
            "204079/204079 [==============================] - 2s 9us/step - loss: 0.6634 - acc: 0.5980 - val_loss: 0.6642 - val_acc: 0.5984\n",
            "Epoch 25/10000\n",
            "204079/204079 [==============================] - 2s 9us/step - loss: 0.6626 - acc: 0.5977 - val_loss: 0.6638 - val_acc: 0.5981\n",
            "Epoch 26/10000\n",
            "204079/204079 [==============================] - 2s 9us/step - loss: 0.6619 - acc: 0.5995 - val_loss: 0.6633 - val_acc: 0.6001\n",
            "Epoch 27/10000\n",
            "204079/204079 [==============================] - 2s 9us/step - loss: 0.6614 - acc: 0.6000 - val_loss: 0.6634 - val_acc: 0.6002\n",
            "Epoch 28/10000\n",
            "204079/204079 [==============================] - 2s 9us/step - loss: 0.6609 - acc: 0.6005 - val_loss: 0.6635 - val_acc: 0.5999\n",
            "Epoch 29/10000\n",
            "204079/204079 [==============================] - 2s 9us/step - loss: 0.6603 - acc: 0.6012 - val_loss: 0.6626 - val_acc: 0.6019\n",
            "Epoch 30/10000\n",
            "204079/204079 [==============================] - 2s 10us/step - loss: 0.6596 - acc: 0.6027 - val_loss: 0.6627 - val_acc: 0.5997\n",
            "Epoch 31/10000\n",
            "204079/204079 [==============================] - 2s 9us/step - loss: 0.6586 - acc: 0.6040 - val_loss: 0.6622 - val_acc: 0.6020\n",
            "Epoch 32/10000\n",
            "204079/204079 [==============================] - 2s 9us/step - loss: 0.6584 - acc: 0.6053 - val_loss: 0.6619 - val_acc: 0.6026\n",
            "Epoch 33/10000\n",
            "204079/204079 [==============================] - 2s 10us/step - loss: 0.6580 - acc: 0.6055 - val_loss: 0.6623 - val_acc: 0.6026\n",
            "Epoch 34/10000\n",
            "204079/204079 [==============================] - 2s 9us/step - loss: 0.6572 - acc: 0.6068 - val_loss: 0.6611 - val_acc: 0.6026\n",
            "Epoch 35/10000\n",
            "204079/204079 [==============================] - 2s 9us/step - loss: 0.6566 - acc: 0.6058 - val_loss: 0.6609 - val_acc: 0.6045\n",
            "Epoch 36/10000\n",
            "204079/204079 [==============================] - 2s 9us/step - loss: 0.6555 - acc: 0.6088 - val_loss: 0.6615 - val_acc: 0.6040\n",
            "Epoch 37/10000\n",
            "204079/204079 [==============================] - 2s 9us/step - loss: 0.6553 - acc: 0.6089 - val_loss: 0.6612 - val_acc: 0.6038\n",
            "Epoch 38/10000\n",
            "204079/204079 [==============================] - 2s 10us/step - loss: 0.6551 - acc: 0.6093 - val_loss: 0.6603 - val_acc: 0.6050\n",
            "Epoch 39/10000\n",
            "204079/204079 [==============================] - 2s 9us/step - loss: 0.6540 - acc: 0.6098 - val_loss: 0.6600 - val_acc: 0.6053\n",
            "Epoch 40/10000\n",
            "204079/204079 [==============================] - 2s 9us/step - loss: 0.6534 - acc: 0.6106 - val_loss: 0.6609 - val_acc: 0.6046\n",
            "Epoch 41/10000\n",
            "204079/204079 [==============================] - 2s 9us/step - loss: 0.6531 - acc: 0.6110 - val_loss: 0.6597 - val_acc: 0.6060\n",
            "Epoch 42/10000\n",
            "204079/204079 [==============================] - 2s 9us/step - loss: 0.6526 - acc: 0.6127 - val_loss: 0.6598 - val_acc: 0.6063\n",
            "Epoch 43/10000\n",
            "204079/204079 [==============================] - 2s 9us/step - loss: 0.6518 - acc: 0.6130 - val_loss: 0.6597 - val_acc: 0.6053\n",
            "Epoch 44/10000\n",
            "204079/204079 [==============================] - 2s 9us/step - loss: 0.6514 - acc: 0.6143 - val_loss: 0.6605 - val_acc: 0.6042\n",
            "Epoch 45/10000\n",
            "204079/204079 [==============================] - 2s 9us/step - loss: 0.6510 - acc: 0.6140 - val_loss: 0.6595 - val_acc: 0.6064\n",
            "Epoch 46/10000\n",
            "204079/204079 [==============================] - 2s 9us/step - loss: 0.6500 - acc: 0.6159 - val_loss: 0.6594 - val_acc: 0.6057\n",
            "Epoch 47/10000\n",
            "204079/204079 [==============================] - 2s 9us/step - loss: 0.6493 - acc: 0.6174 - val_loss: 0.6589 - val_acc: 0.6073\n",
            "Epoch 48/10000\n",
            "204079/204079 [==============================] - 2s 9us/step - loss: 0.6492 - acc: 0.6167 - val_loss: 0.6591 - val_acc: 0.6072\n",
            "Epoch 49/10000\n",
            "204079/204079 [==============================] - 2s 9us/step - loss: 0.6488 - acc: 0.6175 - val_loss: 0.6589 - val_acc: 0.6064\n",
            "Epoch 50/10000\n",
            "204079/204079 [==============================] - 2s 9us/step - loss: 0.6477 - acc: 0.6185 - val_loss: 0.6588 - val_acc: 0.6067\n",
            "Epoch 51/10000\n",
            "204079/204079 [==============================] - 2s 9us/step - loss: 0.6473 - acc: 0.6189 - val_loss: 0.6593 - val_acc: 0.6072\n",
            "Epoch 52/10000\n",
            "204079/204079 [==============================] - 2s 9us/step - loss: 0.6471 - acc: 0.6197 - val_loss: 0.6585 - val_acc: 0.6071\n",
            "Epoch 53/10000\n",
            "204079/204079 [==============================] - 2s 9us/step - loss: 0.6461 - acc: 0.6214 - val_loss: 0.6587 - val_acc: 0.6081\n",
            "Epoch 54/10000\n",
            "204079/204079 [==============================] - 2s 9us/step - loss: 0.6453 - acc: 0.6218 - val_loss: 0.6585 - val_acc: 0.6075\n",
            "Epoch 55/10000\n",
            "204079/204079 [==============================] - 2s 9us/step - loss: 0.6450 - acc: 0.6220 - val_loss: 0.6585 - val_acc: 0.6078\n",
            "Epoch 56/10000\n",
            "204079/204079 [==============================] - 2s 9us/step - loss: 0.6439 - acc: 0.6235 - val_loss: 0.6584 - val_acc: 0.6080\n",
            "Epoch 57/10000\n",
            "204079/204079 [==============================] - 2s 9us/step - loss: 0.6437 - acc: 0.6234 - val_loss: 0.6583 - val_acc: 0.6088\n",
            "Epoch 58/10000\n",
            "204079/204079 [==============================] - 2s 9us/step - loss: 0.6432 - acc: 0.6244 - val_loss: 0.6583 - val_acc: 0.6089\n",
            "Epoch 59/10000\n",
            "204079/204079 [==============================] - 2s 9us/step - loss: 0.6429 - acc: 0.6246 - val_loss: 0.6587 - val_acc: 0.6087\n",
            "Epoch 60/10000\n",
            "204079/204079 [==============================] - 2s 9us/step - loss: 0.6418 - acc: 0.6265 - val_loss: 0.6585 - val_acc: 0.6087\n",
            "Epoch 61/10000\n",
            "204079/204079 [==============================] - 2s 9us/step - loss: 0.6415 - acc: 0.6259 - val_loss: 0.6590 - val_acc: 0.6067\n",
            "Epoch 62/10000\n",
            "204079/204079 [==============================] - 2s 9us/step - loss: 0.6411 - acc: 0.6267 - val_loss: 0.6584 - val_acc: 0.6088\n",
            "WARNING:tensorflow:This model was compiled with a Keras optimizer (<tensorflow.python.keras.optimizers.Adam object at 0x7efe46d47048>) but is being saved in TensorFlow format with `save_weights`. The model's weights will be saved, but unlike with TensorFlow optimizers in the TensorFlow format the optimizer's state will not be saved.\n",
            "\n",
            "Consider using a TensorFlow optimizer from `tf.train`.\n",
            "\n",
            "-----------------Training MLP 7-----------------\n",
            "\n",
            "Train on 204079 samples, validate on 127550 samples\n",
            "Epoch 1/10000\n",
            "204079/204079 [==============================] - 2s 11us/step - loss: 0.6798 - acc: 0.5763 - val_loss: 0.6618 - val_acc: 0.6045\n",
            "Epoch 2/10000\n",
            "204079/204079 [==============================] - 2s 10us/step - loss: 0.6655 - acc: 0.5970 - val_loss: 0.6613 - val_acc: 0.6048\n",
            "Epoch 3/10000\n",
            "204079/204079 [==============================] - 2s 10us/step - loss: 0.6627 - acc: 0.6025 - val_loss: 0.6607 - val_acc: 0.6052\n",
            "Epoch 4/10000\n",
            "204079/204079 [==============================] - 2s 10us/step - loss: 0.6615 - acc: 0.6040 - val_loss: 0.6604 - val_acc: 0.6038\n",
            "Epoch 5/10000\n",
            "204079/204079 [==============================] - 2s 10us/step - loss: 0.6605 - acc: 0.6041 - val_loss: 0.6593 - val_acc: 0.6054\n",
            "Epoch 6/10000\n",
            "204079/204079 [==============================] - 2s 10us/step - loss: 0.6599 - acc: 0.6047 - val_loss: 0.6587 - val_acc: 0.6063\n",
            "Epoch 7/10000\n",
            "204079/204079 [==============================] - 2s 10us/step - loss: 0.6594 - acc: 0.6045 - val_loss: 0.6586 - val_acc: 0.6065\n",
            "Epoch 8/10000\n",
            "204079/204079 [==============================] - 2s 10us/step - loss: 0.6584 - acc: 0.6063 - val_loss: 0.6579 - val_acc: 0.6073\n",
            "Epoch 9/10000\n",
            "204079/204079 [==============================] - 2s 10us/step - loss: 0.6574 - acc: 0.6072 - val_loss: 0.6571 - val_acc: 0.6080\n",
            "Epoch 10/10000\n",
            "204079/204079 [==============================] - 2s 10us/step - loss: 0.6568 - acc: 0.6076 - val_loss: 0.6560 - val_acc: 0.6088\n",
            "Epoch 11/10000\n",
            "204079/204079 [==============================] - 2s 10us/step - loss: 0.6558 - acc: 0.6100 - val_loss: 0.6555 - val_acc: 0.6088\n",
            "Epoch 12/10000\n",
            "204079/204079 [==============================] - 2s 10us/step - loss: 0.6549 - acc: 0.6103 - val_loss: 0.6547 - val_acc: 0.6105\n",
            "Epoch 13/10000\n",
            "204079/204079 [==============================] - 2s 10us/step - loss: 0.6539 - acc: 0.6120 - val_loss: 0.6542 - val_acc: 0.6123\n",
            "Epoch 14/10000\n",
            "204079/204079 [==============================] - 2s 9us/step - loss: 0.6531 - acc: 0.6126 - val_loss: 0.6531 - val_acc: 0.6132\n",
            "Epoch 15/10000\n",
            "204079/204079 [==============================] - 2s 9us/step - loss: 0.6522 - acc: 0.6152 - val_loss: 0.6531 - val_acc: 0.6137\n",
            "Epoch 16/10000\n",
            "204079/204079 [==============================] - 2s 9us/step - loss: 0.6518 - acc: 0.6150 - val_loss: 0.6520 - val_acc: 0.6144\n",
            "Epoch 17/10000\n",
            "204079/204079 [==============================] - 2s 10us/step - loss: 0.6510 - acc: 0.6159 - val_loss: 0.6512 - val_acc: 0.6160\n",
            "Epoch 18/10000\n",
            "204079/204079 [==============================] - 2s 9us/step - loss: 0.6502 - acc: 0.6171 - val_loss: 0.6510 - val_acc: 0.6171\n",
            "Epoch 19/10000\n",
            "204079/204079 [==============================] - 2s 9us/step - loss: 0.6493 - acc: 0.6185 - val_loss: 0.6506 - val_acc: 0.6184\n",
            "Epoch 20/10000\n",
            "204079/204079 [==============================] - 2s 9us/step - loss: 0.6486 - acc: 0.6204 - val_loss: 0.6502 - val_acc: 0.6183\n",
            "Epoch 21/10000\n",
            "204079/204079 [==============================] - 2s 9us/step - loss: 0.6482 - acc: 0.6196 - val_loss: 0.6499 - val_acc: 0.6189\n",
            "Epoch 22/10000\n",
            "204079/204079 [==============================] - 2s 9us/step - loss: 0.6481 - acc: 0.6199 - val_loss: 0.6495 - val_acc: 0.6195\n",
            "Epoch 23/10000\n",
            "204079/204079 [==============================] - 2s 9us/step - loss: 0.6471 - acc: 0.6216 - val_loss: 0.6492 - val_acc: 0.6203\n",
            "Epoch 24/10000\n",
            "204079/204079 [==============================] - 2s 9us/step - loss: 0.6467 - acc: 0.6217 - val_loss: 0.6489 - val_acc: 0.6200\n",
            "Epoch 25/10000\n",
            "204079/204079 [==============================] - 2s 9us/step - loss: 0.6460 - acc: 0.6232 - val_loss: 0.6484 - val_acc: 0.6211\n",
            "Epoch 26/10000\n",
            "204079/204079 [==============================] - 2s 9us/step - loss: 0.6455 - acc: 0.6236 - val_loss: 0.6483 - val_acc: 0.6213\n",
            "Epoch 27/10000\n",
            "204079/204079 [==============================] - 2s 9us/step - loss: 0.6451 - acc: 0.6239 - val_loss: 0.6478 - val_acc: 0.6207\n",
            "Epoch 28/10000\n",
            "204079/204079 [==============================] - 2s 9us/step - loss: 0.6441 - acc: 0.6251 - val_loss: 0.6478 - val_acc: 0.6211\n",
            "Epoch 29/10000\n",
            "204079/204079 [==============================] - 2s 10us/step - loss: 0.6439 - acc: 0.6248 - val_loss: 0.6475 - val_acc: 0.6226\n",
            "Epoch 30/10000\n",
            "204079/204079 [==============================] - 2s 9us/step - loss: 0.6433 - acc: 0.6250 - val_loss: 0.6472 - val_acc: 0.6229\n",
            "Epoch 31/10000\n",
            "204079/204079 [==============================] - 2s 9us/step - loss: 0.6431 - acc: 0.6264 - val_loss: 0.6471 - val_acc: 0.6242\n",
            "Epoch 32/10000\n",
            "204079/204079 [==============================] - 2s 9us/step - loss: 0.6425 - acc: 0.6274 - val_loss: 0.6471 - val_acc: 0.6233\n",
            "Epoch 33/10000\n",
            "204079/204079 [==============================] - 2s 9us/step - loss: 0.6419 - acc: 0.6276 - val_loss: 0.6469 - val_acc: 0.6247\n",
            "Epoch 34/10000\n",
            "204079/204079 [==============================] - 2s 10us/step - loss: 0.6414 - acc: 0.6269 - val_loss: 0.6469 - val_acc: 0.6240\n",
            "Epoch 35/10000\n",
            "204079/204079 [==============================] - 2s 9us/step - loss: 0.6412 - acc: 0.6272 - val_loss: 0.6466 - val_acc: 0.6242\n",
            "Epoch 36/10000\n",
            "204079/204079 [==============================] - 2s 9us/step - loss: 0.6406 - acc: 0.6286 - val_loss: 0.6466 - val_acc: 0.6242\n",
            "Epoch 37/10000\n",
            "204079/204079 [==============================] - 2s 9us/step - loss: 0.6402 - acc: 0.6296 - val_loss: 0.6465 - val_acc: 0.6244\n",
            "Epoch 38/10000\n",
            "204079/204079 [==============================] - 2s 9us/step - loss: 0.6394 - acc: 0.6307 - val_loss: 0.6466 - val_acc: 0.6252\n",
            "Epoch 39/10000\n",
            "204079/204079 [==============================] - 2s 9us/step - loss: 0.6393 - acc: 0.6309 - val_loss: 0.6462 - val_acc: 0.6253\n",
            "Epoch 40/10000\n",
            "204079/204079 [==============================] - 2s 9us/step - loss: 0.6384 - acc: 0.6310 - val_loss: 0.6469 - val_acc: 0.6258\n",
            "Epoch 41/10000\n",
            "204079/204079 [==============================] - 2s 9us/step - loss: 0.6381 - acc: 0.6316 - val_loss: 0.6463 - val_acc: 0.6251\n",
            "Epoch 42/10000\n",
            "204079/204079 [==============================] - 2s 9us/step - loss: 0.6378 - acc: 0.6323 - val_loss: 0.6461 - val_acc: 0.6242\n",
            "Epoch 43/10000\n",
            "204079/204079 [==============================] - 2s 9us/step - loss: 0.6372 - acc: 0.6337 - val_loss: 0.6463 - val_acc: 0.6257\n",
            "Epoch 44/10000\n",
            "204079/204079 [==============================] - 2s 9us/step - loss: 0.6368 - acc: 0.6332 - val_loss: 0.6465 - val_acc: 0.6259\n",
            "Epoch 45/10000\n",
            "204079/204079 [==============================] - 2s 10us/step - loss: 0.6365 - acc: 0.6336 - val_loss: 0.6468 - val_acc: 0.6258\n",
            "Epoch 46/10000\n",
            "204079/204079 [==============================] - 2s 9us/step - loss: 0.6357 - acc: 0.6344 - val_loss: 0.6462 - val_acc: 0.6257\n",
            "Epoch 47/10000\n",
            "204079/204079 [==============================] - 2s 9us/step - loss: 0.6355 - acc: 0.6341 - val_loss: 0.6462 - val_acc: 0.6250\n",
            "WARNING:tensorflow:This model was compiled with a Keras optimizer (<tensorflow.python.keras.optimizers.Adam object at 0x7efe43ee9128>) but is being saved in TensorFlow format with `save_weights`. The model's weights will be saved, but unlike with TensorFlow optimizers in the TensorFlow format the optimizer's state will not be saved.\n",
            "\n",
            "Consider using a TensorFlow optimizer from `tf.train`.\n",
            "\n",
            "-----------------Training MLP 8-----------------\n",
            "\n",
            "Train on 204079 samples, validate on 127550 samples\n",
            "Epoch 1/10000\n",
            "204079/204079 [==============================] - 2s 12us/step - loss: 0.6877 - acc: 0.5569 - val_loss: 0.6709 - val_acc: 0.5840\n",
            "Epoch 2/10000\n",
            "204079/204079 [==============================] - 2s 10us/step - loss: 0.6729 - acc: 0.5806 - val_loss: 0.6681 - val_acc: 0.5886\n",
            "Epoch 3/10000\n",
            "204079/204079 [==============================] - 2s 10us/step - loss: 0.6677 - acc: 0.5885 - val_loss: 0.6648 - val_acc: 0.5929\n",
            "Epoch 4/10000\n",
            "204079/204079 [==============================] - 2s 10us/step - loss: 0.6637 - acc: 0.5948 - val_loss: 0.6614 - val_acc: 0.5972\n",
            "Epoch 5/10000\n",
            "204079/204079 [==============================] - 2s 10us/step - loss: 0.6612 - acc: 0.5991 - val_loss: 0.6598 - val_acc: 0.6022\n",
            "Epoch 6/10000\n",
            "204079/204079 [==============================] - 2s 10us/step - loss: 0.6597 - acc: 0.6010 - val_loss: 0.6585 - val_acc: 0.6053\n",
            "Epoch 7/10000\n",
            "204079/204079 [==============================] - 2s 10us/step - loss: 0.6581 - acc: 0.6040 - val_loss: 0.6577 - val_acc: 0.6070\n",
            "Epoch 8/10000\n",
            "204079/204079 [==============================] - 2s 10us/step - loss: 0.6574 - acc: 0.6060 - val_loss: 0.6568 - val_acc: 0.6088\n",
            "Epoch 9/10000\n",
            "204079/204079 [==============================] - 2s 10us/step - loss: 0.6559 - acc: 0.6079 - val_loss: 0.6563 - val_acc: 0.6094\n",
            "Epoch 10/10000\n",
            "204079/204079 [==============================] - 2s 10us/step - loss: 0.6549 - acc: 0.6096 - val_loss: 0.6556 - val_acc: 0.6098\n",
            "Epoch 11/10000\n",
            "204079/204079 [==============================] - 2s 10us/step - loss: 0.6542 - acc: 0.6104 - val_loss: 0.6545 - val_acc: 0.6092\n",
            "Epoch 12/10000\n",
            "204079/204079 [==============================] - 2s 10us/step - loss: 0.6532 - acc: 0.6120 - val_loss: 0.6537 - val_acc: 0.6113\n",
            "Epoch 13/10000\n",
            "204079/204079 [==============================] - 2s 10us/step - loss: 0.6525 - acc: 0.6130 - val_loss: 0.6536 - val_acc: 0.6111\n",
            "Epoch 14/10000\n",
            "204079/204079 [==============================] - 2s 10us/step - loss: 0.6519 - acc: 0.6135 - val_loss: 0.6532 - val_acc: 0.6112\n",
            "Epoch 15/10000\n",
            "204079/204079 [==============================] - 2s 10us/step - loss: 0.6513 - acc: 0.6143 - val_loss: 0.6530 - val_acc: 0.6132\n",
            "Epoch 16/10000\n",
            "204079/204079 [==============================] - 2s 10us/step - loss: 0.6505 - acc: 0.6156 - val_loss: 0.6523 - val_acc: 0.6133\n",
            "Epoch 17/10000\n",
            "204079/204079 [==============================] - 2s 10us/step - loss: 0.6504 - acc: 0.6162 - val_loss: 0.6518 - val_acc: 0.6137\n",
            "Epoch 18/10000\n",
            "204079/204079 [==============================] - 2s 10us/step - loss: 0.6493 - acc: 0.6168 - val_loss: 0.6519 - val_acc: 0.6142\n",
            "Epoch 19/10000\n",
            "204079/204079 [==============================] - 2s 10us/step - loss: 0.6490 - acc: 0.6175 - val_loss: 0.6514 - val_acc: 0.6143\n",
            "Epoch 20/10000\n",
            "204079/204079 [==============================] - 2s 10us/step - loss: 0.6482 - acc: 0.6183 - val_loss: 0.6510 - val_acc: 0.6153\n",
            "Epoch 21/10000\n",
            "204079/204079 [==============================] - 2s 10us/step - loss: 0.6480 - acc: 0.6188 - val_loss: 0.6511 - val_acc: 0.6161\n",
            "Epoch 22/10000\n",
            "204079/204079 [==============================] - 2s 10us/step - loss: 0.6475 - acc: 0.6202 - val_loss: 0.6505 - val_acc: 0.6165\n",
            "Epoch 23/10000\n",
            "204079/204079 [==============================] - 2s 10us/step - loss: 0.6471 - acc: 0.6200 - val_loss: 0.6504 - val_acc: 0.6162\n",
            "Epoch 24/10000\n",
            "204079/204079 [==============================] - 2s 10us/step - loss: 0.6466 - acc: 0.6202 - val_loss: 0.6503 - val_acc: 0.6162\n",
            "Epoch 25/10000\n",
            "204079/204079 [==============================] - 2s 10us/step - loss: 0.6462 - acc: 0.6213 - val_loss: 0.6497 - val_acc: 0.6183\n",
            "Epoch 26/10000\n",
            "204079/204079 [==============================] - 2s 10us/step - loss: 0.6452 - acc: 0.6221 - val_loss: 0.6495 - val_acc: 0.6176\n",
            "Epoch 27/10000\n",
            "204079/204079 [==============================] - 2s 10us/step - loss: 0.6454 - acc: 0.6224 - val_loss: 0.6493 - val_acc: 0.6175\n",
            "Epoch 28/10000\n",
            "204079/204079 [==============================] - 2s 10us/step - loss: 0.6446 - acc: 0.6224 - val_loss: 0.6492 - val_acc: 0.6180\n",
            "Epoch 29/10000\n",
            "204079/204079 [==============================] - 2s 10us/step - loss: 0.6441 - acc: 0.6233 - val_loss: 0.6489 - val_acc: 0.6176\n",
            "Epoch 30/10000\n",
            "204079/204079 [==============================] - 2s 10us/step - loss: 0.6436 - acc: 0.6238 - val_loss: 0.6488 - val_acc: 0.6181\n",
            "Epoch 31/10000\n",
            "204079/204079 [==============================] - 2s 10us/step - loss: 0.6430 - acc: 0.6243 - val_loss: 0.6489 - val_acc: 0.6183\n",
            "Epoch 32/10000\n",
            "204079/204079 [==============================] - 2s 10us/step - loss: 0.6427 - acc: 0.6252 - val_loss: 0.6493 - val_acc: 0.6180\n",
            "Epoch 33/10000\n",
            "204079/204079 [==============================] - 2s 10us/step - loss: 0.6419 - acc: 0.6261 - val_loss: 0.6483 - val_acc: 0.6195\n",
            "Epoch 34/10000\n",
            "204079/204079 [==============================] - 2s 10us/step - loss: 0.6418 - acc: 0.6266 - val_loss: 0.6484 - val_acc: 0.6201\n",
            "Epoch 35/10000\n",
            "204079/204079 [==============================] - 2s 11us/step - loss: 0.6412 - acc: 0.6276 - val_loss: 0.6483 - val_acc: 0.6208\n",
            "Epoch 36/10000\n",
            "204079/204079 [==============================] - 2s 11us/step - loss: 0.6408 - acc: 0.6266 - val_loss: 0.6483 - val_acc: 0.6198\n",
            "Epoch 37/10000\n",
            "204079/204079 [==============================] - 2s 10us/step - loss: 0.6405 - acc: 0.6277 - val_loss: 0.6489 - val_acc: 0.6193\n",
            "Epoch 38/10000\n",
            "204079/204079 [==============================] - 2s 10us/step - loss: 0.6401 - acc: 0.6275 - val_loss: 0.6482 - val_acc: 0.6202\n",
            "Epoch 39/10000\n",
            "204079/204079 [==============================] - 2s 10us/step - loss: 0.6395 - acc: 0.6297 - val_loss: 0.6482 - val_acc: 0.6192\n",
            "Epoch 40/10000\n",
            "204079/204079 [==============================] - 2s 10us/step - loss: 0.6385 - acc: 0.6296 - val_loss: 0.6478 - val_acc: 0.6213\n",
            "Epoch 41/10000\n",
            "204079/204079 [==============================] - 2s 10us/step - loss: 0.6384 - acc: 0.6299 - val_loss: 0.6487 - val_acc: 0.6199\n",
            "Epoch 42/10000\n",
            "204079/204079 [==============================] - 2s 10us/step - loss: 0.6381 - acc: 0.6293 - val_loss: 0.6478 - val_acc: 0.6205\n",
            "Epoch 43/10000\n",
            "204079/204079 [==============================] - 2s 10us/step - loss: 0.6377 - acc: 0.6307 - val_loss: 0.6479 - val_acc: 0.6204\n",
            "Epoch 44/10000\n",
            "204079/204079 [==============================] - 2s 10us/step - loss: 0.6370 - acc: 0.6308 - val_loss: 0.6476 - val_acc: 0.6212\n",
            "Epoch 45/10000\n",
            "204079/204079 [==============================] - 2s 10us/step - loss: 0.6367 - acc: 0.6311 - val_loss: 0.6478 - val_acc: 0.6214\n",
            "Epoch 46/10000\n",
            "204079/204079 [==============================] - 2s 10us/step - loss: 0.6363 - acc: 0.6327 - val_loss: 0.6473 - val_acc: 0.6223\n",
            "Epoch 47/10000\n",
            "204079/204079 [==============================] - 2s 10us/step - loss: 0.6361 - acc: 0.6326 - val_loss: 0.6478 - val_acc: 0.6221\n",
            "Epoch 48/10000\n",
            "204079/204079 [==============================] - 2s 10us/step - loss: 0.6351 - acc: 0.6330 - val_loss: 0.6477 - val_acc: 0.6212\n",
            "Epoch 49/10000\n",
            "204079/204079 [==============================] - 2s 10us/step - loss: 0.6342 - acc: 0.6336 - val_loss: 0.6475 - val_acc: 0.6219\n",
            "Epoch 50/10000\n",
            "204079/204079 [==============================] - 2s 10us/step - loss: 0.6342 - acc: 0.6327 - val_loss: 0.6476 - val_acc: 0.6212\n",
            "Epoch 51/10000\n",
            "204079/204079 [==============================] - 2s 10us/step - loss: 0.6337 - acc: 0.6333 - val_loss: 0.6479 - val_acc: 0.6213\n",
            "WARNING:tensorflow:This model was compiled with a Keras optimizer (<tensorflow.python.keras.optimizers.Adam object at 0x7efe41063080>) but is being saved in TensorFlow format with `save_weights`. The model's weights will be saved, but unlike with TensorFlow optimizers in the TensorFlow format the optimizer's state will not be saved.\n",
            "\n",
            "Consider using a TensorFlow optimizer from `tf.train`.\n",
            "\n",
            "-----------------Training MLP 9-----------------\n",
            "\n",
            "Train on 204079 samples, validate on 127550 samples\n",
            "Epoch 1/10000\n",
            "204079/204079 [==============================] - 2s 12us/step - loss: 0.6840 - acc: 0.5668 - val_loss: 0.6683 - val_acc: 0.5955\n",
            "Epoch 2/10000\n",
            "204079/204079 [==============================] - 2s 10us/step - loss: 0.6709 - acc: 0.5883 - val_loss: 0.6672 - val_acc: 0.5970\n",
            "Epoch 3/10000\n",
            "204079/204079 [==============================] - 2s 10us/step - loss: 0.6682 - acc: 0.5923 - val_loss: 0.6658 - val_acc: 0.5978\n",
            "Epoch 4/10000\n",
            "204079/204079 [==============================] - 2s 10us/step - loss: 0.6670 - acc: 0.5936 - val_loss: 0.6653 - val_acc: 0.5973\n",
            "Epoch 5/10000\n",
            "204079/204079 [==============================] - 2s 10us/step - loss: 0.6653 - acc: 0.5967 - val_loss: 0.6630 - val_acc: 0.6022\n",
            "Epoch 6/10000\n",
            "204079/204079 [==============================] - 2s 10us/step - loss: 0.6631 - acc: 0.6016 - val_loss: 0.6616 - val_acc: 0.6041\n",
            "Epoch 7/10000\n",
            "204079/204079 [==============================] - 2s 10us/step - loss: 0.6624 - acc: 0.6031 - val_loss: 0.6610 - val_acc: 0.6048\n",
            "Epoch 8/10000\n",
            "204079/204079 [==============================] - 2s 10us/step - loss: 0.6614 - acc: 0.6045 - val_loss: 0.6605 - val_acc: 0.6060\n",
            "Epoch 9/10000\n",
            "204079/204079 [==============================] - 2s 10us/step - loss: 0.6609 - acc: 0.6055 - val_loss: 0.6603 - val_acc: 0.6055\n",
            "Epoch 10/10000\n",
            "204079/204079 [==============================] - 2s 10us/step - loss: 0.6603 - acc: 0.6061 - val_loss: 0.6596 - val_acc: 0.6074\n",
            "Epoch 11/10000\n",
            "204079/204079 [==============================] - 2s 10us/step - loss: 0.6597 - acc: 0.6063 - val_loss: 0.6591 - val_acc: 0.6082\n",
            "Epoch 12/10000\n",
            "204079/204079 [==============================] - 2s 10us/step - loss: 0.6593 - acc: 0.6069 - val_loss: 0.6592 - val_acc: 0.6087\n",
            "Epoch 13/10000\n",
            "204079/204079 [==============================] - 2s 9us/step - loss: 0.6584 - acc: 0.6071 - val_loss: 0.6583 - val_acc: 0.6101\n",
            "Epoch 14/10000\n",
            "204079/204079 [==============================] - 2s 9us/step - loss: 0.6579 - acc: 0.6086 - val_loss: 0.6579 - val_acc: 0.6104\n",
            "Epoch 15/10000\n",
            "204079/204079 [==============================] - 2s 9us/step - loss: 0.6572 - acc: 0.6086 - val_loss: 0.6578 - val_acc: 0.6105\n",
            "Epoch 16/10000\n",
            "204079/204079 [==============================] - 2s 9us/step - loss: 0.6569 - acc: 0.6098 - val_loss: 0.6572 - val_acc: 0.6106\n",
            "Epoch 17/10000\n",
            "204079/204079 [==============================] - 2s 10us/step - loss: 0.6561 - acc: 0.6110 - val_loss: 0.6572 - val_acc: 0.6113\n",
            "Epoch 18/10000\n",
            "204079/204079 [==============================] - 2s 10us/step - loss: 0.6554 - acc: 0.6112 - val_loss: 0.6570 - val_acc: 0.6117\n",
            "Epoch 19/10000\n",
            "204079/204079 [==============================] - 2s 10us/step - loss: 0.6550 - acc: 0.6127 - val_loss: 0.6567 - val_acc: 0.6118\n",
            "Epoch 20/10000\n",
            "204079/204079 [==============================] - 2s 10us/step - loss: 0.6546 - acc: 0.6129 - val_loss: 0.6564 - val_acc: 0.6127\n",
            "Epoch 21/10000\n",
            "204079/204079 [==============================] - 2s 10us/step - loss: 0.6540 - acc: 0.6134 - val_loss: 0.6563 - val_acc: 0.6132\n",
            "Epoch 22/10000\n",
            "204079/204079 [==============================] - 2s 10us/step - loss: 0.6535 - acc: 0.6145 - val_loss: 0.6559 - val_acc: 0.6131\n",
            "Epoch 23/10000\n",
            "204079/204079 [==============================] - 2s 10us/step - loss: 0.6530 - acc: 0.6149 - val_loss: 0.6556 - val_acc: 0.6134\n",
            "Epoch 24/10000\n",
            "204079/204079 [==============================] - 2s 10us/step - loss: 0.6523 - acc: 0.6151 - val_loss: 0.6552 - val_acc: 0.6145\n",
            "Epoch 25/10000\n",
            "204079/204079 [==============================] - 2s 10us/step - loss: 0.6517 - acc: 0.6165 - val_loss: 0.6557 - val_acc: 0.6132\n",
            "Epoch 26/10000\n",
            "204079/204079 [==============================] - 2s 10us/step - loss: 0.6514 - acc: 0.6165 - val_loss: 0.6550 - val_acc: 0.6147\n",
            "Epoch 27/10000\n",
            "204079/204079 [==============================] - 2s 10us/step - loss: 0.6509 - acc: 0.6173 - val_loss: 0.6550 - val_acc: 0.6135\n",
            "Epoch 28/10000\n",
            "204079/204079 [==============================] - 2s 10us/step - loss: 0.6504 - acc: 0.6177 - val_loss: 0.6551 - val_acc: 0.6147\n",
            "Epoch 29/10000\n",
            "204079/204079 [==============================] - 2s 10us/step - loss: 0.6498 - acc: 0.6185 - val_loss: 0.6555 - val_acc: 0.6146\n",
            "Epoch 30/10000\n",
            "204079/204079 [==============================] - 2s 10us/step - loss: 0.6495 - acc: 0.6189 - val_loss: 0.6545 - val_acc: 0.6149\n",
            "Epoch 31/10000\n",
            "204079/204079 [==============================] - 2s 10us/step - loss: 0.6490 - acc: 0.6189 - val_loss: 0.6543 - val_acc: 0.6159\n",
            "Epoch 32/10000\n",
            "204079/204079 [==============================] - 2s 10us/step - loss: 0.6482 - acc: 0.6192 - val_loss: 0.6550 - val_acc: 0.6158\n",
            "Epoch 33/10000\n",
            "204079/204079 [==============================] - 2s 10us/step - loss: 0.6478 - acc: 0.6208 - val_loss: 0.6543 - val_acc: 0.6162\n",
            "Epoch 34/10000\n",
            "204079/204079 [==============================] - 2s 10us/step - loss: 0.6480 - acc: 0.6212 - val_loss: 0.6559 - val_acc: 0.6149\n",
            "Epoch 35/10000\n",
            "204079/204079 [==============================] - 2s 10us/step - loss: 0.6474 - acc: 0.6207 - val_loss: 0.6538 - val_acc: 0.6169\n",
            "Epoch 36/10000\n",
            "204079/204079 [==============================] - 2s 10us/step - loss: 0.6465 - acc: 0.6224 - val_loss: 0.6543 - val_acc: 0.6156\n",
            "Epoch 37/10000\n",
            "204079/204079 [==============================] - 2s 10us/step - loss: 0.6460 - acc: 0.6227 - val_loss: 0.6540 - val_acc: 0.6164\n",
            "Epoch 38/10000\n",
            "204079/204079 [==============================] - 2s 10us/step - loss: 0.6457 - acc: 0.6220 - val_loss: 0.6539 - val_acc: 0.6167\n",
            "Epoch 39/10000\n",
            "204079/204079 [==============================] - 2s 10us/step - loss: 0.6449 - acc: 0.6236 - val_loss: 0.6538 - val_acc: 0.6167\n",
            "Epoch 40/10000\n",
            "204079/204079 [==============================] - 2s 10us/step - loss: 0.6445 - acc: 0.6238 - val_loss: 0.6543 - val_acc: 0.6162\n",
            "WARNING:tensorflow:This model was compiled with a Keras optimizer (<tensorflow.python.keras.optimizers.Adam object at 0x7efe3e17e198>) but is being saved in TensorFlow format with `save_weights`. The model's weights will be saved, but unlike with TensorFlow optimizers in the TensorFlow format the optimizer's state will not be saved.\n",
            "\n",
            "Consider using a TensorFlow optimizer from `tf.train`.\n",
            "\n",
            "-----------------Training MLP 10-----------------\n",
            "\n",
            "Train on 204079 samples, validate on 127550 samples\n",
            "Epoch 1/10000\n",
            "204079/204079 [==============================] - 2s 12us/step - loss: 0.6995 - acc: 0.5214 - val_loss: 0.6880 - val_acc: 0.5410\n",
            "Epoch 2/10000\n",
            "204079/204079 [==============================] - 2s 10us/step - loss: 0.6897 - acc: 0.5357 - val_loss: 0.6870 - val_acc: 0.5451\n",
            "Epoch 3/10000\n",
            "204079/204079 [==============================] - 2s 10us/step - loss: 0.6873 - acc: 0.5427 - val_loss: 0.6860 - val_acc: 0.5476\n",
            "Epoch 4/10000\n",
            "204079/204079 [==============================] - 2s 10us/step - loss: 0.6860 - acc: 0.5468 - val_loss: 0.6844 - val_acc: 0.5506\n",
            "Epoch 5/10000\n",
            "204079/204079 [==============================] - 2s 10us/step - loss: 0.6834 - acc: 0.5548 - val_loss: 0.6810 - val_acc: 0.5616\n",
            "Epoch 6/10000\n",
            "204079/204079 [==============================] - 2s 10us/step - loss: 0.6807 - acc: 0.5610 - val_loss: 0.6788 - val_acc: 0.5656\n",
            "Epoch 7/10000\n",
            "204079/204079 [==============================] - 2s 9us/step - loss: 0.6785 - acc: 0.5669 - val_loss: 0.6767 - val_acc: 0.5699\n",
            "Epoch 8/10000\n",
            "204079/204079 [==============================] - 2s 9us/step - loss: 0.6766 - acc: 0.5710 - val_loss: 0.6747 - val_acc: 0.5744\n",
            "Epoch 9/10000\n",
            "204079/204079 [==============================] - 2s 9us/step - loss: 0.6751 - acc: 0.5753 - val_loss: 0.6728 - val_acc: 0.5774\n",
            "Epoch 10/10000\n",
            "204079/204079 [==============================] - 2s 9us/step - loss: 0.6731 - acc: 0.5784 - val_loss: 0.6707 - val_acc: 0.5820\n",
            "Epoch 11/10000\n",
            "204079/204079 [==============================] - 2s 9us/step - loss: 0.6713 - acc: 0.5821 - val_loss: 0.6688 - val_acc: 0.5865\n",
            "Epoch 12/10000\n",
            "204079/204079 [==============================] - 2s 10us/step - loss: 0.6700 - acc: 0.5848 - val_loss: 0.6687 - val_acc: 0.5877\n",
            "Epoch 13/10000\n",
            "204079/204079 [==============================] - 2s 10us/step - loss: 0.6684 - acc: 0.5886 - val_loss: 0.6662 - val_acc: 0.5934\n",
            "Epoch 14/10000\n",
            "204079/204079 [==============================] - 2s 10us/step - loss: 0.6672 - acc: 0.5903 - val_loss: 0.6647 - val_acc: 0.5951\n",
            "Epoch 15/10000\n",
            "204079/204079 [==============================] - 2s 10us/step - loss: 0.6659 - acc: 0.5932 - val_loss: 0.6646 - val_acc: 0.5980\n",
            "Epoch 16/10000\n",
            "204079/204079 [==============================] - 2s 10us/step - loss: 0.6648 - acc: 0.5961 - val_loss: 0.6630 - val_acc: 0.6009\n",
            "Epoch 17/10000\n",
            "204079/204079 [==============================] - 2s 10us/step - loss: 0.6637 - acc: 0.5974 - val_loss: 0.6630 - val_acc: 0.6006\n",
            "Epoch 18/10000\n",
            "204079/204079 [==============================] - 2s 10us/step - loss: 0.6631 - acc: 0.5989 - val_loss: 0.6626 - val_acc: 0.5997\n",
            "Epoch 19/10000\n",
            "204079/204079 [==============================] - 2s 10us/step - loss: 0.6623 - acc: 0.6004 - val_loss: 0.6618 - val_acc: 0.6033\n",
            "Epoch 20/10000\n",
            "204079/204079 [==============================] - 2s 10us/step - loss: 0.6610 - acc: 0.6018 - val_loss: 0.6610 - val_acc: 0.6043\n",
            "Epoch 21/10000\n",
            "204079/204079 [==============================] - 2s 10us/step - loss: 0.6608 - acc: 0.6022 - val_loss: 0.6612 - val_acc: 0.6023\n",
            "Epoch 22/10000\n",
            "204079/204079 [==============================] - 2s 10us/step - loss: 0.6598 - acc: 0.6046 - val_loss: 0.6601 - val_acc: 0.6054\n",
            "Epoch 23/10000\n",
            "204079/204079 [==============================] - 2s 10us/step - loss: 0.6593 - acc: 0.6044 - val_loss: 0.6599 - val_acc: 0.6051\n",
            "Epoch 24/10000\n",
            "204079/204079 [==============================] - 2s 10us/step - loss: 0.6583 - acc: 0.6062 - val_loss: 0.6594 - val_acc: 0.6065\n",
            "Epoch 25/10000\n",
            "204079/204079 [==============================] - 2s 10us/step - loss: 0.6580 - acc: 0.6066 - val_loss: 0.6592 - val_acc: 0.6061\n",
            "Epoch 26/10000\n",
            "204079/204079 [==============================] - 2s 10us/step - loss: 0.6570 - acc: 0.6087 - val_loss: 0.6586 - val_acc: 0.6079\n",
            "Epoch 27/10000\n",
            "204079/204079 [==============================] - 2s 10us/step - loss: 0.6567 - acc: 0.6090 - val_loss: 0.6587 - val_acc: 0.6074\n",
            "Epoch 28/10000\n",
            "204079/204079 [==============================] - 2s 10us/step - loss: 0.6563 - acc: 0.6086 - val_loss: 0.6588 - val_acc: 0.6078\n",
            "Epoch 29/10000\n",
            "204079/204079 [==============================] - 2s 10us/step - loss: 0.6554 - acc: 0.6103 - val_loss: 0.6582 - val_acc: 0.6068\n",
            "Epoch 30/10000\n",
            "204079/204079 [==============================] - 2s 10us/step - loss: 0.6552 - acc: 0.6112 - val_loss: 0.6581 - val_acc: 0.6089\n",
            "Epoch 31/10000\n",
            "204079/204079 [==============================] - 2s 10us/step - loss: 0.6547 - acc: 0.6109 - val_loss: 0.6583 - val_acc: 0.6083\n",
            "Epoch 32/10000\n",
            "204079/204079 [==============================] - 2s 10us/step - loss: 0.6540 - acc: 0.6129 - val_loss: 0.6573 - val_acc: 0.6084\n",
            "Epoch 33/10000\n",
            "204079/204079 [==============================] - 2s 10us/step - loss: 0.6531 - acc: 0.6136 - val_loss: 0.6573 - val_acc: 0.6094\n",
            "Epoch 34/10000\n",
            "204079/204079 [==============================] - 2s 10us/step - loss: 0.6527 - acc: 0.6151 - val_loss: 0.6576 - val_acc: 0.6088\n",
            "Epoch 35/10000\n",
            "204079/204079 [==============================] - 2s 10us/step - loss: 0.6527 - acc: 0.6143 - val_loss: 0.6576 - val_acc: 0.6096\n",
            "Epoch 36/10000\n",
            "204079/204079 [==============================] - 2s 10us/step - loss: 0.6513 - acc: 0.6171 - val_loss: 0.6574 - val_acc: 0.6097\n",
            "Epoch 37/10000\n",
            "204079/204079 [==============================] - 2s 10us/step - loss: 0.6512 - acc: 0.6158 - val_loss: 0.6568 - val_acc: 0.6092\n",
            "Epoch 38/10000\n",
            "204079/204079 [==============================] - 2s 10us/step - loss: 0.6507 - acc: 0.6166 - val_loss: 0.6567 - val_acc: 0.6107\n",
            "Epoch 39/10000\n",
            "204079/204079 [==============================] - 2s 10us/step - loss: 0.6504 - acc: 0.6170 - val_loss: 0.6565 - val_acc: 0.6107\n",
            "Epoch 40/10000\n",
            "204079/204079 [==============================] - 2s 10us/step - loss: 0.6493 - acc: 0.6178 - val_loss: 0.6570 - val_acc: 0.6108\n",
            "Epoch 41/10000\n",
            "204079/204079 [==============================] - 2s 10us/step - loss: 0.6493 - acc: 0.6188 - val_loss: 0.6569 - val_acc: 0.6100\n",
            "Epoch 42/10000\n",
            "204079/204079 [==============================] - 2s 9us/step - loss: 0.6493 - acc: 0.6189 - val_loss: 0.6562 - val_acc: 0.6119\n",
            "Epoch 43/10000\n",
            "204079/204079 [==============================] - 2s 10us/step - loss: 0.6484 - acc: 0.6201 - val_loss: 0.6563 - val_acc: 0.6098\n",
            "Epoch 44/10000\n",
            "204079/204079 [==============================] - 2s 9us/step - loss: 0.6476 - acc: 0.6206 - val_loss: 0.6560 - val_acc: 0.6107\n",
            "Epoch 45/10000\n",
            "204079/204079 [==============================] - 2s 9us/step - loss: 0.6476 - acc: 0.6210 - val_loss: 0.6563 - val_acc: 0.6115\n",
            "Epoch 46/10000\n",
            "204079/204079 [==============================] - 2s 9us/step - loss: 0.6466 - acc: 0.6228 - val_loss: 0.6564 - val_acc: 0.6105\n",
            "Epoch 47/10000\n",
            "204079/204079 [==============================] - 2s 10us/step - loss: 0.6463 - acc: 0.6222 - val_loss: 0.6559 - val_acc: 0.6127\n",
            "Epoch 48/10000\n",
            "204079/204079 [==============================] - 2s 9us/step - loss: 0.6451 - acc: 0.6240 - val_loss: 0.6561 - val_acc: 0.6139\n",
            "Epoch 49/10000\n",
            "204079/204079 [==============================] - 2s 9us/step - loss: 0.6451 - acc: 0.6237 - val_loss: 0.6561 - val_acc: 0.6127\n",
            "Epoch 50/10000\n",
            "204079/204079 [==============================] - 2s 10us/step - loss: 0.6442 - acc: 0.6236 - val_loss: 0.6559 - val_acc: 0.6124\n",
            "Epoch 51/10000\n",
            "204079/204079 [==============================] - 2s 10us/step - loss: 0.6443 - acc: 0.6244 - val_loss: 0.6562 - val_acc: 0.6128\n",
            "Epoch 52/10000\n",
            "204079/204079 [==============================] - 2s 10us/step - loss: 0.6436 - acc: 0.6257 - val_loss: 0.6558 - val_acc: 0.6132\n",
            "Epoch 53/10000\n",
            "204079/204079 [==============================] - 2s 9us/step - loss: 0.6425 - acc: 0.6264 - val_loss: 0.6559 - val_acc: 0.6120\n",
            "Epoch 54/10000\n",
            "204079/204079 [==============================] - 2s 10us/step - loss: 0.6426 - acc: 0.6260 - val_loss: 0.6556 - val_acc: 0.6150\n",
            "Epoch 55/10000\n",
            "204079/204079 [==============================] - 2s 10us/step - loss: 0.6419 - acc: 0.6265 - val_loss: 0.6556 - val_acc: 0.6137\n",
            "Epoch 56/10000\n",
            "204079/204079 [==============================] - 2s 10us/step - loss: 0.6420 - acc: 0.6267 - val_loss: 0.6555 - val_acc: 0.6150\n",
            "Epoch 57/10000\n",
            "204079/204079 [==============================] - 2s 10us/step - loss: 0.6412 - acc: 0.6280 - val_loss: 0.6555 - val_acc: 0.6129\n",
            "Epoch 58/10000\n",
            "204079/204079 [==============================] - 2s 10us/step - loss: 0.6403 - acc: 0.6290 - val_loss: 0.6557 - val_acc: 0.6147\n",
            "Epoch 59/10000\n",
            "204079/204079 [==============================] - 2s 10us/step - loss: 0.6399 - acc: 0.6289 - val_loss: 0.6559 - val_acc: 0.6150\n",
            "Epoch 60/10000\n",
            "204079/204079 [==============================] - 2s 10us/step - loss: 0.6394 - acc: 0.6297 - val_loss: 0.6555 - val_acc: 0.6140\n",
            "Epoch 61/10000\n",
            "204079/204079 [==============================] - 2s 10us/step - loss: 0.6394 - acc: 0.6291 - val_loss: 0.6558 - val_acc: 0.6132\n",
            "Epoch 62/10000\n",
            "204079/204079 [==============================] - 2s 10us/step - loss: 0.6388 - acc: 0.6303 - val_loss: 0.6556 - val_acc: 0.6136\n",
            "Epoch 63/10000\n",
            "204079/204079 [==============================] - 2s 10us/step - loss: 0.6376 - acc: 0.6325 - val_loss: 0.6556 - val_acc: 0.6147\n",
            "Epoch 64/10000\n",
            "204079/204079 [==============================] - 2s 10us/step - loss: 0.6379 - acc: 0.6316 - val_loss: 0.6557 - val_acc: 0.6134\n",
            "Epoch 65/10000\n",
            "204079/204079 [==============================] - 2s 10us/step - loss: 0.6363 - acc: 0.6335 - val_loss: 0.6554 - val_acc: 0.6138\n",
            "Epoch 66/10000\n",
            "204079/204079 [==============================] - 2s 10us/step - loss: 0.6364 - acc: 0.6334 - val_loss: 0.6556 - val_acc: 0.6149\n",
            "Epoch 67/10000\n",
            "204079/204079 [==============================] - 2s 10us/step - loss: 0.6358 - acc: 0.6331 - val_loss: 0.6556 - val_acc: 0.6138\n",
            "Epoch 68/10000\n",
            "204079/204079 [==============================] - 2s 10us/step - loss: 0.6353 - acc: 0.6348 - val_loss: 0.6563 - val_acc: 0.6128\n",
            "Epoch 69/10000\n",
            "204079/204079 [==============================] - 2s 10us/step - loss: 0.6347 - acc: 0.6347 - val_loss: 0.6557 - val_acc: 0.6141\n",
            "Epoch 70/10000\n",
            "204079/204079 [==============================] - 2s 10us/step - loss: 0.6348 - acc: 0.6352 - val_loss: 0.6558 - val_acc: 0.6132\n",
            "WARNING:tensorflow:This model was compiled with a Keras optimizer (<tensorflow.python.keras.optimizers.Adam object at 0x7efe3b2f3208>) but is being saved in TensorFlow format with `save_weights`. The model's weights will be saved, but unlike with TensorFlow optimizers in the TensorFlow format the optimizer's state will not be saved.\n",
            "\n",
            "Consider using a TensorFlow optimizer from `tf.train`.\n",
            "\n",
            "-----------------Training MLP 11-----------------\n",
            "\n",
            "Train on 204079 samples, validate on 127550 samples\n",
            "Epoch 1/10000\n",
            "204079/204079 [==============================] - 2s 12us/step - loss: 0.6890 - acc: 0.5565 - val_loss: 0.6726 - val_acc: 0.5845\n",
            "Epoch 2/10000\n",
            "204079/204079 [==============================] - 2s 10us/step - loss: 0.6749 - acc: 0.5797 - val_loss: 0.6719 - val_acc: 0.5868\n",
            "Epoch 3/10000\n",
            "204079/204079 [==============================] - 2s 9us/step - loss: 0.6722 - acc: 0.5843 - val_loss: 0.6711 - val_acc: 0.5853\n",
            "Epoch 4/10000\n",
            "204079/204079 [==============================] - 2s 10us/step - loss: 0.6711 - acc: 0.5862 - val_loss: 0.6697 - val_acc: 0.5876\n",
            "Epoch 5/10000\n",
            "204079/204079 [==============================] - 2s 10us/step - loss: 0.6697 - acc: 0.5884 - val_loss: 0.6697 - val_acc: 0.5896\n",
            "Epoch 6/10000\n",
            "204079/204079 [==============================] - 2s 10us/step - loss: 0.6686 - acc: 0.5903 - val_loss: 0.6678 - val_acc: 0.5925\n",
            "Epoch 7/10000\n",
            "204079/204079 [==============================] - 2s 10us/step - loss: 0.6673 - acc: 0.5940 - val_loss: 0.6671 - val_acc: 0.5927\n",
            "Epoch 8/10000\n",
            "204079/204079 [==============================] - 2s 10us/step - loss: 0.6658 - acc: 0.5966 - val_loss: 0.6666 - val_acc: 0.5955\n",
            "Epoch 9/10000\n",
            "204079/204079 [==============================] - 2s 10us/step - loss: 0.6644 - acc: 0.5989 - val_loss: 0.6633 - val_acc: 0.6023\n",
            "Epoch 10/10000\n",
            "204079/204079 [==============================] - 2s 10us/step - loss: 0.6623 - acc: 0.6040 - val_loss: 0.6617 - val_acc: 0.6034\n",
            "Epoch 11/10000\n",
            "204079/204079 [==============================] - 2s 10us/step - loss: 0.6609 - acc: 0.6040 - val_loss: 0.6608 - val_acc: 0.6042\n",
            "Epoch 12/10000\n",
            "204079/204079 [==============================] - 2s 10us/step - loss: 0.6602 - acc: 0.6055 - val_loss: 0.6599 - val_acc: 0.6066\n",
            "Epoch 13/10000\n",
            "204079/204079 [==============================] - 2s 10us/step - loss: 0.6593 - acc: 0.6068 - val_loss: 0.6592 - val_acc: 0.6058\n",
            "Epoch 14/10000\n",
            "204079/204079 [==============================] - 2s 10us/step - loss: 0.6587 - acc: 0.6087 - val_loss: 0.6587 - val_acc: 0.6087\n",
            "Epoch 15/10000\n",
            "204079/204079 [==============================] - 2s 10us/step - loss: 0.6578 - acc: 0.6090 - val_loss: 0.6583 - val_acc: 0.6094\n",
            "Epoch 16/10000\n",
            "204079/204079 [==============================] - 2s 10us/step - loss: 0.6571 - acc: 0.6107 - val_loss: 0.6573 - val_acc: 0.6106\n",
            "Epoch 17/10000\n",
            "204079/204079 [==============================] - 2s 10us/step - loss: 0.6563 - acc: 0.6117 - val_loss: 0.6565 - val_acc: 0.6114\n",
            "Epoch 18/10000\n",
            "204079/204079 [==============================] - 2s 10us/step - loss: 0.6557 - acc: 0.6117 - val_loss: 0.6562 - val_acc: 0.6126\n",
            "Epoch 19/10000\n",
            "204079/204079 [==============================] - 2s 10us/step - loss: 0.6555 - acc: 0.6133 - val_loss: 0.6561 - val_acc: 0.6121\n",
            "Epoch 20/10000\n",
            "204079/204079 [==============================] - 2s 10us/step - loss: 0.6546 - acc: 0.6123 - val_loss: 0.6559 - val_acc: 0.6130\n",
            "Epoch 21/10000\n",
            "204079/204079 [==============================] - 2s 10us/step - loss: 0.6540 - acc: 0.6142 - val_loss: 0.6552 - val_acc: 0.6143\n",
            "Epoch 22/10000\n",
            "204079/204079 [==============================] - 2s 10us/step - loss: 0.6534 - acc: 0.6155 - val_loss: 0.6546 - val_acc: 0.6147\n",
            "Epoch 23/10000\n",
            "204079/204079 [==============================] - 2s 10us/step - loss: 0.6530 - acc: 0.6154 - val_loss: 0.6543 - val_acc: 0.6150\n",
            "Epoch 24/10000\n",
            "204079/204079 [==============================] - 2s 11us/step - loss: 0.6524 - acc: 0.6159 - val_loss: 0.6539 - val_acc: 0.6157\n",
            "Epoch 25/10000\n",
            "204079/204079 [==============================] - 2s 11us/step - loss: 0.6521 - acc: 0.6163 - val_loss: 0.6532 - val_acc: 0.6172\n",
            "Epoch 26/10000\n",
            "204079/204079 [==============================] - 2s 11us/step - loss: 0.6514 - acc: 0.6174 - val_loss: 0.6530 - val_acc: 0.6172\n",
            "Epoch 27/10000\n",
            "204079/204079 [==============================] - 2s 10us/step - loss: 0.6505 - acc: 0.6188 - val_loss: 0.6529 - val_acc: 0.6177\n",
            "Epoch 28/10000\n",
            "204079/204079 [==============================] - 2s 10us/step - loss: 0.6504 - acc: 0.6189 - val_loss: 0.6529 - val_acc: 0.6175\n",
            "Epoch 29/10000\n",
            "204079/204079 [==============================] - 2s 10us/step - loss: 0.6497 - acc: 0.6199 - val_loss: 0.6523 - val_acc: 0.6168\n",
            "Epoch 30/10000\n",
            "204079/204079 [==============================] - 2s 10us/step - loss: 0.6494 - acc: 0.6202 - val_loss: 0.6532 - val_acc: 0.6151\n",
            "Epoch 31/10000\n",
            "204079/204079 [==============================] - 2s 10us/step - loss: 0.6489 - acc: 0.6211 - val_loss: 0.6533 - val_acc: 0.6157\n",
            "Epoch 32/10000\n",
            "204079/204079 [==============================] - 2s 10us/step - loss: 0.6487 - acc: 0.6209 - val_loss: 0.6522 - val_acc: 0.6181\n",
            "Epoch 33/10000\n",
            "204079/204079 [==============================] - 2s 10us/step - loss: 0.6480 - acc: 0.6219 - val_loss: 0.6518 - val_acc: 0.6181\n",
            "Epoch 34/10000\n",
            "204079/204079 [==============================] - 2s 10us/step - loss: 0.6478 - acc: 0.6225 - val_loss: 0.6516 - val_acc: 0.6185\n",
            "Epoch 35/10000\n",
            "204079/204079 [==============================] - 2s 10us/step - loss: 0.6470 - acc: 0.6222 - val_loss: 0.6513 - val_acc: 0.6181\n",
            "Epoch 36/10000\n",
            "204079/204079 [==============================] - 2s 10us/step - loss: 0.6469 - acc: 0.6227 - val_loss: 0.6516 - val_acc: 0.6172\n",
            "Epoch 37/10000\n",
            "204079/204079 [==============================] - 2s 10us/step - loss: 0.6459 - acc: 0.6239 - val_loss: 0.6509 - val_acc: 0.6190\n",
            "Epoch 38/10000\n",
            "204079/204079 [==============================] - 2s 10us/step - loss: 0.6459 - acc: 0.6237 - val_loss: 0.6512 - val_acc: 0.6177\n",
            "Epoch 39/10000\n",
            "204079/204079 [==============================] - 2s 10us/step - loss: 0.6453 - acc: 0.6248 - val_loss: 0.6511 - val_acc: 0.6190\n",
            "Epoch 40/10000\n",
            "204079/204079 [==============================] - 2s 10us/step - loss: 0.6444 - acc: 0.6264 - val_loss: 0.6514 - val_acc: 0.6178\n",
            "Epoch 41/10000\n",
            "204079/204079 [==============================] - 2s 10us/step - loss: 0.6441 - acc: 0.6260 - val_loss: 0.6506 - val_acc: 0.6194\n",
            "Epoch 42/10000\n",
            "204079/204079 [==============================] - 2s 10us/step - loss: 0.6437 - acc: 0.6259 - val_loss: 0.6510 - val_acc: 0.6192\n",
            "Epoch 43/10000\n",
            "204079/204079 [==============================] - 2s 10us/step - loss: 0.6429 - acc: 0.6277 - val_loss: 0.6506 - val_acc: 0.6196\n",
            "Epoch 44/10000\n",
            "204079/204079 [==============================] - 2s 10us/step - loss: 0.6425 - acc: 0.6274 - val_loss: 0.6505 - val_acc: 0.6192\n",
            "Epoch 45/10000\n",
            "204079/204079 [==============================] - 2s 10us/step - loss: 0.6420 - acc: 0.6281 - val_loss: 0.6506 - val_acc: 0.6192\n",
            "Epoch 46/10000\n",
            "204079/204079 [==============================] - 2s 10us/step - loss: 0.6420 - acc: 0.6288 - val_loss: 0.6504 - val_acc: 0.6191\n",
            "Epoch 47/10000\n",
            "204079/204079 [==============================] - 2s 10us/step - loss: 0.6412 - acc: 0.6291 - val_loss: 0.6504 - val_acc: 0.6192\n",
            "Epoch 48/10000\n",
            "204079/204079 [==============================] - 2s 10us/step - loss: 0.6407 - acc: 0.6302 - val_loss: 0.6503 - val_acc: 0.6199\n",
            "Epoch 49/10000\n",
            "204079/204079 [==============================] - 2s 10us/step - loss: 0.6403 - acc: 0.6301 - val_loss: 0.6503 - val_acc: 0.6203\n",
            "Epoch 50/10000\n",
            "204079/204079 [==============================] - 2s 10us/step - loss: 0.6398 - acc: 0.6305 - val_loss: 0.6501 - val_acc: 0.6202\n",
            "Epoch 51/10000\n",
            "204079/204079 [==============================] - 2s 10us/step - loss: 0.6394 - acc: 0.6310 - val_loss: 0.6502 - val_acc: 0.6204\n",
            "Epoch 52/10000\n",
            "204079/204079 [==============================] - 2s 10us/step - loss: 0.6389 - acc: 0.6314 - val_loss: 0.6502 - val_acc: 0.6202\n",
            "Epoch 53/10000\n",
            "204079/204079 [==============================] - 2s 10us/step - loss: 0.6381 - acc: 0.6319 - val_loss: 0.6500 - val_acc: 0.6207\n",
            "Epoch 54/10000\n",
            "204079/204079 [==============================] - 2s 10us/step - loss: 0.6377 - acc: 0.6333 - val_loss: 0.6502 - val_acc: 0.6204\n",
            "Epoch 55/10000\n",
            "204079/204079 [==============================] - 2s 10us/step - loss: 0.6375 - acc: 0.6337 - val_loss: 0.6500 - val_acc: 0.6209\n",
            "Epoch 56/10000\n",
            "204079/204079 [==============================] - 2s 10us/step - loss: 0.6374 - acc: 0.6328 - val_loss: 0.6502 - val_acc: 0.6204\n",
            "Epoch 57/10000\n",
            "204079/204079 [==============================] - 2s 10us/step - loss: 0.6363 - acc: 0.6341 - val_loss: 0.6506 - val_acc: 0.6203\n",
            "Epoch 58/10000\n",
            "204079/204079 [==============================] - 2s 10us/step - loss: 0.6362 - acc: 0.6343 - val_loss: 0.6499 - val_acc: 0.6202\n",
            "Epoch 59/10000\n",
            "204079/204079 [==============================] - 2s 10us/step - loss: 0.6352 - acc: 0.6361 - val_loss: 0.6500 - val_acc: 0.6202\n",
            "Epoch 60/10000\n",
            "204079/204079 [==============================] - 2s 10us/step - loss: 0.6350 - acc: 0.6358 - val_loss: 0.6501 - val_acc: 0.6198\n",
            "Epoch 61/10000\n",
            "204079/204079 [==============================] - 2s 10us/step - loss: 0.6341 - acc: 0.6368 - val_loss: 0.6500 - val_acc: 0.6200\n",
            "Epoch 62/10000\n",
            "204079/204079 [==============================] - 2s 10us/step - loss: 0.6338 - acc: 0.6359 - val_loss: 0.6499 - val_acc: 0.6209\n",
            "Epoch 63/10000\n",
            "204079/204079 [==============================] - 2s 10us/step - loss: 0.6331 - acc: 0.6383 - val_loss: 0.6504 - val_acc: 0.6204\n",
            "WARNING:tensorflow:This model was compiled with a Keras optimizer (<tensorflow.python.keras.optimizers.Adam object at 0x7efe384942b0>) but is being saved in TensorFlow format with `save_weights`. The model's weights will be saved, but unlike with TensorFlow optimizers in the TensorFlow format the optimizer's state will not be saved.\n",
            "\n",
            "Consider using a TensorFlow optimizer from `tf.train`.\n",
            "\n",
            "-----------------Training MLP 12-----------------\n",
            "\n",
            "Train on 204079 samples, validate on 127550 samples\n",
            "Epoch 1/10000\n",
            "204079/204079 [==============================] - 2s 11us/step - loss: 0.6907 - acc: 0.5475 - val_loss: 0.6751 - val_acc: 0.5760\n",
            "Epoch 2/10000\n",
            "204079/204079 [==============================] - 2s 10us/step - loss: 0.6779 - acc: 0.5712 - val_loss: 0.6749 - val_acc: 0.5748\n",
            "Epoch 3/10000\n",
            "204079/204079 [==============================] - 2s 10us/step - loss: 0.6754 - acc: 0.5757 - val_loss: 0.6729 - val_acc: 0.5815\n",
            "Epoch 4/10000\n",
            "204079/204079 [==============================] - 2s 10us/step - loss: 0.6740 - acc: 0.5786 - val_loss: 0.6724 - val_acc: 0.5831\n",
            "Epoch 5/10000\n",
            "204079/204079 [==============================] - 2s 10us/step - loss: 0.6733 - acc: 0.5801 - val_loss: 0.6719 - val_acc: 0.5840\n",
            "Epoch 6/10000\n",
            "204079/204079 [==============================] - 2s 10us/step - loss: 0.6728 - acc: 0.5812 - val_loss: 0.6712 - val_acc: 0.5866\n",
            "Epoch 7/10000\n",
            "204079/204079 [==============================] - 2s 9us/step - loss: 0.6719 - acc: 0.5841 - val_loss: 0.6701 - val_acc: 0.5886\n",
            "Epoch 8/10000\n",
            "204079/204079 [==============================] - 2s 9us/step - loss: 0.6707 - acc: 0.5868 - val_loss: 0.6693 - val_acc: 0.5896\n",
            "Epoch 9/10000\n",
            "204079/204079 [==============================] - 2s 9us/step - loss: 0.6699 - acc: 0.5883 - val_loss: 0.6683 - val_acc: 0.5913\n",
            "Epoch 10/10000\n",
            "204079/204079 [==============================] - 2s 9us/step - loss: 0.6689 - acc: 0.5906 - val_loss: 0.6678 - val_acc: 0.5920\n",
            "Epoch 11/10000\n",
            "204079/204079 [==============================] - 2s 9us/step - loss: 0.6684 - acc: 0.5914 - val_loss: 0.6674 - val_acc: 0.5927\n",
            "Epoch 12/10000\n",
            "204079/204079 [==============================] - 2s 9us/step - loss: 0.6678 - acc: 0.5923 - val_loss: 0.6666 - val_acc: 0.5947\n",
            "Epoch 13/10000\n",
            "204079/204079 [==============================] - 2s 9us/step - loss: 0.6672 - acc: 0.5928 - val_loss: 0.6662 - val_acc: 0.5950\n",
            "Epoch 14/10000\n",
            "204079/204079 [==============================] - 2s 9us/step - loss: 0.6665 - acc: 0.5950 - val_loss: 0.6657 - val_acc: 0.5963\n",
            "Epoch 15/10000\n",
            "204079/204079 [==============================] - 2s 9us/step - loss: 0.6659 - acc: 0.5959 - val_loss: 0.6655 - val_acc: 0.5975\n",
            "Epoch 16/10000\n",
            "204079/204079 [==============================] - 2s 9us/step - loss: 0.6654 - acc: 0.5967 - val_loss: 0.6648 - val_acc: 0.5977\n",
            "Epoch 17/10000\n",
            "204079/204079 [==============================] - 2s 9us/step - loss: 0.6647 - acc: 0.5979 - val_loss: 0.6643 - val_acc: 0.5982\n",
            "Epoch 18/10000\n",
            "204079/204079 [==============================] - 2s 9us/step - loss: 0.6640 - acc: 0.5993 - val_loss: 0.6637 - val_acc: 0.5993\n",
            "Epoch 19/10000\n",
            "204079/204079 [==============================] - 2s 9us/step - loss: 0.6633 - acc: 0.5994 - val_loss: 0.6632 - val_acc: 0.6004\n",
            "Epoch 20/10000\n",
            "204079/204079 [==============================] - 2s 9us/step - loss: 0.6624 - acc: 0.6012 - val_loss: 0.6628 - val_acc: 0.6013\n",
            "Epoch 21/10000\n",
            "204079/204079 [==============================] - 2s 9us/step - loss: 0.6615 - acc: 0.6022 - val_loss: 0.6623 - val_acc: 0.6014\n",
            "Epoch 22/10000\n",
            "204079/204079 [==============================] - 2s 9us/step - loss: 0.6611 - acc: 0.6032 - val_loss: 0.6616 - val_acc: 0.6022\n",
            "Epoch 23/10000\n",
            "204079/204079 [==============================] - 2s 9us/step - loss: 0.6603 - acc: 0.6035 - val_loss: 0.6612 - val_acc: 0.6036\n",
            "Epoch 24/10000\n",
            "204079/204079 [==============================] - 2s 9us/step - loss: 0.6597 - acc: 0.6051 - val_loss: 0.6607 - val_acc: 0.6041\n",
            "Epoch 25/10000\n",
            "204079/204079 [==============================] - 2s 10us/step - loss: 0.6589 - acc: 0.6062 - val_loss: 0.6602 - val_acc: 0.6052\n",
            "Epoch 26/10000\n",
            "204079/204079 [==============================] - 2s 9us/step - loss: 0.6581 - acc: 0.6071 - val_loss: 0.6602 - val_acc: 0.6045\n",
            "Epoch 27/10000\n",
            "204079/204079 [==============================] - 2s 9us/step - loss: 0.6576 - acc: 0.6075 - val_loss: 0.6591 - val_acc: 0.6065\n",
            "Epoch 28/10000\n",
            "204079/204079 [==============================] - 2s 10us/step - loss: 0.6569 - acc: 0.6090 - val_loss: 0.6590 - val_acc: 0.6072\n",
            "Epoch 29/10000\n",
            "204079/204079 [==============================] - 2s 9us/step - loss: 0.6560 - acc: 0.6086 - val_loss: 0.6593 - val_acc: 0.6064\n",
            "Epoch 30/10000\n",
            "204079/204079 [==============================] - 2s 9us/step - loss: 0.6562 - acc: 0.6106 - val_loss: 0.6587 - val_acc: 0.6072\n",
            "Epoch 31/10000\n",
            "204079/204079 [==============================] - 2s 9us/step - loss: 0.6551 - acc: 0.6118 - val_loss: 0.6582 - val_acc: 0.6088\n",
            "Epoch 32/10000\n",
            "204079/204079 [==============================] - 2s 9us/step - loss: 0.6548 - acc: 0.6115 - val_loss: 0.6588 - val_acc: 0.6073\n",
            "Epoch 33/10000\n",
            "204079/204079 [==============================] - 2s 9us/step - loss: 0.6542 - acc: 0.6122 - val_loss: 0.6582 - val_acc: 0.6083\n",
            "Epoch 34/10000\n",
            "204079/204079 [==============================] - 2s 9us/step - loss: 0.6532 - acc: 0.6135 - val_loss: 0.6575 - val_acc: 0.6089\n",
            "Epoch 35/10000\n",
            "204079/204079 [==============================] - 2s 9us/step - loss: 0.6529 - acc: 0.6140 - val_loss: 0.6574 - val_acc: 0.6099\n",
            "Epoch 36/10000\n",
            "204079/204079 [==============================] - 2s 10us/step - loss: 0.6518 - acc: 0.6153 - val_loss: 0.6572 - val_acc: 0.6091\n",
            "Epoch 37/10000\n",
            "204079/204079 [==============================] - 2s 9us/step - loss: 0.6513 - acc: 0.6158 - val_loss: 0.6569 - val_acc: 0.6103\n",
            "Epoch 38/10000\n",
            "204079/204079 [==============================] - 2s 9us/step - loss: 0.6508 - acc: 0.6171 - val_loss: 0.6569 - val_acc: 0.6096\n",
            "Epoch 39/10000\n",
            "204079/204079 [==============================] - 2s 9us/step - loss: 0.6503 - acc: 0.6182 - val_loss: 0.6567 - val_acc: 0.6106\n",
            "Epoch 40/10000\n",
            "204079/204079 [==============================] - 2s 9us/step - loss: 0.6497 - acc: 0.6192 - val_loss: 0.6571 - val_acc: 0.6096\n",
            "Epoch 41/10000\n",
            "204079/204079 [==============================] - 2s 9us/step - loss: 0.6488 - acc: 0.6195 - val_loss: 0.6565 - val_acc: 0.6115\n",
            "Epoch 42/10000\n",
            "204079/204079 [==============================] - 2s 9us/step - loss: 0.6486 - acc: 0.6194 - val_loss: 0.6560 - val_acc: 0.6116\n",
            "Epoch 43/10000\n",
            "204079/204079 [==============================] - 2s 9us/step - loss: 0.6480 - acc: 0.6208 - val_loss: 0.6562 - val_acc: 0.6114\n",
            "Epoch 44/10000\n",
            "204079/204079 [==============================] - 2s 10us/step - loss: 0.6473 - acc: 0.6207 - val_loss: 0.6562 - val_acc: 0.6105\n",
            "Epoch 45/10000\n",
            "204079/204079 [==============================] - 2s 9us/step - loss: 0.6470 - acc: 0.6213 - val_loss: 0.6560 - val_acc: 0.6121\n",
            "Epoch 46/10000\n",
            "204079/204079 [==============================] - 2s 10us/step - loss: 0.6464 - acc: 0.6209 - val_loss: 0.6554 - val_acc: 0.6118\n",
            "Epoch 47/10000\n",
            "204079/204079 [==============================] - 2s 9us/step - loss: 0.6457 - acc: 0.6231 - val_loss: 0.6556 - val_acc: 0.6118\n",
            "Epoch 48/10000\n",
            "204079/204079 [==============================] - 2s 9us/step - loss: 0.6454 - acc: 0.6216 - val_loss: 0.6556 - val_acc: 0.6114\n",
            "Epoch 49/10000\n",
            "204079/204079 [==============================] - 2s 9us/step - loss: 0.6447 - acc: 0.6235 - val_loss: 0.6560 - val_acc: 0.6114\n",
            "Epoch 50/10000\n",
            "204079/204079 [==============================] - 2s 10us/step - loss: 0.6443 - acc: 0.6248 - val_loss: 0.6555 - val_acc: 0.6124\n",
            "Epoch 51/10000\n",
            "204079/204079 [==============================] - 2s 9us/step - loss: 0.6430 - acc: 0.6261 - val_loss: 0.6555 - val_acc: 0.6125\n",
            "WARNING:tensorflow:This model was compiled with a Keras optimizer (<tensorflow.python.keras.optimizers.Adam object at 0x7efe3560c320>) but is being saved in TensorFlow format with `save_weights`. The model's weights will be saved, but unlike with TensorFlow optimizers in the TensorFlow format the optimizer's state will not be saved.\n",
            "\n",
            "Consider using a TensorFlow optimizer from `tf.train`.\n",
            "\n",
            "-----------------Training MLP 13-----------------\n",
            "\n",
            "Train on 204079 samples, validate on 127550 samples\n",
            "Epoch 1/10000\n",
            "204079/204079 [==============================] - 2s 11us/step - loss: 0.6808 - acc: 0.5728 - val_loss: 0.6634 - val_acc: 0.5988\n",
            "Epoch 2/10000\n",
            "204079/204079 [==============================] - 2s 10us/step - loss: 0.6644 - acc: 0.5962 - val_loss: 0.6587 - val_acc: 0.6059\n",
            "Epoch 3/10000\n",
            "204079/204079 [==============================] - 2s 10us/step - loss: 0.6590 - acc: 0.6032 - val_loss: 0.6561 - val_acc: 0.6107\n",
            "Epoch 4/10000\n",
            "204079/204079 [==============================] - 2s 10us/step - loss: 0.6552 - acc: 0.6077 - val_loss: 0.6533 - val_acc: 0.6134\n",
            "Epoch 5/10000\n",
            "204079/204079 [==============================] - 2s 10us/step - loss: 0.6532 - acc: 0.6097 - val_loss: 0.6521 - val_acc: 0.6143\n",
            "Epoch 6/10000\n",
            "204079/204079 [==============================] - 2s 10us/step - loss: 0.6517 - acc: 0.6130 - val_loss: 0.6504 - val_acc: 0.6177\n",
            "Epoch 7/10000\n",
            "204079/204079 [==============================] - 2s 10us/step - loss: 0.6504 - acc: 0.6144 - val_loss: 0.6502 - val_acc: 0.6164\n",
            "Epoch 8/10000\n",
            "204079/204079 [==============================] - 2s 10us/step - loss: 0.6493 - acc: 0.6162 - val_loss: 0.6491 - val_acc: 0.6206\n",
            "Epoch 9/10000\n",
            "204079/204079 [==============================] - 2s 10us/step - loss: 0.6482 - acc: 0.6180 - val_loss: 0.6484 - val_acc: 0.6203\n",
            "Epoch 10/10000\n",
            "204079/204079 [==============================] - 2s 10us/step - loss: 0.6473 - acc: 0.6183 - val_loss: 0.6475 - val_acc: 0.6219\n",
            "Epoch 11/10000\n",
            "204079/204079 [==============================] - 2s 10us/step - loss: 0.6465 - acc: 0.6200 - val_loss: 0.6471 - val_acc: 0.6232\n",
            "Epoch 12/10000\n",
            "204079/204079 [==============================] - 2s 10us/step - loss: 0.6460 - acc: 0.6214 - val_loss: 0.6473 - val_acc: 0.6232\n",
            "Epoch 13/10000\n",
            "204079/204079 [==============================] - 2s 10us/step - loss: 0.6451 - acc: 0.6223 - val_loss: 0.6464 - val_acc: 0.6238\n",
            "Epoch 14/10000\n",
            "204079/204079 [==============================] - 2s 10us/step - loss: 0.6450 - acc: 0.6227 - val_loss: 0.6462 - val_acc: 0.6253\n",
            "Epoch 15/10000\n",
            "204079/204079 [==============================] - 2s 9us/step - loss: 0.6443 - acc: 0.6245 - val_loss: 0.6457 - val_acc: 0.6258\n",
            "Epoch 16/10000\n",
            "204079/204079 [==============================] - 2s 10us/step - loss: 0.6436 - acc: 0.6249 - val_loss: 0.6458 - val_acc: 0.6256\n",
            "Epoch 17/10000\n",
            "204079/204079 [==============================] - 2s 10us/step - loss: 0.6431 - acc: 0.6250 - val_loss: 0.6450 - val_acc: 0.6266\n",
            "Epoch 18/10000\n",
            "204079/204079 [==============================] - 2s 10us/step - loss: 0.6426 - acc: 0.6256 - val_loss: 0.6451 - val_acc: 0.6262\n",
            "Epoch 19/10000\n",
            "204079/204079 [==============================] - 2s 10us/step - loss: 0.6421 - acc: 0.6266 - val_loss: 0.6447 - val_acc: 0.6270\n",
            "Epoch 20/10000\n",
            "204079/204079 [==============================] - 2s 10us/step - loss: 0.6419 - acc: 0.6267 - val_loss: 0.6444 - val_acc: 0.6281\n",
            "Epoch 21/10000\n",
            "204079/204079 [==============================] - 2s 10us/step - loss: 0.6412 - acc: 0.6277 - val_loss: 0.6442 - val_acc: 0.6277\n",
            "Epoch 22/10000\n",
            "204079/204079 [==============================] - 2s 9us/step - loss: 0.6407 - acc: 0.6291 - val_loss: 0.6446 - val_acc: 0.6273\n",
            "Epoch 23/10000\n",
            "204079/204079 [==============================] - 2s 9us/step - loss: 0.6401 - acc: 0.6285 - val_loss: 0.6437 - val_acc: 0.6289\n",
            "Epoch 24/10000\n",
            "204079/204079 [==============================] - 2s 9us/step - loss: 0.6397 - acc: 0.6291 - val_loss: 0.6436 - val_acc: 0.6289\n",
            "Epoch 25/10000\n",
            "204079/204079 [==============================] - 2s 9us/step - loss: 0.6395 - acc: 0.6295 - val_loss: 0.6444 - val_acc: 0.6286\n",
            "Epoch 26/10000\n",
            "204079/204079 [==============================] - 2s 10us/step - loss: 0.6389 - acc: 0.6303 - val_loss: 0.6435 - val_acc: 0.6289\n",
            "Epoch 27/10000\n",
            "204079/204079 [==============================] - 2s 9us/step - loss: 0.6386 - acc: 0.6298 - val_loss: 0.6431 - val_acc: 0.6302\n",
            "Epoch 28/10000\n",
            "204079/204079 [==============================] - 2s 9us/step - loss: 0.6384 - acc: 0.6322 - val_loss: 0.6431 - val_acc: 0.6302\n",
            "Epoch 29/10000\n",
            "204079/204079 [==============================] - 2s 10us/step - loss: 0.6375 - acc: 0.6312 - val_loss: 0.6426 - val_acc: 0.6309\n",
            "Epoch 30/10000\n",
            "204079/204079 [==============================] - 2s 9us/step - loss: 0.6370 - acc: 0.6331 - val_loss: 0.6427 - val_acc: 0.6311\n",
            "Epoch 31/10000\n",
            "204079/204079 [==============================] - 2s 9us/step - loss: 0.6365 - acc: 0.6335 - val_loss: 0.6429 - val_acc: 0.6302\n",
            "Epoch 32/10000\n",
            "204079/204079 [==============================] - 2s 9us/step - loss: 0.6358 - acc: 0.6336 - val_loss: 0.6422 - val_acc: 0.6306\n",
            "Epoch 33/10000\n",
            "204079/204079 [==============================] - 2s 9us/step - loss: 0.6358 - acc: 0.6329 - val_loss: 0.6426 - val_acc: 0.6303\n",
            "Epoch 34/10000\n",
            "204079/204079 [==============================] - 2s 9us/step - loss: 0.6355 - acc: 0.6348 - val_loss: 0.6426 - val_acc: 0.6308\n",
            "Epoch 35/10000\n",
            "204079/204079 [==============================] - 2s 9us/step - loss: 0.6347 - acc: 0.6345 - val_loss: 0.6420 - val_acc: 0.6315\n",
            "Epoch 36/10000\n",
            "204079/204079 [==============================] - 2s 9us/step - loss: 0.6342 - acc: 0.6352 - val_loss: 0.6422 - val_acc: 0.6313\n",
            "Epoch 37/10000\n",
            "204079/204079 [==============================] - 2s 9us/step - loss: 0.6336 - acc: 0.6353 - val_loss: 0.6429 - val_acc: 0.6312\n",
            "Epoch 38/10000\n",
            "204079/204079 [==============================] - 2s 9us/step - loss: 0.6336 - acc: 0.6355 - val_loss: 0.6423 - val_acc: 0.6306\n",
            "Epoch 39/10000\n",
            "204079/204079 [==============================] - 2s 9us/step - loss: 0.6330 - acc: 0.6357 - val_loss: 0.6419 - val_acc: 0.6320\n",
            "Epoch 40/10000\n",
            "204079/204079 [==============================] - 2s 9us/step - loss: 0.6325 - acc: 0.6368 - val_loss: 0.6418 - val_acc: 0.6322\n",
            "Epoch 41/10000\n",
            "204079/204079 [==============================] - 2s 10us/step - loss: 0.6324 - acc: 0.6362 - val_loss: 0.6420 - val_acc: 0.6316\n",
            "Epoch 42/10000\n",
            "204079/204079 [==============================] - 2s 10us/step - loss: 0.6315 - acc: 0.6382 - val_loss: 0.6419 - val_acc: 0.6314\n",
            "Epoch 43/10000\n",
            "204079/204079 [==============================] - 2s 10us/step - loss: 0.6314 - acc: 0.6366 - val_loss: 0.6423 - val_acc: 0.6317\n",
            "Epoch 44/10000\n",
            "204079/204079 [==============================] - 2s 10us/step - loss: 0.6310 - acc: 0.6376 - val_loss: 0.6420 - val_acc: 0.6318\n",
            "Epoch 45/10000\n",
            "204079/204079 [==============================] - 2s 10us/step - loss: 0.6306 - acc: 0.6381 - val_loss: 0.6422 - val_acc: 0.6321\n",
            "WARNING:tensorflow:This model was compiled with a Keras optimizer (<tensorflow.python.keras.optimizers.Adam object at 0x7efe3272f390>) but is being saved in TensorFlow format with `save_weights`. The model's weights will be saved, but unlike with TensorFlow optimizers in the TensorFlow format the optimizer's state will not be saved.\n",
            "\n",
            "Consider using a TensorFlow optimizer from `tf.train`.\n",
            "\n",
            "-----------------Training MLP 14-----------------\n",
            "\n",
            "Train on 204079 samples, validate on 127550 samples\n",
            "Epoch 1/10000\n",
            "204079/204079 [==============================] - 2s 12us/step - loss: 0.6866 - acc: 0.5589 - val_loss: 0.6710 - val_acc: 0.5874\n",
            "Epoch 2/10000\n",
            "204079/204079 [==============================] - 2s 10us/step - loss: 0.6736 - acc: 0.5816 - val_loss: 0.6713 - val_acc: 0.5847\n",
            "Epoch 3/10000\n",
            "204079/204079 [==============================] - 2s 10us/step - loss: 0.6711 - acc: 0.5854 - val_loss: 0.6690 - val_acc: 0.5904\n",
            "Epoch 4/10000\n",
            "204079/204079 [==============================] - 2s 10us/step - loss: 0.6698 - acc: 0.5882 - val_loss: 0.6679 - val_acc: 0.5915\n",
            "Epoch 5/10000\n",
            "204079/204079 [==============================] - 2s 10us/step - loss: 0.6681 - acc: 0.5901 - val_loss: 0.6672 - val_acc: 0.5934\n",
            "Epoch 6/10000\n",
            "204079/204079 [==============================] - 2s 10us/step - loss: 0.6668 - acc: 0.5930 - val_loss: 0.6651 - val_acc: 0.5961\n",
            "Epoch 7/10000\n",
            "204079/204079 [==============================] - 2s 10us/step - loss: 0.6655 - acc: 0.5950 - val_loss: 0.6641 - val_acc: 0.5992\n",
            "Epoch 8/10000\n",
            "204079/204079 [==============================] - 2s 10us/step - loss: 0.6643 - acc: 0.5984 - val_loss: 0.6631 - val_acc: 0.6008\n",
            "Epoch 9/10000\n",
            "204079/204079 [==============================] - 2s 10us/step - loss: 0.6633 - acc: 0.6000 - val_loss: 0.6626 - val_acc: 0.6024\n",
            "Epoch 10/10000\n",
            "204079/204079 [==============================] - 2s 10us/step - loss: 0.6623 - acc: 0.6024 - val_loss: 0.6617 - val_acc: 0.6032\n",
            "Epoch 11/10000\n",
            "204079/204079 [==============================] - 2s 10us/step - loss: 0.6618 - acc: 0.6033 - val_loss: 0.6616 - val_acc: 0.6031\n",
            "Epoch 12/10000\n",
            "204079/204079 [==============================] - 2s 10us/step - loss: 0.6607 - acc: 0.6043 - val_loss: 0.6607 - val_acc: 0.6040\n",
            "Epoch 13/10000\n",
            "204079/204079 [==============================] - 2s 10us/step - loss: 0.6602 - acc: 0.6044 - val_loss: 0.6599 - val_acc: 0.6064\n",
            "Epoch 14/10000\n",
            "204079/204079 [==============================] - 2s 10us/step - loss: 0.6590 - acc: 0.6057 - val_loss: 0.6590 - val_acc: 0.6080\n",
            "Epoch 15/10000\n",
            "204079/204079 [==============================] - 2s 10us/step - loss: 0.6582 - acc: 0.6066 - val_loss: 0.6595 - val_acc: 0.6083\n",
            "Epoch 16/10000\n",
            "204079/204079 [==============================] - 2s 10us/step - loss: 0.6579 - acc: 0.6075 - val_loss: 0.6585 - val_acc: 0.6088\n",
            "Epoch 17/10000\n",
            "204079/204079 [==============================] - 2s 10us/step - loss: 0.6569 - acc: 0.6090 - val_loss: 0.6580 - val_acc: 0.6095\n",
            "Epoch 18/10000\n",
            "204079/204079 [==============================] - 2s 10us/step - loss: 0.6563 - acc: 0.6103 - val_loss: 0.6576 - val_acc: 0.6094\n",
            "Epoch 19/10000\n",
            "204079/204079 [==============================] - 2s 11us/step - loss: 0.6556 - acc: 0.6108 - val_loss: 0.6572 - val_acc: 0.6100\n",
            "Epoch 20/10000\n",
            "204079/204079 [==============================] - 2s 11us/step - loss: 0.6552 - acc: 0.6112 - val_loss: 0.6570 - val_acc: 0.6116\n",
            "Epoch 21/10000\n",
            "204079/204079 [==============================] - 2s 10us/step - loss: 0.6546 - acc: 0.6136 - val_loss: 0.6568 - val_acc: 0.6119\n",
            "Epoch 22/10000\n",
            "204079/204079 [==============================] - 2s 10us/step - loss: 0.6540 - acc: 0.6132 - val_loss: 0.6563 - val_acc: 0.6113\n",
            "Epoch 23/10000\n",
            "204079/204079 [==============================] - 2s 10us/step - loss: 0.6531 - acc: 0.6137 - val_loss: 0.6562 - val_acc: 0.6116\n",
            "Epoch 24/10000\n",
            "204079/204079 [==============================] - 2s 10us/step - loss: 0.6529 - acc: 0.6146 - val_loss: 0.6574 - val_acc: 0.6114\n",
            "Epoch 25/10000\n",
            "204079/204079 [==============================] - 2s 10us/step - loss: 0.6521 - acc: 0.6154 - val_loss: 0.6555 - val_acc: 0.6131\n",
            "Epoch 26/10000\n",
            "204079/204079 [==============================] - 2s 10us/step - loss: 0.6520 - acc: 0.6153 - val_loss: 0.6556 - val_acc: 0.6130\n",
            "Epoch 27/10000\n",
            "204079/204079 [==============================] - 2s 10us/step - loss: 0.6512 - acc: 0.6170 - val_loss: 0.6558 - val_acc: 0.6123\n",
            "Epoch 28/10000\n",
            "204079/204079 [==============================] - 2s 10us/step - loss: 0.6509 - acc: 0.6172 - val_loss: 0.6551 - val_acc: 0.6128\n",
            "Epoch 29/10000\n",
            "204079/204079 [==============================] - 2s 10us/step - loss: 0.6502 - acc: 0.6175 - val_loss: 0.6548 - val_acc: 0.6141\n",
            "Epoch 30/10000\n",
            "204079/204079 [==============================] - 2s 10us/step - loss: 0.6496 - acc: 0.6181 - val_loss: 0.6547 - val_acc: 0.6143\n",
            "Epoch 31/10000\n",
            "204079/204079 [==============================] - 2s 10us/step - loss: 0.6492 - acc: 0.6182 - val_loss: 0.6548 - val_acc: 0.6136\n",
            "Epoch 32/10000\n",
            "204079/204079 [==============================] - 2s 10us/step - loss: 0.6488 - acc: 0.6194 - val_loss: 0.6544 - val_acc: 0.6146\n",
            "Epoch 33/10000\n",
            "204079/204079 [==============================] - 2s 10us/step - loss: 0.6483 - acc: 0.6194 - val_loss: 0.6546 - val_acc: 0.6145\n",
            "Epoch 34/10000\n",
            "204079/204079 [==============================] - 2s 10us/step - loss: 0.6477 - acc: 0.6202 - val_loss: 0.6540 - val_acc: 0.6149\n",
            "Epoch 35/10000\n",
            "204079/204079 [==============================] - 2s 10us/step - loss: 0.6473 - acc: 0.6209 - val_loss: 0.6543 - val_acc: 0.6143\n",
            "Epoch 36/10000\n",
            "204079/204079 [==============================] - 2s 10us/step - loss: 0.6466 - acc: 0.6220 - val_loss: 0.6540 - val_acc: 0.6156\n",
            "Epoch 37/10000\n",
            "204079/204079 [==============================] - 2s 10us/step - loss: 0.6457 - acc: 0.6227 - val_loss: 0.6542 - val_acc: 0.6155\n",
            "Epoch 38/10000\n",
            "204079/204079 [==============================] - 2s 10us/step - loss: 0.6458 - acc: 0.6238 - val_loss: 0.6542 - val_acc: 0.6157\n",
            "Epoch 39/10000\n",
            "204079/204079 [==============================] - 2s 10us/step - loss: 0.6450 - acc: 0.6241 - val_loss: 0.6542 - val_acc: 0.6144\n",
            "Epoch 40/10000\n",
            "204079/204079 [==============================] - 2s 10us/step - loss: 0.6449 - acc: 0.6240 - val_loss: 0.6542 - val_acc: 0.6151\n",
            "Epoch 41/10000\n",
            "204079/204079 [==============================] - 2s 10us/step - loss: 0.6440 - acc: 0.6247 - val_loss: 0.6536 - val_acc: 0.6155\n",
            "Epoch 42/10000\n",
            "204079/204079 [==============================] - 2s 10us/step - loss: 0.6437 - acc: 0.6253 - val_loss: 0.6536 - val_acc: 0.6155\n",
            "Epoch 43/10000\n",
            "204079/204079 [==============================] - 2s 10us/step - loss: 0.6432 - acc: 0.6260 - val_loss: 0.6539 - val_acc: 0.6160\n",
            "Epoch 44/10000\n",
            "204079/204079 [==============================] - 2s 10us/step - loss: 0.6420 - acc: 0.6273 - val_loss: 0.6536 - val_acc: 0.6158\n",
            "Epoch 45/10000\n",
            "204079/204079 [==============================] - 2s 10us/step - loss: 0.6421 - acc: 0.6283 - val_loss: 0.6538 - val_acc: 0.6170\n",
            "Epoch 46/10000\n",
            "204079/204079 [==============================] - 2s 10us/step - loss: 0.6418 - acc: 0.6271 - val_loss: 0.6534 - val_acc: 0.6166\n",
            "Epoch 47/10000\n",
            "204079/204079 [==============================] - 2s 10us/step - loss: 0.6412 - acc: 0.6298 - val_loss: 0.6532 - val_acc: 0.6164\n",
            "Epoch 48/10000\n",
            "204079/204079 [==============================] - 2s 10us/step - loss: 0.6407 - acc: 0.6291 - val_loss: 0.6531 - val_acc: 0.6168\n",
            "Epoch 49/10000\n",
            "204079/204079 [==============================] - 2s 10us/step - loss: 0.6403 - acc: 0.6289 - val_loss: 0.6534 - val_acc: 0.6182\n",
            "Epoch 50/10000\n",
            "204079/204079 [==============================] - 2s 10us/step - loss: 0.6393 - acc: 0.6311 - val_loss: 0.6532 - val_acc: 0.6167\n",
            "Epoch 51/10000\n",
            "204079/204079 [==============================] - 2s 10us/step - loss: 0.6389 - acc: 0.6301 - val_loss: 0.6534 - val_acc: 0.6164\n",
            "Epoch 52/10000\n",
            "204079/204079 [==============================] - 2s 10us/step - loss: 0.6387 - acc: 0.6308 - val_loss: 0.6532 - val_acc: 0.6171\n",
            "Epoch 53/10000\n",
            "204079/204079 [==============================] - 2s 10us/step - loss: 0.6378 - acc: 0.6322 - val_loss: 0.6536 - val_acc: 0.6175\n",
            "WARNING:tensorflow:This model was compiled with a Keras optimizer (<tensorflow.python.keras.optimizers.Adam object at 0x7efe2f8ab400>) but is being saved in TensorFlow format with `save_weights`. The model's weights will be saved, but unlike with TensorFlow optimizers in the TensorFlow format the optimizer's state will not be saved.\n",
            "\n",
            "Consider using a TensorFlow optimizer from `tf.train`.\n",
            "\n",
            "-----------------Training MLP 15-----------------\n",
            "\n",
            "Train on 204079 samples, validate on 127550 samples\n",
            "Epoch 1/10000\n",
            "204079/204079 [==============================] - 2s 11us/step - loss: 0.6877 - acc: 0.5548 - val_loss: 0.6719 - val_acc: 0.5831\n",
            "Epoch 2/10000\n",
            "204079/204079 [==============================] - 2s 10us/step - loss: 0.6735 - acc: 0.5787 - val_loss: 0.6702 - val_acc: 0.5837\n",
            "Epoch 3/10000\n",
            "204079/204079 [==============================] - 2s 10us/step - loss: 0.6707 - acc: 0.5819 - val_loss: 0.6686 - val_acc: 0.5873\n",
            "Epoch 4/10000\n",
            "204079/204079 [==============================] - 2s 10us/step - loss: 0.6683 - acc: 0.5854 - val_loss: 0.6667 - val_acc: 0.5899\n",
            "Epoch 5/10000\n",
            "204079/204079 [==============================] - 2s 10us/step - loss: 0.6666 - acc: 0.5886 - val_loss: 0.6652 - val_acc: 0.5928\n",
            "Epoch 6/10000\n",
            "204079/204079 [==============================] - 2s 10us/step - loss: 0.6654 - acc: 0.5919 - val_loss: 0.6646 - val_acc: 0.5947\n",
            "Epoch 7/10000\n",
            "204079/204079 [==============================] - 2s 10us/step - loss: 0.6643 - acc: 0.5927 - val_loss: 0.6638 - val_acc: 0.5962\n",
            "Epoch 8/10000\n",
            "204079/204079 [==============================] - 2s 10us/step - loss: 0.6633 - acc: 0.5943 - val_loss: 0.6631 - val_acc: 0.5962\n",
            "Epoch 9/10000\n",
            "204079/204079 [==============================] - 2s 10us/step - loss: 0.6623 - acc: 0.5977 - val_loss: 0.6627 - val_acc: 0.5979\n",
            "Epoch 10/10000\n",
            "204079/204079 [==============================] - 2s 10us/step - loss: 0.6612 - acc: 0.5989 - val_loss: 0.6612 - val_acc: 0.6009\n",
            "Epoch 11/10000\n",
            "204079/204079 [==============================] - 2s 10us/step - loss: 0.6601 - acc: 0.6010 - val_loss: 0.6602 - val_acc: 0.6022\n",
            "Epoch 12/10000\n",
            "204079/204079 [==============================] - 2s 10us/step - loss: 0.6591 - acc: 0.6022 - val_loss: 0.6591 - val_acc: 0.6041\n",
            "Epoch 13/10000\n",
            "204079/204079 [==============================] - 2s 10us/step - loss: 0.6581 - acc: 0.6042 - val_loss: 0.6584 - val_acc: 0.6057\n",
            "Epoch 14/10000\n",
            "204079/204079 [==============================] - 2s 10us/step - loss: 0.6571 - acc: 0.6066 - val_loss: 0.6578 - val_acc: 0.6070\n",
            "Epoch 15/10000\n",
            "204079/204079 [==============================] - 2s 10us/step - loss: 0.6565 - acc: 0.6066 - val_loss: 0.6570 - val_acc: 0.6085\n",
            "Epoch 16/10000\n",
            "204079/204079 [==============================] - 2s 10us/step - loss: 0.6555 - acc: 0.6085 - val_loss: 0.6576 - val_acc: 0.6074\n",
            "Epoch 17/10000\n",
            "204079/204079 [==============================] - 2s 10us/step - loss: 0.6544 - acc: 0.6107 - val_loss: 0.6555 - val_acc: 0.6102\n",
            "Epoch 18/10000\n",
            "204079/204079 [==============================] - 2s 10us/step - loss: 0.6537 - acc: 0.6120 - val_loss: 0.6553 - val_acc: 0.6109\n",
            "Epoch 19/10000\n",
            "204079/204079 [==============================] - 2s 10us/step - loss: 0.6529 - acc: 0.6126 - val_loss: 0.6547 - val_acc: 0.6107\n",
            "Epoch 20/10000\n",
            "204079/204079 [==============================] - 2s 10us/step - loss: 0.6521 - acc: 0.6132 - val_loss: 0.6542 - val_acc: 0.6128\n",
            "Epoch 21/10000\n",
            "204079/204079 [==============================] - 2s 10us/step - loss: 0.6520 - acc: 0.6134 - val_loss: 0.6538 - val_acc: 0.6134\n",
            "Epoch 22/10000\n",
            "204079/204079 [==============================] - 2s 10us/step - loss: 0.6509 - acc: 0.6150 - val_loss: 0.6533 - val_acc: 0.6140\n",
            "Epoch 23/10000\n",
            "204079/204079 [==============================] - 2s 10us/step - loss: 0.6501 - acc: 0.6161 - val_loss: 0.6532 - val_acc: 0.6133\n",
            "Epoch 24/10000\n",
            "204079/204079 [==============================] - 2s 10us/step - loss: 0.6494 - acc: 0.6172 - val_loss: 0.6528 - val_acc: 0.6145\n",
            "Epoch 25/10000\n",
            "204079/204079 [==============================] - 2s 10us/step - loss: 0.6490 - acc: 0.6178 - val_loss: 0.6523 - val_acc: 0.6149\n",
            "Epoch 26/10000\n",
            "204079/204079 [==============================] - 2s 10us/step - loss: 0.6486 - acc: 0.6184 - val_loss: 0.6519 - val_acc: 0.6153\n",
            "Epoch 27/10000\n",
            "204079/204079 [==============================] - 2s 10us/step - loss: 0.6479 - acc: 0.6197 - val_loss: 0.6516 - val_acc: 0.6160\n",
            "Epoch 28/10000\n",
            "204079/204079 [==============================] - 2s 10us/step - loss: 0.6471 - acc: 0.6213 - val_loss: 0.6512 - val_acc: 0.6172\n",
            "Epoch 29/10000\n",
            "204079/204079 [==============================] - 2s 10us/step - loss: 0.6469 - acc: 0.6213 - val_loss: 0.6509 - val_acc: 0.6185\n",
            "Epoch 30/10000\n",
            "204079/204079 [==============================] - 2s 10us/step - loss: 0.6458 - acc: 0.6218 - val_loss: 0.6507 - val_acc: 0.6184\n",
            "Epoch 31/10000\n",
            "204079/204079 [==============================] - 2s 10us/step - loss: 0.6459 - acc: 0.6225 - val_loss: 0.6508 - val_acc: 0.6174\n",
            "Epoch 32/10000\n",
            "204079/204079 [==============================] - 2s 10us/step - loss: 0.6447 - acc: 0.6237 - val_loss: 0.6504 - val_acc: 0.6184\n",
            "Epoch 33/10000\n",
            "204079/204079 [==============================] - 2s 10us/step - loss: 0.6439 - acc: 0.6247 - val_loss: 0.6501 - val_acc: 0.6186\n",
            "Epoch 34/10000\n",
            "204079/204079 [==============================] - 2s 10us/step - loss: 0.6433 - acc: 0.6250 - val_loss: 0.6497 - val_acc: 0.6196\n",
            "Epoch 35/10000\n",
            "204079/204079 [==============================] - 2s 10us/step - loss: 0.6431 - acc: 0.6256 - val_loss: 0.6495 - val_acc: 0.6204\n",
            "Epoch 36/10000\n",
            "204079/204079 [==============================] - 2s 10us/step - loss: 0.6423 - acc: 0.6259 - val_loss: 0.6491 - val_acc: 0.6207\n",
            "Epoch 37/10000\n",
            "204079/204079 [==============================] - 2s 10us/step - loss: 0.6418 - acc: 0.6272 - val_loss: 0.6490 - val_acc: 0.6205\n",
            "Epoch 38/10000\n",
            "204079/204079 [==============================] - 2s 10us/step - loss: 0.6412 - acc: 0.6280 - val_loss: 0.6488 - val_acc: 0.6214\n",
            "Epoch 39/10000\n",
            "204079/204079 [==============================] - 2s 10us/step - loss: 0.6406 - acc: 0.6282 - val_loss: 0.6489 - val_acc: 0.6210\n",
            "Epoch 40/10000\n",
            "204079/204079 [==============================] - 2s 10us/step - loss: 0.6401 - acc: 0.6298 - val_loss: 0.6486 - val_acc: 0.6210\n",
            "Epoch 41/10000\n",
            "204079/204079 [==============================] - 2s 10us/step - loss: 0.6396 - acc: 0.6293 - val_loss: 0.6487 - val_acc: 0.6215\n",
            "Epoch 42/10000\n",
            "204079/204079 [==============================] - 2s 10us/step - loss: 0.6388 - acc: 0.6312 - val_loss: 0.6483 - val_acc: 0.6218\n",
            "Epoch 43/10000\n",
            "204079/204079 [==============================] - 2s 10us/step - loss: 0.6382 - acc: 0.6314 - val_loss: 0.6483 - val_acc: 0.6216\n",
            "Epoch 44/10000\n",
            "204079/204079 [==============================] - 2s 10us/step - loss: 0.6374 - acc: 0.6321 - val_loss: 0.6482 - val_acc: 0.6220\n",
            "Epoch 45/10000\n",
            "204079/204079 [==============================] - 2s 10us/step - loss: 0.6371 - acc: 0.6320 - val_loss: 0.6481 - val_acc: 0.6224\n",
            "Epoch 46/10000\n",
            "204079/204079 [==============================] - 2s 10us/step - loss: 0.6361 - acc: 0.6315 - val_loss: 0.6485 - val_acc: 0.6217\n",
            "Epoch 47/10000\n",
            "204079/204079 [==============================] - 2s 10us/step - loss: 0.6362 - acc: 0.6319 - val_loss: 0.6483 - val_acc: 0.6225\n",
            "Epoch 48/10000\n",
            "204079/204079 [==============================] - 2s 10us/step - loss: 0.6354 - acc: 0.6347 - val_loss: 0.6479 - val_acc: 0.6231\n",
            "Epoch 49/10000\n",
            "204079/204079 [==============================] - 2s 10us/step - loss: 0.6340 - acc: 0.6352 - val_loss: 0.6479 - val_acc: 0.6224\n",
            "Epoch 50/10000\n",
            "204079/204079 [==============================] - 2s 10us/step - loss: 0.6342 - acc: 0.6349 - val_loss: 0.6479 - val_acc: 0.6230\n",
            "Epoch 51/10000\n",
            "204079/204079 [==============================] - 2s 10us/step - loss: 0.6335 - acc: 0.6353 - val_loss: 0.6481 - val_acc: 0.6232\n",
            "Epoch 52/10000\n",
            "204079/204079 [==============================] - 2s 10us/step - loss: 0.6333 - acc: 0.6357 - val_loss: 0.6481 - val_acc: 0.6227\n",
            "Epoch 53/10000\n",
            "204079/204079 [==============================] - 2s 10us/step - loss: 0.6325 - acc: 0.6366 - val_loss: 0.6481 - val_acc: 0.6235\n",
            "WARNING:tensorflow:This model was compiled with a Keras optimizer (<tensorflow.python.keras.optimizers.Adam object at 0x7efe2c9c9400>) but is being saved in TensorFlow format with `save_weights`. The model's weights will be saved, but unlike with TensorFlow optimizers in the TensorFlow format the optimizer's state will not be saved.\n",
            "\n",
            "Consider using a TensorFlow optimizer from `tf.train`.\n",
            "\n",
            "-----------------Training MLP 16-----------------\n",
            "\n",
            "Train on 204079 samples, validate on 127550 samples\n",
            "Epoch 1/10000\n",
            "204079/204079 [==============================] - 2s 12us/step - loss: 0.6928 - acc: 0.5454 - val_loss: 0.6812 - val_acc: 0.5592\n",
            "Epoch 2/10000\n",
            "204079/204079 [==============================] - 2s 10us/step - loss: 0.6817 - acc: 0.5637 - val_loss: 0.6802 - val_acc: 0.5642\n",
            "Epoch 3/10000\n",
            "204079/204079 [==============================] - 2s 10us/step - loss: 0.6789 - acc: 0.5687 - val_loss: 0.6777 - val_acc: 0.5707\n",
            "Epoch 4/10000\n",
            "204079/204079 [==============================] - 2s 10us/step - loss: 0.6774 - acc: 0.5718 - val_loss: 0.6766 - val_acc: 0.5732\n",
            "Epoch 5/10000\n",
            "204079/204079 [==============================] - 2s 10us/step - loss: 0.6757 - acc: 0.5761 - val_loss: 0.6754 - val_acc: 0.5753\n",
            "Epoch 6/10000\n",
            "204079/204079 [==============================] - 2s 10us/step - loss: 0.6740 - acc: 0.5796 - val_loss: 0.6732 - val_acc: 0.5839\n",
            "Epoch 7/10000\n",
            "204079/204079 [==============================] - 2s 10us/step - loss: 0.6724 - acc: 0.5832 - val_loss: 0.6709 - val_acc: 0.5857\n",
            "Epoch 8/10000\n",
            "204079/204079 [==============================] - 2s 10us/step - loss: 0.6708 - acc: 0.5862 - val_loss: 0.6701 - val_acc: 0.5886\n",
            "Epoch 9/10000\n",
            "204079/204079 [==============================] - 2s 10us/step - loss: 0.6696 - acc: 0.5875 - val_loss: 0.6690 - val_acc: 0.5900\n",
            "Epoch 10/10000\n",
            "204079/204079 [==============================] - 2s 10us/step - loss: 0.6682 - acc: 0.5906 - val_loss: 0.6673 - val_acc: 0.5953\n",
            "Epoch 11/10000\n",
            "204079/204079 [==============================] - 2s 9us/step - loss: 0.6676 - acc: 0.5920 - val_loss: 0.6665 - val_acc: 0.5960\n",
            "Epoch 12/10000\n",
            "204079/204079 [==============================] - 2s 10us/step - loss: 0.6662 - acc: 0.5947 - val_loss: 0.6658 - val_acc: 0.5968\n",
            "Epoch 13/10000\n",
            "204079/204079 [==============================] - 2s 10us/step - loss: 0.6654 - acc: 0.5955 - val_loss: 0.6655 - val_acc: 0.5958\n",
            "Epoch 14/10000\n",
            "204079/204079 [==============================] - 2s 9us/step - loss: 0.6648 - acc: 0.5979 - val_loss: 0.6651 - val_acc: 0.5974\n",
            "Epoch 15/10000\n",
            "204079/204079 [==============================] - 2s 10us/step - loss: 0.6641 - acc: 0.5992 - val_loss: 0.6640 - val_acc: 0.5994\n",
            "Epoch 16/10000\n",
            "204079/204079 [==============================] - 2s 10us/step - loss: 0.6632 - acc: 0.5994 - val_loss: 0.6637 - val_acc: 0.6005\n",
            "Epoch 17/10000\n",
            "204079/204079 [==============================] - 2s 10us/step - loss: 0.6624 - acc: 0.6016 - val_loss: 0.6631 - val_acc: 0.6013\n",
            "Epoch 18/10000\n",
            "204079/204079 [==============================] - 2s 10us/step - loss: 0.6620 - acc: 0.6025 - val_loss: 0.6624 - val_acc: 0.6022\n",
            "Epoch 19/10000\n",
            "204079/204079 [==============================] - 2s 10us/step - loss: 0.6611 - acc: 0.6028 - val_loss: 0.6619 - val_acc: 0.6022\n",
            "Epoch 20/10000\n",
            "204079/204079 [==============================] - 2s 10us/step - loss: 0.6607 - acc: 0.6042 - val_loss: 0.6617 - val_acc: 0.6034\n",
            "Epoch 21/10000\n",
            "204079/204079 [==============================] - 2s 10us/step - loss: 0.6600 - acc: 0.6038 - val_loss: 0.6617 - val_acc: 0.6036\n",
            "Epoch 22/10000\n",
            "204079/204079 [==============================] - 2s 10us/step - loss: 0.6597 - acc: 0.6055 - val_loss: 0.6613 - val_acc: 0.6037\n",
            "Epoch 23/10000\n",
            "204079/204079 [==============================] - 2s 9us/step - loss: 0.6588 - acc: 0.6074 - val_loss: 0.6609 - val_acc: 0.6036\n",
            "Epoch 24/10000\n",
            "204079/204079 [==============================] - 2s 10us/step - loss: 0.6581 - acc: 0.6074 - val_loss: 0.6606 - val_acc: 0.6042\n",
            "Epoch 25/10000\n",
            "204079/204079 [==============================] - 2s 10us/step - loss: 0.6581 - acc: 0.6071 - val_loss: 0.6605 - val_acc: 0.6052\n",
            "Epoch 26/10000\n",
            "204079/204079 [==============================] - 2s 10us/step - loss: 0.6572 - acc: 0.6091 - val_loss: 0.6604 - val_acc: 0.6041\n",
            "Epoch 27/10000\n",
            "204079/204079 [==============================] - 2s 9us/step - loss: 0.6564 - acc: 0.6099 - val_loss: 0.6603 - val_acc: 0.6059\n",
            "Epoch 28/10000\n",
            "204079/204079 [==============================] - 2s 9us/step - loss: 0.6563 - acc: 0.6108 - val_loss: 0.6600 - val_acc: 0.6062\n",
            "Epoch 29/10000\n",
            "204079/204079 [==============================] - 2s 9us/step - loss: 0.6558 - acc: 0.6100 - val_loss: 0.6595 - val_acc: 0.6071\n",
            "Epoch 30/10000\n",
            "204079/204079 [==============================] - 2s 9us/step - loss: 0.6548 - acc: 0.6121 - val_loss: 0.6593 - val_acc: 0.6075\n",
            "Epoch 31/10000\n",
            "204079/204079 [==============================] - 2s 10us/step - loss: 0.6546 - acc: 0.6122 - val_loss: 0.6595 - val_acc: 0.6057\n",
            "Epoch 32/10000\n",
            "204079/204079 [==============================] - 2s 10us/step - loss: 0.6539 - acc: 0.6132 - val_loss: 0.6597 - val_acc: 0.6068\n",
            "Epoch 33/10000\n",
            "204079/204079 [==============================] - 2s 10us/step - loss: 0.6537 - acc: 0.6129 - val_loss: 0.6586 - val_acc: 0.6085\n",
            "Epoch 34/10000\n",
            "204079/204079 [==============================] - 2s 10us/step - loss: 0.6531 - acc: 0.6134 - val_loss: 0.6586 - val_acc: 0.6073\n",
            "Epoch 35/10000\n",
            "204079/204079 [==============================] - 2s 10us/step - loss: 0.6526 - acc: 0.6145 - val_loss: 0.6585 - val_acc: 0.6084\n",
            "Epoch 36/10000\n",
            "204079/204079 [==============================] - 2s 10us/step - loss: 0.6517 - acc: 0.6161 - val_loss: 0.6582 - val_acc: 0.6083\n",
            "Epoch 37/10000\n",
            "204079/204079 [==============================] - 2s 9us/step - loss: 0.6516 - acc: 0.6149 - val_loss: 0.6580 - val_acc: 0.6097\n",
            "Epoch 38/10000\n",
            "204079/204079 [==============================] - 2s 9us/step - loss: 0.6505 - acc: 0.6175 - val_loss: 0.6600 - val_acc: 0.6056\n",
            "Epoch 39/10000\n",
            "204079/204079 [==============================] - 2s 9us/step - loss: 0.6500 - acc: 0.6181 - val_loss: 0.6581 - val_acc: 0.6089\n",
            "Epoch 40/10000\n",
            "204079/204079 [==============================] - 2s 9us/step - loss: 0.6496 - acc: 0.6176 - val_loss: 0.6587 - val_acc: 0.6078\n",
            "Epoch 41/10000\n",
            "204079/204079 [==============================] - 2s 10us/step - loss: 0.6492 - acc: 0.6184 - val_loss: 0.6577 - val_acc: 0.6111\n",
            "Epoch 42/10000\n",
            "204079/204079 [==============================] - 2s 10us/step - loss: 0.6489 - acc: 0.6189 - val_loss: 0.6578 - val_acc: 0.6088\n",
            "Epoch 43/10000\n",
            "204079/204079 [==============================] - 2s 9us/step - loss: 0.6481 - acc: 0.6197 - val_loss: 0.6575 - val_acc: 0.6097\n",
            "Epoch 44/10000\n",
            "204079/204079 [==============================] - 2s 9us/step - loss: 0.6474 - acc: 0.6221 - val_loss: 0.6577 - val_acc: 0.6102\n",
            "Epoch 45/10000\n",
            "204079/204079 [==============================] - 2s 10us/step - loss: 0.6468 - acc: 0.6222 - val_loss: 0.6574 - val_acc: 0.6095\n",
            "Epoch 46/10000\n",
            "204079/204079 [==============================] - 2s 9us/step - loss: 0.6464 - acc: 0.6213 - val_loss: 0.6574 - val_acc: 0.6104\n",
            "Epoch 47/10000\n",
            "204079/204079 [==============================] - 2s 9us/step - loss: 0.6460 - acc: 0.6227 - val_loss: 0.6571 - val_acc: 0.6096\n",
            "Epoch 48/10000\n",
            "204079/204079 [==============================] - 2s 9us/step - loss: 0.6458 - acc: 0.6231 - val_loss: 0.6571 - val_acc: 0.6109\n",
            "Epoch 49/10000\n",
            "204079/204079 [==============================] - 2s 9us/step - loss: 0.6450 - acc: 0.6244 - val_loss: 0.6581 - val_acc: 0.6104\n",
            "Epoch 50/10000\n",
            "204079/204079 [==============================] - 2s 9us/step - loss: 0.6453 - acc: 0.6231 - val_loss: 0.6573 - val_acc: 0.6102\n",
            "Epoch 51/10000\n",
            "204079/204079 [==============================] - 2s 9us/step - loss: 0.6438 - acc: 0.6238 - val_loss: 0.6574 - val_acc: 0.6109\n",
            "Epoch 52/10000\n",
            "204079/204079 [==============================] - 2s 9us/step - loss: 0.6438 - acc: 0.6248 - val_loss: 0.6573 - val_acc: 0.6110\n",
            "Epoch 53/10000\n",
            "204079/204079 [==============================] - 2s 9us/step - loss: 0.6432 - acc: 0.6249 - val_loss: 0.6573 - val_acc: 0.6111\n",
            "WARNING:tensorflow:This model was compiled with a Keras optimizer (<tensorflow.python.keras.optimizers.Adam object at 0x7efe3e22cda0>) but is being saved in TensorFlow format with `save_weights`. The model's weights will be saved, but unlike with TensorFlow optimizers in the TensorFlow format the optimizer's state will not be saved.\n",
            "\n",
            "Consider using a TensorFlow optimizer from `tf.train`.\n",
            "\n",
            "-----------------Training MLP 17-----------------\n",
            "\n",
            "Train on 204079 samples, validate on 127550 samples\n",
            "Epoch 1/10000\n",
            "204079/204079 [==============================] - 2s 12us/step - loss: 0.6812 - acc: 0.5721 - val_loss: 0.6652 - val_acc: 0.5991\n",
            "Epoch 2/10000\n",
            "204079/204079 [==============================] - 2s 10us/step - loss: 0.6676 - acc: 0.5945 - val_loss: 0.6632 - val_acc: 0.6027\n",
            "Epoch 3/10000\n",
            "204079/204079 [==============================] - 2s 10us/step - loss: 0.6634 - acc: 0.6000 - val_loss: 0.6597 - val_acc: 0.6079\n",
            "Epoch 4/10000\n",
            "204079/204079 [==============================] - 2s 10us/step - loss: 0.6601 - acc: 0.6050 - val_loss: 0.6562 - val_acc: 0.6105\n",
            "Epoch 5/10000\n",
            "204079/204079 [==============================] - 2s 10us/step - loss: 0.6571 - acc: 0.6096 - val_loss: 0.6550 - val_acc: 0.6100\n",
            "Epoch 6/10000\n",
            "204079/204079 [==============================] - 2s 10us/step - loss: 0.6557 - acc: 0.6107 - val_loss: 0.6535 - val_acc: 0.6155\n",
            "Epoch 7/10000\n",
            "204079/204079 [==============================] - 2s 10us/step - loss: 0.6547 - acc: 0.6124 - val_loss: 0.6524 - val_acc: 0.6169\n",
            "Epoch 8/10000\n",
            "204079/204079 [==============================] - 2s 10us/step - loss: 0.6537 - acc: 0.6141 - val_loss: 0.6517 - val_acc: 0.6166\n",
            "Epoch 9/10000\n",
            "204079/204079 [==============================] - 2s 11us/step - loss: 0.6525 - acc: 0.6150 - val_loss: 0.6512 - val_acc: 0.6181\n",
            "Epoch 10/10000\n",
            "204079/204079 [==============================] - 2s 10us/step - loss: 0.6518 - acc: 0.6167 - val_loss: 0.6508 - val_acc: 0.6186\n",
            "Epoch 11/10000\n",
            "204079/204079 [==============================] - 2s 10us/step - loss: 0.6508 - acc: 0.6181 - val_loss: 0.6495 - val_acc: 0.6193\n",
            "Epoch 12/10000\n",
            "204079/204079 [==============================] - 2s 10us/step - loss: 0.6499 - acc: 0.6182 - val_loss: 0.6494 - val_acc: 0.6201\n",
            "Epoch 13/10000\n",
            "204079/204079 [==============================] - 2s 10us/step - loss: 0.6491 - acc: 0.6192 - val_loss: 0.6487 - val_acc: 0.6212\n",
            "Epoch 14/10000\n",
            "204079/204079 [==============================] - 2s 10us/step - loss: 0.6480 - acc: 0.6199 - val_loss: 0.6478 - val_acc: 0.6220\n",
            "Epoch 15/10000\n",
            "204079/204079 [==============================] - 2s 10us/step - loss: 0.6474 - acc: 0.6212 - val_loss: 0.6477 - val_acc: 0.6218\n",
            "Epoch 16/10000\n",
            "204079/204079 [==============================] - 2s 10us/step - loss: 0.6466 - acc: 0.6236 - val_loss: 0.6472 - val_acc: 0.6224\n",
            "Epoch 17/10000\n",
            "204079/204079 [==============================] - 2s 10us/step - loss: 0.6461 - acc: 0.6233 - val_loss: 0.6467 - val_acc: 0.6230\n",
            "Epoch 18/10000\n",
            "204079/204079 [==============================] - 2s 10us/step - loss: 0.6453 - acc: 0.6244 - val_loss: 0.6464 - val_acc: 0.6235\n",
            "Epoch 19/10000\n",
            "204079/204079 [==============================] - 2s 10us/step - loss: 0.6448 - acc: 0.6251 - val_loss: 0.6462 - val_acc: 0.6240\n",
            "Epoch 20/10000\n",
            "204079/204079 [==============================] - 2s 10us/step - loss: 0.6443 - acc: 0.6254 - val_loss: 0.6459 - val_acc: 0.6248\n",
            "Epoch 21/10000\n",
            "204079/204079 [==============================] - 2s 10us/step - loss: 0.6440 - acc: 0.6253 - val_loss: 0.6456 - val_acc: 0.6245\n",
            "Epoch 22/10000\n",
            "204079/204079 [==============================] - 2s 10us/step - loss: 0.6432 - acc: 0.6257 - val_loss: 0.6454 - val_acc: 0.6246\n",
            "Epoch 23/10000\n",
            "204079/204079 [==============================] - 2s 10us/step - loss: 0.6430 - acc: 0.6265 - val_loss: 0.6455 - val_acc: 0.6255\n",
            "Epoch 24/10000\n",
            "204079/204079 [==============================] - 2s 10us/step - loss: 0.6421 - acc: 0.6278 - val_loss: 0.6450 - val_acc: 0.6251\n",
            "Epoch 25/10000\n",
            "204079/204079 [==============================] - 2s 10us/step - loss: 0.6421 - acc: 0.6273 - val_loss: 0.6449 - val_acc: 0.6260\n",
            "Epoch 26/10000\n",
            "204079/204079 [==============================] - 2s 10us/step - loss: 0.6413 - acc: 0.6286 - val_loss: 0.6447 - val_acc: 0.6264\n",
            "Epoch 27/10000\n",
            "204079/204079 [==============================] - 2s 10us/step - loss: 0.6415 - acc: 0.6282 - val_loss: 0.6444 - val_acc: 0.6266\n",
            "Epoch 28/10000\n",
            "204079/204079 [==============================] - 2s 10us/step - loss: 0.6406 - acc: 0.6283 - val_loss: 0.6446 - val_acc: 0.6265\n",
            "Epoch 29/10000\n",
            "204079/204079 [==============================] - 2s 10us/step - loss: 0.6399 - acc: 0.6292 - val_loss: 0.6448 - val_acc: 0.6268\n",
            "Epoch 30/10000\n",
            "204079/204079 [==============================] - 2s 10us/step - loss: 0.6396 - acc: 0.6300 - val_loss: 0.6446 - val_acc: 0.6271\n",
            "Epoch 31/10000\n",
            "204079/204079 [==============================] - 2s 10us/step - loss: 0.6395 - acc: 0.6301 - val_loss: 0.6443 - val_acc: 0.6269\n",
            "Epoch 32/10000\n",
            "204079/204079 [==============================] - 2s 10us/step - loss: 0.6392 - acc: 0.6304 - val_loss: 0.6447 - val_acc: 0.6273\n",
            "Epoch 33/10000\n",
            "204079/204079 [==============================] - 2s 10us/step - loss: 0.6383 - acc: 0.6321 - val_loss: 0.6445 - val_acc: 0.6278\n",
            "Epoch 34/10000\n",
            "204079/204079 [==============================] - 2s 10us/step - loss: 0.6381 - acc: 0.6309 - val_loss: 0.6445 - val_acc: 0.6275\n",
            "Epoch 35/10000\n",
            "204079/204079 [==============================] - 2s 10us/step - loss: 0.6377 - acc: 0.6311 - val_loss: 0.6440 - val_acc: 0.6276\n",
            "Epoch 36/10000\n",
            "204079/204079 [==============================] - 2s 10us/step - loss: 0.6373 - acc: 0.6332 - val_loss: 0.6440 - val_acc: 0.6286\n",
            "Epoch 37/10000\n",
            "204079/204079 [==============================] - 2s 10us/step - loss: 0.6366 - acc: 0.6324 - val_loss: 0.6445 - val_acc: 0.6273\n",
            "Epoch 38/10000\n",
            "204079/204079 [==============================] - 2s 10us/step - loss: 0.6362 - acc: 0.6333 - val_loss: 0.6440 - val_acc: 0.6285\n",
            "Epoch 39/10000\n",
            "204079/204079 [==============================] - 2s 10us/step - loss: 0.6358 - acc: 0.6338 - val_loss: 0.6440 - val_acc: 0.6280\n",
            "Epoch 40/10000\n",
            "204079/204079 [==============================] - 2s 10us/step - loss: 0.6356 - acc: 0.6337 - val_loss: 0.6439 - val_acc: 0.6284\n",
            "Epoch 41/10000\n",
            "204079/204079 [==============================] - 2s 10us/step - loss: 0.6348 - acc: 0.6347 - val_loss: 0.6438 - val_acc: 0.6281\n",
            "Epoch 42/10000\n",
            "204079/204079 [==============================] - 2s 10us/step - loss: 0.6347 - acc: 0.6341 - val_loss: 0.6435 - val_acc: 0.6278\n",
            "Epoch 43/10000\n",
            "204079/204079 [==============================] - 2s 10us/step - loss: 0.6339 - acc: 0.6354 - val_loss: 0.6441 - val_acc: 0.6289\n",
            "Epoch 44/10000\n",
            "204079/204079 [==============================] - 2s 10us/step - loss: 0.6336 - acc: 0.6355 - val_loss: 0.6442 - val_acc: 0.6287\n",
            "Epoch 45/10000\n",
            "204079/204079 [==============================] - 2s 10us/step - loss: 0.6328 - acc: 0.6361 - val_loss: 0.6443 - val_acc: 0.6275\n",
            "Epoch 46/10000\n",
            "204079/204079 [==============================] - 2s 10us/step - loss: 0.6332 - acc: 0.6359 - val_loss: 0.6439 - val_acc: 0.6283\n",
            "Epoch 47/10000\n",
            "204079/204079 [==============================] - 2s 10us/step - loss: 0.6322 - acc: 0.6368 - val_loss: 0.6446 - val_acc: 0.6284\n",
            "WARNING:tensorflow:This model was compiled with a Keras optimizer (<tensorflow.python.keras.optimizers.Adam object at 0x7efe26ce32e8>) but is being saved in TensorFlow format with `save_weights`. The model's weights will be saved, but unlike with TensorFlow optimizers in the TensorFlow format the optimizer's state will not be saved.\n",
            "\n",
            "Consider using a TensorFlow optimizer from `tf.train`.\n",
            "\n",
            "-----------------Training MLP 18-----------------\n",
            "\n",
            "Train on 204079 samples, validate on 127550 samples\n",
            "Epoch 1/10000\n",
            "204079/204079 [==============================] - 2s 12us/step - loss: 0.6850 - acc: 0.5649 - val_loss: 0.6679 - val_acc: 0.5975\n",
            "Epoch 2/10000\n",
            "204079/204079 [==============================] - 2s 10us/step - loss: 0.6702 - acc: 0.5897 - val_loss: 0.6646 - val_acc: 0.6001\n",
            "Epoch 3/10000\n",
            "204079/204079 [==============================] - 2s 10us/step - loss: 0.6652 - acc: 0.5971 - val_loss: 0.6610 - val_acc: 0.6049\n",
            "Epoch 4/10000\n",
            "204079/204079 [==============================] - 2s 10us/step - loss: 0.6615 - acc: 0.6032 - val_loss: 0.6578 - val_acc: 0.6096\n",
            "Epoch 5/10000\n",
            "204079/204079 [==============================] - 2s 10us/step - loss: 0.6590 - acc: 0.6072 - val_loss: 0.6564 - val_acc: 0.6115\n",
            "Epoch 6/10000\n",
            "204079/204079 [==============================] - 2s 10us/step - loss: 0.6575 - acc: 0.6094 - val_loss: 0.6555 - val_acc: 0.6129\n",
            "Epoch 7/10000\n",
            "204079/204079 [==============================] - 2s 10us/step - loss: 0.6563 - acc: 0.6109 - val_loss: 0.6549 - val_acc: 0.6128\n",
            "Epoch 8/10000\n",
            "204079/204079 [==============================] - 2s 10us/step - loss: 0.6553 - acc: 0.6128 - val_loss: 0.6543 - val_acc: 0.6145\n",
            "Epoch 9/10000\n",
            "204079/204079 [==============================] - 2s 10us/step - loss: 0.6547 - acc: 0.6144 - val_loss: 0.6529 - val_acc: 0.6163\n",
            "Epoch 10/10000\n",
            "204079/204079 [==============================] - 2s 10us/step - loss: 0.6541 - acc: 0.6148 - val_loss: 0.6527 - val_acc: 0.6170\n",
            "Epoch 11/10000\n",
            "204079/204079 [==============================] - 2s 10us/step - loss: 0.6530 - acc: 0.6162 - val_loss: 0.6519 - val_acc: 0.6189\n",
            "Epoch 12/10000\n",
            "204079/204079 [==============================] - 2s 10us/step - loss: 0.6525 - acc: 0.6163 - val_loss: 0.6519 - val_acc: 0.6184\n",
            "Epoch 13/10000\n",
            "204079/204079 [==============================] - 2s 10us/step - loss: 0.6518 - acc: 0.6166 - val_loss: 0.6511 - val_acc: 0.6200\n",
            "Epoch 14/10000\n",
            "204079/204079 [==============================] - 2s 10us/step - loss: 0.6514 - acc: 0.6180 - val_loss: 0.6510 - val_acc: 0.6200\n",
            "Epoch 15/10000\n",
            "204079/204079 [==============================] - 2s 10us/step - loss: 0.6508 - acc: 0.6185 - val_loss: 0.6508 - val_acc: 0.6202\n",
            "Epoch 16/10000\n",
            "204079/204079 [==============================] - 2s 10us/step - loss: 0.6500 - acc: 0.6198 - val_loss: 0.6503 - val_acc: 0.6213\n",
            "Epoch 17/10000\n",
            "204079/204079 [==============================] - 2s 10us/step - loss: 0.6494 - acc: 0.6203 - val_loss: 0.6499 - val_acc: 0.6219\n",
            "Epoch 18/10000\n",
            "204079/204079 [==============================] - 2s 10us/step - loss: 0.6491 - acc: 0.6203 - val_loss: 0.6502 - val_acc: 0.6204\n",
            "Epoch 19/10000\n",
            "204079/204079 [==============================] - 2s 10us/step - loss: 0.6483 - acc: 0.6214 - val_loss: 0.6499 - val_acc: 0.6211\n",
            "Epoch 20/10000\n",
            "204079/204079 [==============================] - 2s 10us/step - loss: 0.6482 - acc: 0.6209 - val_loss: 0.6494 - val_acc: 0.6219\n",
            "Epoch 21/10000\n",
            "204079/204079 [==============================] - 2s 10us/step - loss: 0.6475 - acc: 0.6232 - val_loss: 0.6495 - val_acc: 0.6215\n",
            "Epoch 22/10000\n",
            "204079/204079 [==============================] - 2s 10us/step - loss: 0.6469 - acc: 0.6238 - val_loss: 0.6491 - val_acc: 0.6225\n",
            "Epoch 23/10000\n",
            "204079/204079 [==============================] - 2s 10us/step - loss: 0.6464 - acc: 0.6227 - val_loss: 0.6488 - val_acc: 0.6224\n",
            "Epoch 24/10000\n",
            "204079/204079 [==============================] - 2s 10us/step - loss: 0.6460 - acc: 0.6232 - val_loss: 0.6485 - val_acc: 0.6230\n",
            "Epoch 25/10000\n",
            "204079/204079 [==============================] - 2s 10us/step - loss: 0.6453 - acc: 0.6248 - val_loss: 0.6484 - val_acc: 0.6229\n",
            "Epoch 26/10000\n",
            "204079/204079 [==============================] - 2s 10us/step - loss: 0.6449 - acc: 0.6258 - val_loss: 0.6484 - val_acc: 0.6238\n",
            "Epoch 27/10000\n",
            "204079/204079 [==============================] - 2s 10us/step - loss: 0.6447 - acc: 0.6248 - val_loss: 0.6482 - val_acc: 0.6230\n",
            "Epoch 28/10000\n",
            "204079/204079 [==============================] - 2s 10us/step - loss: 0.6441 - acc: 0.6254 - val_loss: 0.6480 - val_acc: 0.6238\n",
            "Epoch 29/10000\n",
            "204079/204079 [==============================] - 2s 10us/step - loss: 0.6436 - acc: 0.6248 - val_loss: 0.6485 - val_acc: 0.6238\n",
            "Epoch 30/10000\n",
            "204079/204079 [==============================] - 2s 10us/step - loss: 0.6430 - acc: 0.6270 - val_loss: 0.6480 - val_acc: 0.6235\n",
            "Epoch 31/10000\n",
            "204079/204079 [==============================] - 2s 10us/step - loss: 0.6428 - acc: 0.6280 - val_loss: 0.6477 - val_acc: 0.6241\n",
            "Epoch 32/10000\n",
            "204079/204079 [==============================] - 2s 10us/step - loss: 0.6422 - acc: 0.6283 - val_loss: 0.6475 - val_acc: 0.6241\n",
            "Epoch 33/10000\n",
            "204079/204079 [==============================] - 2s 10us/step - loss: 0.6415 - acc: 0.6288 - val_loss: 0.6483 - val_acc: 0.6237\n",
            "Epoch 34/10000\n",
            "204079/204079 [==============================] - 2s 10us/step - loss: 0.6408 - acc: 0.6290 - val_loss: 0.6472 - val_acc: 0.6246\n",
            "Epoch 35/10000\n",
            "204079/204079 [==============================] - 2s 10us/step - loss: 0.6407 - acc: 0.6292 - val_loss: 0.6469 - val_acc: 0.6245\n",
            "Epoch 36/10000\n",
            "204079/204079 [==============================] - 2s 10us/step - loss: 0.6401 - acc: 0.6297 - val_loss: 0.6472 - val_acc: 0.6238\n",
            "Epoch 37/10000\n",
            "204079/204079 [==============================] - 2s 10us/step - loss: 0.6394 - acc: 0.6310 - val_loss: 0.6467 - val_acc: 0.6250\n",
            "Epoch 38/10000\n",
            "204079/204079 [==============================] - 2s 10us/step - loss: 0.6391 - acc: 0.6305 - val_loss: 0.6464 - val_acc: 0.6262\n",
            "Epoch 39/10000\n",
            "204079/204079 [==============================] - 2s 10us/step - loss: 0.6389 - acc: 0.6306 - val_loss: 0.6470 - val_acc: 0.6242\n",
            "Epoch 40/10000\n",
            "204079/204079 [==============================] - 2s 10us/step - loss: 0.6385 - acc: 0.6319 - val_loss: 0.6465 - val_acc: 0.6257\n",
            "Epoch 41/10000\n",
            "204079/204079 [==============================] - 2s 10us/step - loss: 0.6376 - acc: 0.6315 - val_loss: 0.6464 - val_acc: 0.6264\n",
            "Epoch 42/10000\n",
            "204079/204079 [==============================] - 2s 10us/step - loss: 0.6373 - acc: 0.6317 - val_loss: 0.6464 - val_acc: 0.6265\n",
            "Epoch 43/10000\n",
            "204079/204079 [==============================] - 2s 10us/step - loss: 0.6365 - acc: 0.6329 - val_loss: 0.6463 - val_acc: 0.6255\n",
            "Epoch 44/10000\n",
            "204079/204079 [==============================] - 2s 10us/step - loss: 0.6363 - acc: 0.6332 - val_loss: 0.6463 - val_acc: 0.6260\n",
            "Epoch 45/10000\n",
            "204079/204079 [==============================] - 2s 10us/step - loss: 0.6359 - acc: 0.6332 - val_loss: 0.6467 - val_acc: 0.6253\n",
            "Epoch 46/10000\n",
            "204079/204079 [==============================] - 2s 10us/step - loss: 0.6350 - acc: 0.6343 - val_loss: 0.6471 - val_acc: 0.6257\n",
            "Epoch 47/10000\n",
            "204079/204079 [==============================] - 2s 10us/step - loss: 0.6342 - acc: 0.6348 - val_loss: 0.6462 - val_acc: 0.6266\n",
            "Epoch 48/10000\n",
            "204079/204079 [==============================] - 2s 10us/step - loss: 0.6343 - acc: 0.6353 - val_loss: 0.6463 - val_acc: 0.6260\n",
            "Epoch 49/10000\n",
            "204079/204079 [==============================] - 2s 10us/step - loss: 0.6336 - acc: 0.6360 - val_loss: 0.6463 - val_acc: 0.6265\n",
            "Epoch 50/10000\n",
            "204079/204079 [==============================] - 2s 10us/step - loss: 0.6331 - acc: 0.6373 - val_loss: 0.6464 - val_acc: 0.6263\n",
            "Epoch 51/10000\n",
            "204079/204079 [==============================] - 2s 10us/step - loss: 0.6325 - acc: 0.6369 - val_loss: 0.6459 - val_acc: 0.6267\n",
            "Epoch 52/10000\n",
            "204079/204079 [==============================] - 2s 10us/step - loss: 0.6320 - acc: 0.6372 - val_loss: 0.6463 - val_acc: 0.6253\n",
            "Epoch 53/10000\n",
            "204079/204079 [==============================] - 2s 10us/step - loss: 0.6315 - acc: 0.6379 - val_loss: 0.6468 - val_acc: 0.6276\n",
            "Epoch 54/10000\n",
            "204079/204079 [==============================] - 2s 10us/step - loss: 0.6312 - acc: 0.6388 - val_loss: 0.6465 - val_acc: 0.6261\n",
            "Epoch 55/10000\n",
            "204079/204079 [==============================] - 2s 10us/step - loss: 0.6308 - acc: 0.6385 - val_loss: 0.6460 - val_acc: 0.6264\n",
            "Epoch 56/10000\n",
            "204079/204079 [==============================] - 2s 10us/step - loss: 0.6296 - acc: 0.6406 - val_loss: 0.6460 - val_acc: 0.6264\n",
            "WARNING:tensorflow:This model was compiled with a Keras optimizer (<tensorflow.python.keras.optimizers.Adam object at 0x7efe23e5af28>) but is being saved in TensorFlow format with `save_weights`. The model's weights will be saved, but unlike with TensorFlow optimizers in the TensorFlow format the optimizer's state will not be saved.\n",
            "\n",
            "Consider using a TensorFlow optimizer from `tf.train`.\n",
            "\n",
            "-----------------Training MLP 19-----------------\n",
            "\n",
            "Train on 204079 samples, validate on 127550 samples\n",
            "Epoch 1/10000\n",
            "204079/204079 [==============================] - 2s 12us/step - loss: 0.6921 - acc: 0.5434 - val_loss: 0.6784 - val_acc: 0.5693\n",
            "Epoch 2/10000\n",
            "204079/204079 [==============================] - 2s 10us/step - loss: 0.6810 - acc: 0.5608 - val_loss: 0.6778 - val_acc: 0.5691\n",
            "Epoch 3/10000\n",
            "204079/204079 [==============================] - 2s 10us/step - loss: 0.6790 - acc: 0.5654 - val_loss: 0.6773 - val_acc: 0.5694\n",
            "Epoch 4/10000\n",
            "204079/204079 [==============================] - 2s 10us/step - loss: 0.6778 - acc: 0.5677 - val_loss: 0.6763 - val_acc: 0.5702\n",
            "Epoch 5/10000\n",
            "204079/204079 [==============================] - 2s 10us/step - loss: 0.6772 - acc: 0.5683 - val_loss: 0.6760 - val_acc: 0.5717\n",
            "Epoch 6/10000\n",
            "204079/204079 [==============================] - 2s 10us/step - loss: 0.6766 - acc: 0.5686 - val_loss: 0.6753 - val_acc: 0.5722\n",
            "Epoch 7/10000\n",
            "204079/204079 [==============================] - 2s 10us/step - loss: 0.6758 - acc: 0.5706 - val_loss: 0.6745 - val_acc: 0.5750\n",
            "Epoch 8/10000\n",
            "204079/204079 [==============================] - 2s 10us/step - loss: 0.6745 - acc: 0.5747 - val_loss: 0.6727 - val_acc: 0.5799\n",
            "Epoch 9/10000\n",
            "204079/204079 [==============================] - 2s 10us/step - loss: 0.6724 - acc: 0.5792 - val_loss: 0.6711 - val_acc: 0.5841\n",
            "Epoch 10/10000\n",
            "204079/204079 [==============================] - 2s 10us/step - loss: 0.6708 - acc: 0.5839 - val_loss: 0.6685 - val_acc: 0.5922\n",
            "Epoch 11/10000\n",
            "204079/204079 [==============================] - 2s 10us/step - loss: 0.6685 - acc: 0.5888 - val_loss: 0.6659 - val_acc: 0.5962\n",
            "Epoch 12/10000\n",
            "204079/204079 [==============================] - 2s 10us/step - loss: 0.6673 - acc: 0.5922 - val_loss: 0.6651 - val_acc: 0.6000\n",
            "Epoch 13/10000\n",
            "204079/204079 [==============================] - 2s 10us/step - loss: 0.6657 - acc: 0.5959 - val_loss: 0.6636 - val_acc: 0.5994\n",
            "Epoch 14/10000\n",
            "204079/204079 [==============================] - 2s 10us/step - loss: 0.6647 - acc: 0.5958 - val_loss: 0.6624 - val_acc: 0.6026\n",
            "Epoch 15/10000\n",
            "204079/204079 [==============================] - 2s 10us/step - loss: 0.6630 - acc: 0.5994 - val_loss: 0.6612 - val_acc: 0.6032\n",
            "Epoch 16/10000\n",
            "204079/204079 [==============================] - 2s 10us/step - loss: 0.6623 - acc: 0.6013 - val_loss: 0.6608 - val_acc: 0.6052\n",
            "Epoch 17/10000\n",
            "204079/204079 [==============================] - 2s 10us/step - loss: 0.6616 - acc: 0.6011 - val_loss: 0.6604 - val_acc: 0.6045\n",
            "Epoch 18/10000\n",
            "204079/204079 [==============================] - 2s 10us/step - loss: 0.6607 - acc: 0.6034 - val_loss: 0.6596 - val_acc: 0.6056\n",
            "Epoch 19/10000\n",
            "204079/204079 [==============================] - 2s 10us/step - loss: 0.6598 - acc: 0.6034 - val_loss: 0.6586 - val_acc: 0.6076\n",
            "Epoch 20/10000\n",
            "204079/204079 [==============================] - 2s 10us/step - loss: 0.6587 - acc: 0.6062 - val_loss: 0.6581 - val_acc: 0.6082\n",
            "Epoch 21/10000\n",
            "204079/204079 [==============================] - 2s 10us/step - loss: 0.6583 - acc: 0.6079 - val_loss: 0.6580 - val_acc: 0.6091\n",
            "Epoch 22/10000\n",
            "204079/204079 [==============================] - 2s 10us/step - loss: 0.6575 - acc: 0.6083 - val_loss: 0.6572 - val_acc: 0.6104\n",
            "Epoch 23/10000\n",
            "204079/204079 [==============================] - 2s 10us/step - loss: 0.6566 - acc: 0.6091 - val_loss: 0.6564 - val_acc: 0.6108\n",
            "Epoch 24/10000\n",
            "204079/204079 [==============================] - 2s 10us/step - loss: 0.6557 - acc: 0.6100 - val_loss: 0.6568 - val_acc: 0.6111\n",
            "Epoch 25/10000\n",
            "204079/204079 [==============================] - 2s 10us/step - loss: 0.6553 - acc: 0.6110 - val_loss: 0.6562 - val_acc: 0.6111\n",
            "Epoch 26/10000\n",
            "204079/204079 [==============================] - 2s 10us/step - loss: 0.6542 - acc: 0.6123 - val_loss: 0.6559 - val_acc: 0.6118\n",
            "Epoch 27/10000\n",
            "204079/204079 [==============================] - 2s 10us/step - loss: 0.6535 - acc: 0.6146 - val_loss: 0.6552 - val_acc: 0.6135\n",
            "Epoch 28/10000\n",
            "204079/204079 [==============================] - 2s 10us/step - loss: 0.6527 - acc: 0.6142 - val_loss: 0.6549 - val_acc: 0.6131\n",
            "Epoch 29/10000\n",
            "204079/204079 [==============================] - 2s 10us/step - loss: 0.6525 - acc: 0.6156 - val_loss: 0.6542 - val_acc: 0.6137\n",
            "Epoch 30/10000\n",
            "204079/204079 [==============================] - 2s 10us/step - loss: 0.6512 - acc: 0.6165 - val_loss: 0.6547 - val_acc: 0.6126\n",
            "Epoch 31/10000\n",
            "204079/204079 [==============================] - 2s 10us/step - loss: 0.6507 - acc: 0.6165 - val_loss: 0.6542 - val_acc: 0.6146\n",
            "Epoch 32/10000\n",
            "204079/204079 [==============================] - 2s 10us/step - loss: 0.6500 - acc: 0.6183 - val_loss: 0.6539 - val_acc: 0.6146\n",
            "Epoch 33/10000\n",
            "204079/204079 [==============================] - 2s 10us/step - loss: 0.6499 - acc: 0.6177 - val_loss: 0.6537 - val_acc: 0.6150\n",
            "Epoch 34/10000\n",
            "204079/204079 [==============================] - 2s 10us/step - loss: 0.6487 - acc: 0.6197 - val_loss: 0.6536 - val_acc: 0.6150\n",
            "Epoch 35/10000\n",
            "204079/204079 [==============================] - 2s 10us/step - loss: 0.6480 - acc: 0.6202 - val_loss: 0.6536 - val_acc: 0.6153\n",
            "Epoch 36/10000\n",
            "204079/204079 [==============================] - 2s 10us/step - loss: 0.6479 - acc: 0.6215 - val_loss: 0.6538 - val_acc: 0.6164\n",
            "Epoch 37/10000\n",
            "204079/204079 [==============================] - 2s 10us/step - loss: 0.6472 - acc: 0.6217 - val_loss: 0.6529 - val_acc: 0.6152\n",
            "Epoch 38/10000\n",
            "204079/204079 [==============================] - 2s 10us/step - loss: 0.6463 - acc: 0.6221 - val_loss: 0.6525 - val_acc: 0.6166\n",
            "Epoch 39/10000\n",
            "204079/204079 [==============================] - 2s 10us/step - loss: 0.6456 - acc: 0.6230 - val_loss: 0.6529 - val_acc: 0.6173\n",
            "Epoch 40/10000\n",
            "204079/204079 [==============================] - 2s 10us/step - loss: 0.6456 - acc: 0.6249 - val_loss: 0.6526 - val_acc: 0.6164\n",
            "Epoch 41/10000\n",
            "204079/204079 [==============================] - 2s 10us/step - loss: 0.6449 - acc: 0.6247 - val_loss: 0.6524 - val_acc: 0.6173\n",
            "Epoch 42/10000\n",
            "204079/204079 [==============================] - 2s 10us/step - loss: 0.6439 - acc: 0.6259 - val_loss: 0.6523 - val_acc: 0.6179\n",
            "Epoch 43/10000\n",
            "204079/204079 [==============================] - 2s 10us/step - loss: 0.6435 - acc: 0.6262 - val_loss: 0.6525 - val_acc: 0.6169\n",
            "Epoch 44/10000\n",
            "204079/204079 [==============================] - 2s 10us/step - loss: 0.6427 - acc: 0.6267 - val_loss: 0.6519 - val_acc: 0.6188\n",
            "Epoch 45/10000\n",
            "204079/204079 [==============================] - 2s 10us/step - loss: 0.6424 - acc: 0.6278 - val_loss: 0.6517 - val_acc: 0.6180\n",
            "Epoch 46/10000\n",
            "204079/204079 [==============================] - 2s 10us/step - loss: 0.6415 - acc: 0.6277 - val_loss: 0.6521 - val_acc: 0.6179\n",
            "Epoch 47/10000\n",
            "204079/204079 [==============================] - 2s 10us/step - loss: 0.6413 - acc: 0.6284 - val_loss: 0.6517 - val_acc: 0.6183\n",
            "Epoch 48/10000\n",
            "204079/204079 [==============================] - 2s 10us/step - loss: 0.6409 - acc: 0.6285 - val_loss: 0.6520 - val_acc: 0.6177\n",
            "Epoch 49/10000\n",
            "204079/204079 [==============================] - 2s 10us/step - loss: 0.6404 - acc: 0.6297 - val_loss: 0.6518 - val_acc: 0.6183\n",
            "Epoch 50/10000\n",
            "204079/204079 [==============================] - 2s 10us/step - loss: 0.6391 - acc: 0.6312 - val_loss: 0.6520 - val_acc: 0.6184\n",
            "Epoch 51/10000\n",
            "204079/204079 [==============================] - 2s 10us/step - loss: 0.6395 - acc: 0.6303 - val_loss: 0.6517 - val_acc: 0.6187\n",
            "Epoch 52/10000\n",
            "204079/204079 [==============================] - 2s 10us/step - loss: 0.6382 - acc: 0.6308 - val_loss: 0.6521 - val_acc: 0.6191\n",
            "WARNING:tensorflow:This model was compiled with a Keras optimizer (<tensorflow.python.keras.optimizers.Adam object at 0x7efe20f7c208>) but is being saved in TensorFlow format with `save_weights`. The model's weights will be saved, but unlike with TensorFlow optimizers in the TensorFlow format the optimizer's state will not be saved.\n",
            "\n",
            "Consider using a TensorFlow optimizer from `tf.train`.\n"
          ],
          "name": "stdout"
        }
      ]
    },
    {
      "metadata": {
        "id": "rhjtCfbUAVeF",
        "colab_type": "code",
        "outputId": "0cb72613-9432-4957-f5a3-af7b16b5becf",
        "colab": {
          "base_uri": "https://localhost:8080/",
          "height": 753
        }
      },
      "cell_type": "code",
      "source": [
        "evaluate_model(features, params)"
      ],
      "execution_count": 38,
      "outputs": [
        {
          "output_type": "stream",
          "text": [
            "127548/127548 [==============================] - 0s 2us/step\n",
            "127548/127548 [==============================] - 0s 2us/step\n",
            "127548/127548 [==============================] - 0s 2us/step\n",
            "127548/127548 [==============================] - 0s 2us/step\n",
            "127548/127548 [==============================] - 0s 2us/step\n",
            "127548/127548 [==============================] - 0s 2us/step\n",
            "127548/127548 [==============================] - 0s 2us/step\n",
            "127548/127548 [==============================] - 0s 2us/step\n",
            "127548/127548 [==============================] - 0s 2us/step\n",
            "127548/127548 [==============================] - 0s 2us/step\n",
            "127548/127548 [==============================] - 0s 2us/step\n",
            "127548/127548 [==============================] - 0s 2us/step\n",
            "127548/127548 [==============================] - 0s 2us/step\n",
            "127548/127548 [==============================] - 0s 2us/step\n",
            "127548/127548 [==============================] - 0s 2us/step\n",
            "127548/127548 [==============================] - 0s 2us/step\n",
            "127548/127548 [==============================] - 0s 2us/step\n",
            "127548/127548 [==============================] - 0s 2us/step\n",
            "127548/127548 [==============================] - 0s 2us/step\n",
            "127548/127548 [==============================] - 0s 2us/step\n"
          ],
          "name": "stdout"
        },
        {
          "output_type": "display_data",
          "data": {
            "image/png": "[encoded data removed]",
            "text/plain": [
              "<matplotlib.figure.Figure at 0x7efdfae9b898>"
            ]
          },
          "metadata": {
            "tags": []
          }
        },
        {
          "output_type": "stream",
          "text": [
            "\n",
            "Accuracy:         0.6352\n",
            "Recall:           0.5851\n",
            "Precision:        0.6502\n",
            "F1:               0.6160\n",
            "AUROC:            0.6868\n",
            "AUPR:             0.6848\n"
          ],
          "name": "stdout"
        }
      ]
    },
    {
      "metadata": {
        "id": "BynnaZnV_suQ",
        "colab_type": "code",
        "colab": {}
      },
      "cell_type": "code",
      "source": [
        ""
      ],
      "execution_count": 0,
      "outputs": []
    }
  ]
}