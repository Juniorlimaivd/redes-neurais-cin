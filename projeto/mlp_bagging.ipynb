{
 "cells": [
  {
   "cell_type": "code",
   "execution_count": null,
   "metadata": {},
   "outputs": [],
   "source": [
    "import numpy as np\n",
    "\n",
    "import tensorflow as tf\n",
    "from tensorflow.keras.models import Sequential\n",
    "from tensorflow.keras.layers import Dense, Activation, Dropout\n",
    "from tensorflow.keras.callbacks import EarlyStopping\n",
    "from tensorflow.keras.optimizers import Adam, RMSprop, SGD\n",
    "from tensorflow.keras import backend as K\n",
    "\n",
    "from sklearn.preprocessing import StandardScaler"
   ]
  },
  {
   "cell_type": "code",
   "execution_count": null,
   "metadata": {},
   "outputs": [],
   "source": [
    "\"\"\"Only for google colab\"\"\"\n",
    "# from google.colab import drive\n",
    "# drive.mount('/content/gdrive', force_remount=True)"
   ]
  },
  {
   "cell_type": "code",
   "execution_count": null,
   "metadata": {},
   "outputs": [],
   "source": [
    "DATASET_PATH = \"\"\n",
    "MODELS_PATH = \"mlp_models/\"\n",
    "\n",
    "def load_data():\n",
    "    X_train = np.load(DATASET_PATH + \"X_train.npy\")\n",
    "    y_train = np.load(DATASET_PATH + \"y_train.npy\")\n",
    "    X_val = np.load(DATASET_PATH + \"X_val.npy\")\n",
    "    y_val = np.load(DATASET_PATH + \"y_val.npy\")\n",
    "    X_test = np.load(DATASET_PATH + \"X_test.npy\")\n",
    "    y_test = np.load(DATASET_PATH + \"y_test.npy\")\n",
    "    \n",
    "    train_perm = np.random.permutation(X_train.shape[0])\n",
    "    X_train, y_train = X_train[train_perm], y_train[train_perm]\n",
    "    val_perm = np.random.permutation(X_val.shape[0])\n",
    "    X_val, y_val = X_val[val_perm], y_val[val_perm]\n",
    "    test_perm = np.random.permutation(X_test.shape[0])\n",
    "    X_test, y_test = X_test[test_perm], y_test[test_perm]\n",
    "    \n",
    "    scaler = StandardScaler()\n",
    "    X_train = scaler.fit_transform(X_train)\n",
    "    X_val = scaler.fit_transform(X_val)\n",
    "    X_test = scaler.fit_transform(X_test)\n",
    "    \n",
    "    return X_train, y_train, X_val, y_val, X_test, y_test"
   ]
  },
  {
   "cell_type": "code",
   "execution_count": null,
   "metadata": {},
   "outputs": [],
   "source": [
    "def create_model(input_dim, output_dim, params):\n",
    "    n_layers = params[\"n_layers\"]\n",
    "    n_neurons = params[\"n_neurons\"]\n",
    "    dropout = params[\"dropout\"]\n",
    "    optimizer = params[\"optimizer\"]\n",
    "    activation = params[\"activation\"]\n",
    "    last_layer_activation = params[\"last_layer_activation\"]\n",
    "    loss = params[\"loss\"]\n",
    "    metrics = params[\"metrics\"]\n",
    "    \n",
    "    model = Sequential()\n",
    "    # Hidden layers\n",
    "    for n in range(n_layers):\n",
    "        if n == 0:\n",
    "            model.add(Dense(n_neurons[n], activation=activation, input_dim=input_dim))\n",
    "        else:\n",
    "            model.add(Dense(n_neurons[n], activation=activation))\n",
    "        if dropout != 0.0:\n",
    "            model.add(Dropout(dropout))\n",
    "    # Output layer\n",
    "    model.add(Dense(output_dim, activation=last_layer_activation))\n",
    "    \n",
    "    model.compile(optimizer=optimizer, loss=loss, metrics=metrics)\n",
    "    \n",
    "    return model"
   ]
  },
  {
   "cell_type": "code",
   "execution_count": null,
   "metadata": {},
   "outputs": [],
   "source": [
    "def create_emsemble(n_models, instances_ratio, features_ratio, params):\n",
    "    models = []\n",
    "    features_idx = []\n",
    "    for i in range(n_models):\n",
    "        instances = np.random.choice(range(X_train.shape[0]),\n",
    "                                     round(X_train.shape[0] * instances_ratio))\n",
    "        features = np.random.choice(range(X_train.shape[1]),\n",
    "                                    round(X_train.shape[1] * features_ratio))\n",
    "        \n",
    "        xi_train = X_train[instances, features]\n",
    "        yi_train = y_train[instances]\n",
    "        xi_val = X_val[:, features]\n",
    "        \n",
    "        model = create_model(xi_train.shape[1], yi_train.shape[1], params)\n",
    "        model.fit(xi_train, yi_train,\n",
    "                  batch_size=1024,\n",
    "                  epochs=10000,\n",
    "                  validation_data=(xi_val, y_val),\n",
    "                  callbacks=[EarlyStopping(patience=5)],\n",
    "                  verbose=1)\n",
    "        model.save_weights(MODELS_PATH + \"model-{}.hdf5\".format(i), overwrite=True)\n",
    "        \n",
    "        models.append(model)\n",
    "        features_idx.append(features)\n",
    "        \n",
    "        # Avoiding memory issues\n",
    "        K.clear_session()\n",
    "        \n",
    "    return models, features_idx"
   ]
  },
  {
   "cell_type": "code",
   "execution_count": null,
   "metadata": {},
   "outputs": [],
   "source": [
    "X_train, y_train, X_val, y_val, X_test, y_test = load_data()"
   ]
  },
  {
   "cell_type": "code",
   "execution_count": null,
   "metadata": {},
   "outputs": [],
   "source": [
    "params = {\n",
    "    \"n_layers\": 3,\n",
    "    \"n_neurons\": [1024, 1024, 1024],\n",
    "    \"dropout\": 0,\n",
    "    \"optimizer\": \"rmsprop\",\n",
    "    \"activation\": \"sigmoid\",\n",
    "    \"last_layer_activation\": \"sigmoid\",\n",
    "    \"loss\": \"binary_crossentropy\",\n",
    "    \"metrics\": [\"accuracy\"],\n",
    "}"
   ]
  }
 ],
 "metadata": {
  "kernelspec": {
   "display_name": "Python 3",
   "language": "python",
   "name": "python3"
  },
  "language_info": {
   "codemirror_mode": {
    "name": "ipython",
    "version": 3
   },
   "file_extension": ".py",
   "mimetype": "text/x-python",
   "name": "python",
   "nbconvert_exporter": "python",
   "pygments_lexer": "ipython3",
   "version": "3.6.6"
  }
 },
 "nbformat": 4,
 "nbformat_minor": 2
}
